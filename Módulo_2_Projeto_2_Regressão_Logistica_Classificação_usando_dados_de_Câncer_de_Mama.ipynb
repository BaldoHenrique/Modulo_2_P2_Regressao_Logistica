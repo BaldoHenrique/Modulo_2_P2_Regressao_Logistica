{
  "cells": [
    {
      "cell_type": "markdown",
      "metadata": {
        "id": "RCgH1WxH7iZw"
      },
      "source": [
        "# Projeto 2 - Classificação usando dados de Cancer de Mama\n",
        "## Breast Cancer Coimbra Data Set - UCI"
      ]
    },
    {
      "cell_type": "markdown",
      "source": [
        "Nome: Henrique Grandi Baldo"
      ],
      "metadata": {
        "id": "svPenRyI7qq6"
      }
    },
    {
      "cell_type": "markdown",
      "metadata": {
        "id": "TiaWEW407iZ2"
      },
      "source": [
        "## Introdução"
      ]
    },
    {
      "cell_type": "markdown",
      "metadata": {
        "id": "kTGjnnab7iZ2"
      },
      "source": [
        "O conjunto de dados de Cancer Mama esta localizado na plataforma UCI no seguinte link - https://archive.ics.uci.edu/ml/datasets/Breast+Cancer+Coimbra. O objetivo deste conjunto de dados é classificar se um individuo possui ou não cancer de mama a partir destas variaveis obtidas através do exame de sangue.\n",
        "\n",
        "\n",
        "Segue a descrição das variaveis:\n",
        "- Age: idade em anos\n",
        "- BMI: indice de massa corporal (kg/m2)\n",
        "- Glucose: nivel de glicose no sangue (mg/dL)\n",
        "- Insulin: nivel de insulina no sangue (µU/mL)\n",
        "- HOMA: nivel de resistencia a insulina\n",
        "- Leptin: leptina (ng/mL)\n",
        "- Adiponectin: Adiponectina (µg/mL)\n",
        "- Resistin: Resistina (ng/mL)\n",
        "- MCP-1: nivel de proteina MCP-1 (pg/dL)\n",
        "- Classification: é classificado como 1 sem cancer (grupo controle) e 2 com cancer (grupo paciente)\n",
        "\n",
        "Para mais informações, segue o link do artigo: https://bmccancer.biomedcentral.com/articles/10.1186/s12885-017-3877-1\n",
        "\n",
        "#### referencia: \n",
        "Patrício, M., Pereira, J., Crisóstomo, J., Matafome, P., Gomes, M., Seiça, R., & Caramelo, F. (2018). Using Resistin, glucose, age and BMI to predict the presence of breast cancer. BMC Cancer, 18(1)."
      ]
    },
    {
      "cell_type": "markdown",
      "metadata": {
        "id": "UbE2Wfrq7iZ3"
      },
      "source": [
        "# Sobre este projeto\n",
        "\n",
        "Neste projeto treine os conhecimentos aprendidos até o momento e que entenda algumas das dificuldades que pode ter quando for aplicar os mesmos. \n",
        "\n",
        "Os principais pontos que serão avaliados:\n",
        "\n",
        "- Levantamento de hipoteses\n",
        "- Manipulação de dados e criação de gráficos simples com o `Pandas`\n",
        "- Criar um modelo usando regressão logistica e justificar"
      ]
    },
    {
      "cell_type": "markdown",
      "metadata": {
        "id": "VBMVqJ4C7iZ4"
      },
      "source": [
        "# Preparação do ambiente\n",
        "\n",
        "- Acessem o link - https://archive.ics.uci.edu/ml/machine-learning-databases/00451/dataR2.csv e faça o download do conjunto de dados."
      ]
    },
    {
      "cell_type": "code",
      "source": [
        "# importando as bibliotecas necessárias:\n",
        "import pandas as pd\n",
        "import numpy as np\n",
        "\n",
        "import seaborn as sns\n",
        "import matplotlib.pyplot as plt\n",
        "import statsmodels.api as sm\n",
        "from patsy import dmatrices\n",
        "\n",
        "# bibliotecas para padronizar os dados e buscar pelas variaveis mais representativas\n",
        "from sklearn.preprocessing import StandardScaler\n",
        "from sklearn.feature_selection import RFE\n",
        "\n",
        "# separacao em treino/teste e modelo de regressao\n",
        "from sklearn.model_selection import train_test_split\n",
        "from sklearn.linear_model import LogisticRegression\n",
        "\n",
        "# metricas\n",
        "from sklearn.metrics import confusion_matrix"
      ],
    },
    {
      "cell_type": "code",
      "source": [
        "cancer = pd.read_csv('dataR2.csv')"
      ],
      "metadata": {
        "id": "oc8bcdE40wKO"
      },
      "execution_count": null,
      "outputs": []
    },
    {
      "cell_type": "code",
      "source": [
        "cancer.shape"
      ],
      "metadata": {
        "colab": {
          "base_uri": "https://localhost:8080/"
        },
        "id": "FHHfJDl77gxb",
        "outputId": "1645ceca-f5ba-4722-d935-0c8ede33d8e3"
      },
      "execution_count": null,
      "outputs": [
        {
          "output_type": "execute_result",
          "data": {
            "text/plain": [
              "(116, 10)"
            ]
          },
          "metadata": {},
          "execution_count": 3
        }
      ]
    },
    {
      "cell_type": "code",
      "source": [
        "cancer.head()"
      ],
      "metadata": {
        "colab": {
          "base_uri": "https://localhost:8080/",
          "height": 206
        },
        "id": "lf-WUcEw4WSp",
        "outputId": "1e1749f5-8196-44ef-cd4c-77ef720fd640"
      },
      "execution_count": null,
      "outputs": [
        {
          "output_type": "execute_result",
          "data": {
            "text/plain": [
              "   Age        BMI  Glucose  Insulin      HOMA   Leptin  Adiponectin  Resistin  \\\n",
              "0   48  23.500000       70    2.707  0.467409   8.8071     9.702400   7.99585   \n",
              "1   83  20.690495       92    3.115  0.706897   8.8438     5.429285   4.06405   \n",
              "2   82  23.124670       91    4.498  1.009651  17.9393    22.432040   9.27715   \n",
              "3   68  21.367521       77    3.226  0.612725   9.8827     7.169560  12.76600   \n",
              "4   86  21.111111       92    3.549  0.805386   6.6994     4.819240  10.57635   \n",
              "\n",
              "     MCP.1  Classification  \n",
              "0  417.114               1  \n",
              "1  468.786               1  \n",
              "2  554.697               1  \n",
              "3  928.220               1  \n",
              "4  773.920               1  "
            ],
            "text/html": [
              "\n",
              "  <div id=\"df-193c458c-9c17-486b-8fc5-1725be8a0dd1\">\n",
              "    <div class=\"colab-df-container\">\n",
              "      <div>\n",
              "<style scoped>\n",
              "    .dataframe tbody tr th:only-of-type {\n",
              "        vertical-align: middle;\n",
              "    }\n",
              "\n",
              "    .dataframe tbody tr th {\n",
              "        vertical-align: top;\n",
              "    }\n",
              "\n",
              "    .dataframe thead th {\n",
              "        text-align: right;\n",
              "    }\n",
              "</style>\n",
              "<table border=\"1\" class=\"dataframe\">\n",
              "  <thead>\n",
              "    <tr style=\"text-align: right;\">\n",
              "      <th></th>\n",
              "      <th>Age</th>\n",
              "      <th>BMI</th>\n",
              "      <th>Glucose</th>\n",
              "      <th>Insulin</th>\n",
              "      <th>HOMA</th>\n",
              "      <th>Leptin</th>\n",
              "      <th>Adiponectin</th>\n",
              "      <th>Resistin</th>\n",
              "      <th>MCP.1</th>\n",
              "      <th>Classification</th>\n",
              "    </tr>\n",
              "  </thead>\n",
              "  <tbody>\n",
              "    <tr>\n",
              "      <th>0</th>\n",
              "      <td>48</td>\n",
              "      <td>23.500000</td>\n",
              "      <td>70</td>\n",
              "      <td>2.707</td>\n",
              "      <td>0.467409</td>\n",
              "      <td>8.8071</td>\n",
              "      <td>9.702400</td>\n",
              "      <td>7.99585</td>\n",
              "      <td>417.114</td>\n",
              "      <td>1</td>\n",
              "    </tr>\n",
              "    <tr>\n",
              "      <th>1</th>\n",
              "      <td>83</td>\n",
              "      <td>20.690495</td>\n",
              "      <td>92</td>\n",
              "      <td>3.115</td>\n",
              "      <td>0.706897</td>\n",
              "      <td>8.8438</td>\n",
              "      <td>5.429285</td>\n",
              "      <td>4.06405</td>\n",
              "      <td>468.786</td>\n",
              "      <td>1</td>\n",
              "    </tr>\n",
              "    <tr>\n",
              "      <th>2</th>\n",
              "      <td>82</td>\n",
              "      <td>23.124670</td>\n",
              "      <td>91</td>\n",
              "      <td>4.498</td>\n",
              "      <td>1.009651</td>\n",
              "      <td>17.9393</td>\n",
              "      <td>22.432040</td>\n",
              "      <td>9.27715</td>\n",
              "      <td>554.697</td>\n",
              "      <td>1</td>\n",
              "    </tr>\n",
              "    <tr>\n",
              "      <th>3</th>\n",
              "      <td>68</td>\n",
              "      <td>21.367521</td>\n",
              "      <td>77</td>\n",
              "      <td>3.226</td>\n",
              "      <td>0.612725</td>\n",
              "      <td>9.8827</td>\n",
              "      <td>7.169560</td>\n",
              "      <td>12.76600</td>\n",
              "      <td>928.220</td>\n",
              "      <td>1</td>\n",
              "    </tr>\n",
              "    <tr>\n",
              "      <th>4</th>\n",
              "      <td>86</td>\n",
              "      <td>21.111111</td>\n",
              "      <td>92</td>\n",
              "      <td>3.549</td>\n",
              "      <td>0.805386</td>\n",
              "      <td>6.6994</td>\n",
              "      <td>4.819240</td>\n",
              "      <td>10.57635</td>\n",
              "      <td>773.920</td>\n",
              "      <td>1</td>\n",
              "    </tr>\n",
              "  </tbody>\n",
              "</table>\n",
              "</div>\n",
              "      <button class=\"colab-df-convert\" onclick=\"convertToInteractive('df-193c458c-9c17-486b-8fc5-1725be8a0dd1')\"\n",
              "              title=\"Convert this dataframe to an interactive table.\"\n",
              "              style=\"display:none;\">\n",
              "        \n",
              "  <svg xmlns=\"http://www.w3.org/2000/svg\" height=\"24px\"viewBox=\"0 0 24 24\"\n",
              "       width=\"24px\">\n",
              "    <path d=\"M0 0h24v24H0V0z\" fill=\"none\"/>\n",
              "    <path d=\"M18.56 5.44l.94 2.06.94-2.06 2.06-.94-2.06-.94-.94-2.06-.94 2.06-2.06.94zm-11 1L8.5 8.5l.94-2.06 2.06-.94-2.06-.94L8.5 2.5l-.94 2.06-2.06.94zm10 10l.94 2.06.94-2.06 2.06-.94-2.06-.94-.94-2.06-.94 2.06-2.06.94z\"/><path d=\"M17.41 7.96l-1.37-1.37c-.4-.4-.92-.59-1.43-.59-.52 0-1.04.2-1.43.59L10.3 9.45l-7.72 7.72c-.78.78-.78 2.05 0 2.83L4 21.41c.39.39.9.59 1.41.59.51 0 1.02-.2 1.41-.59l7.78-7.78 2.81-2.81c.8-.78.8-2.07 0-2.86zM5.41 20L4 18.59l7.72-7.72 1.47 1.35L5.41 20z\"/>\n",
              "  </svg>\n",
              "      </button>\n",
              "      \n",
              "  <style>\n",
              "    .colab-df-container {\n",
              "      display:flex;\n",
              "      flex-wrap:wrap;\n",
              "      gap: 12px;\n",
              "    }\n",
              "\n",
              "    .colab-df-convert {\n",
              "      background-color: #E8F0FE;\n",
              "      border: none;\n",
              "      border-radius: 50%;\n",
              "      cursor: pointer;\n",
              "      display: none;\n",
              "      fill: #1967D2;\n",
              "      height: 32px;\n",
              "      padding: 0 0 0 0;\n",
              "      width: 32px;\n",
              "    }\n",
              "\n",
              "    .colab-df-convert:hover {\n",
              "      background-color: #E2EBFA;\n",
              "      box-shadow: 0px 1px 2px rgba(60, 64, 67, 0.3), 0px 1px 3px 1px rgba(60, 64, 67, 0.15);\n",
              "      fill: #174EA6;\n",
              "    }\n",
              "\n",
              "    [theme=dark] .colab-df-convert {\n",
              "      background-color: #3B4455;\n",
              "      fill: #D2E3FC;\n",
              "    }\n",
              "\n",
              "    [theme=dark] .colab-df-convert:hover {\n",
              "      background-color: #434B5C;\n",
              "      box-shadow: 0px 1px 3px 1px rgba(0, 0, 0, 0.15);\n",
              "      filter: drop-shadow(0px 1px 2px rgba(0, 0, 0, 0.3));\n",
              "      fill: #FFFFFF;\n",
              "    }\n",
              "  </style>\n",
              "\n",
              "      <script>\n",
              "        const buttonEl =\n",
              "          document.querySelector('#df-193c458c-9c17-486b-8fc5-1725be8a0dd1 button.colab-df-convert');\n",
              "        buttonEl.style.display =\n",
              "          google.colab.kernel.accessAllowed ? 'block' : 'none';\n",
              "\n",
              "        async function convertToInteractive(key) {\n",
              "          const element = document.querySelector('#df-193c458c-9c17-486b-8fc5-1725be8a0dd1');\n",
              "          const dataTable =\n",
              "            await google.colab.kernel.invokeFunction('convertToInteractive',\n",
              "                                                     [key], {});\n",
              "          if (!dataTable) return;\n",
              "\n",
              "          const docLinkHtml = 'Like what you see? Visit the ' +\n",
              "            '<a target=\"_blank\" href=https://colab.research.google.com/notebooks/data_table.ipynb>data table notebook</a>'\n",
              "            + ' to learn more about interactive tables.';\n",
              "          element.innerHTML = '';\n",
              "          dataTable['output_type'] = 'display_data';\n",
              "          await google.colab.output.renderOutput(dataTable, element);\n",
              "          const docLink = document.createElement('div');\n",
              "          docLink.innerHTML = docLinkHtml;\n",
              "          element.appendChild(docLink);\n",
              "        }\n",
              "      </script>\n",
              "    </div>\n",
              "  </div>\n",
              "  "
            ]
          },
          "metadata": {},
          "execution_count": 4
        }
      ]
    },
    {
      "cell_type": "code",
      "source": [
        "cancer['Classification'].value_counts()"
      ],
      "metadata": {
        "colab": {
          "base_uri": "https://localhost:8080/"
        },
        "id": "_CvtvraoBUAO",
        "outputId": "e0c51385-02f9-479e-94b6-e5bb0a90f1dc"
      },
      "execution_count": null,
      "outputs": [
        {
          "output_type": "execute_result",
          "data": {
            "text/plain": [
              "2    64\n",
              "1    52\n",
              "Name: Classification, dtype: int64"
            ]
          },
          "metadata": {},
          "execution_count": 5
        }
      ]
    },
    {
      "cell_type": "markdown",
      "metadata": {
        "id": "35dk0qd57iZ4"
      },
      "source": [
        "# Exercicio 1. (2.0 pontos)\n",
        "\n",
        "Escreva em até quatro frases, uma breve apresentação sobre suas ideias do conjunto de dados e adicione qualquer contexto que possa ajudar os leitores a entendê-la."
      ]
    },
    {
      "cell_type": "markdown",
      "metadata": {
        "id": "KwEpY7wu7iZ5"
      },
      "source": [
        "**RESPOSTA** (VALE 2.0 pontos): \n",
        "* Neste projeto iremos trabalhar com dados coletados de 116 pessoas que apresentaram possíveis sintomas de câncer, alguns casos confirmados depois, outros não. O objetivo é tentar entender, através das informações coletadas, como podemos prever se tal paciente tem câncer de mama ou não com coletas de sangue rotineiras.\n",
        "* Iremos procurar entender cada dado coletado, para descobrir se é possível, quando olharmos para o conjunto das variáveis, prever se tal paciente tem câncer ou não, depois iremos confirmar os dados que prevemos com os dados reais e assim ter a noção de quão assertivo será o nosso modelo.\n",
        "* Para criar o modelo, neste projeto, iremos usar a Regressão logística, que será apresentada ao longo do trabalho."
      ]
    },
    {
      "cell_type": "markdown",
      "metadata": {
        "id": "frl2yLBu7iZ6"
      },
      "source": [
        "# Exercicio 2. (3.0 pontos)\n",
        "\n",
        "Explore seu conjunto de dados e crie uma história em torno deles! Pense sobre o objetivo que deseja transmitir para seus leitores."
      ]
    },
    {
      "cell_type": "markdown",
      "metadata": {
        "id": "qlcEZPOO7iZ6"
      },
      "source": [
        "**RESPOSTA** (VALE 0.6 pontos): \n",
        "* Quando pensamos em criar um modelo para prever algo é porque temos um objetivo final, e neste caso o objetivo é prever através de exames de sangue se uma pessoa tem possibilidade de apresentar sintomas de câncer de mama. Desta maneira é possível que procure um profissional para começar o tratamento com antecedência e assim minimizar os danos e as chances de agravamento da doença. \n",
        "* Com toda certeza nenhum método ou modelo é 100% garantido que terá êxito, mas se tivermos uma boa base e com isso conseguirmos adiantar possíveis pacientes com câncer de mama, todo este esforço terá sido válido.\n",
        "* A partir de agora iremos começar a olhar dado a dado, entender melhor, ver o que pode ser corrigido para que ao final deste trabalho possamos aplicar o moledo de regressão logística da melhor maneira possível.  "
      ]
    },
    {
      "cell_type": "markdown",
      "metadata": {
        "id": "8DDqQl6T7iZ7"
      },
      "source": [
        "Você precisa criar uma visualização explicativa, ajudando o leitor a identificar uma ou mais ideias-chave no conjunto de dados. Assim, qual visualização você acha interessante destacar?"
      ]
    },
    {
      "cell_type": "markdown",
      "source": [
        "- Começaremos em ordem, olhando a coluna \"Age\"(idade). Precisamos ver se temos algum valor nulo ou alguma informação que possa atrapalhar a modelagem. Além disso podemos ter uma descrição completa dos dados, count(quantidade total, mean(média), std(desvio médio), min(valor mínimo), 25%(primeiro quartil), 50%(mediana), 75%(terceiro quartil), max(valor máximo).\n",
        "- Outro ponto que olharemos é se há relação entre as variáveis, principalmente com a variável classificação, a qual diz se a pessoa tem câncer de mama ou não."
      ],
      "metadata": {
        "id": "qPVNDuyYdjQA"
      }
    },
    {
      "cell_type": "markdown",
      "source": [
        "##Age\n",
        "Olharemos as idades dos paciêntes"
      ],
      "metadata": {
        "id": "bh1-wD00JP4R"
      }
    },
    {
      "cell_type": "code",
      "execution_count": null,
      "metadata": {
        "colab": {
          "base_uri": "https://localhost:8080/",
          "height": 275
        },
        "id": "zENIrM9m7iZ7",
        "outputId": "188a9341-09b4-4d10-f4d0-1b30a2323954"
      },
      "outputs": [
        {
          "output_type": "stream",
          "name": "stdout",
          "text": [
            "Age: \n",
            "[48 83 82 68 86 49 89 76 73 75 34 29 25 24 38 44 47 61 64 32 36 35 54 45\n",
            " 50 66 53 28 43 51 67 69 60 77 71 78 85 42 62 59 46 72 55 41 81 65 58 40\n",
            " 52 74 57]\n",
            "count    116.000000\n",
            "mean      57.301724\n",
            "std       16.112766\n",
            "min       24.000000\n",
            "25%       45.000000\n",
            "50%       56.000000\n",
            "75%       71.000000\n",
            "max       89.000000\n",
            "Name: Age, dtype: float64\n"
          ]
        },
        {
          "output_type": "display_data",
          "data": {
            "text/plain": [
              "Empty DataFrame\n",
              "Columns: [Age, BMI, Glucose, Insulin, HOMA, Leptin, Adiponectin, Resistin, MCP.1, Classification]\n",
              "Index: []"
            ],
            "text/html": [
              "\n",
              "  <div id=\"df-21d996eb-2ef5-42a7-9ec5-df66e1b9fe7c\">\n",
              "    <div class=\"colab-df-container\">\n",
              "      <div>\n",
              "<style scoped>\n",
              "    .dataframe tbody tr th:only-of-type {\n",
              "        vertical-align: middle;\n",
              "    }\n",
              "\n",
              "    .dataframe tbody tr th {\n",
              "        vertical-align: top;\n",
              "    }\n",
              "\n",
              "    .dataframe thead th {\n",
              "        text-align: right;\n",
              "    }\n",
              "</style>\n",
              "<table border=\"1\" class=\"dataframe\">\n",
              "  <thead>\n",
              "    <tr style=\"text-align: right;\">\n",
              "      <th></th>\n",
              "      <th>Age</th>\n",
              "      <th>BMI</th>\n",
              "      <th>Glucose</th>\n",
              "      <th>Insulin</th>\n",
              "      <th>HOMA</th>\n",
              "      <th>Leptin</th>\n",
              "      <th>Adiponectin</th>\n",
              "      <th>Resistin</th>\n",
              "      <th>MCP.1</th>\n",
              "      <th>Classification</th>\n",
              "    </tr>\n",
              "  </thead>\n",
              "  <tbody>\n",
              "  </tbody>\n",
              "</table>\n",
              "</div>\n",
              "      <button class=\"colab-df-convert\" onclick=\"convertToInteractive('df-21d996eb-2ef5-42a7-9ec5-df66e1b9fe7c')\"\n",
              "              title=\"Convert this dataframe to an interactive table.\"\n",
              "              style=\"display:none;\">\n",
              "        \n",
              "  <svg xmlns=\"http://www.w3.org/2000/svg\" height=\"24px\"viewBox=\"0 0 24 24\"\n",
              "       width=\"24px\">\n",
              "    <path d=\"M0 0h24v24H0V0z\" fill=\"none\"/>\n",
              "    <path d=\"M18.56 5.44l.94 2.06.94-2.06 2.06-.94-2.06-.94-.94-2.06-.94 2.06-2.06.94zm-11 1L8.5 8.5l.94-2.06 2.06-.94-2.06-.94L8.5 2.5l-.94 2.06-2.06.94zm10 10l.94 2.06.94-2.06 2.06-.94-2.06-.94-.94-2.06-.94 2.06-2.06.94z\"/><path d=\"M17.41 7.96l-1.37-1.37c-.4-.4-.92-.59-1.43-.59-.52 0-1.04.2-1.43.59L10.3 9.45l-7.72 7.72c-.78.78-.78 2.05 0 2.83L4 21.41c.39.39.9.59 1.41.59.51 0 1.02-.2 1.41-.59l7.78-7.78 2.81-2.81c.8-.78.8-2.07 0-2.86zM5.41 20L4 18.59l7.72-7.72 1.47 1.35L5.41 20z\"/>\n",
              "  </svg>\n",
              "      </button>\n",
              "      \n",
              "  <style>\n",
              "    .colab-df-container {\n",
              "      display:flex;\n",
              "      flex-wrap:wrap;\n",
              "      gap: 12px;\n",
              "    }\n",
              "\n",
              "    .colab-df-convert {\n",
              "      background-color: #E8F0FE;\n",
              "      border: none;\n",
              "      border-radius: 50%;\n",
              "      cursor: pointer;\n",
              "      display: none;\n",
              "      fill: #1967D2;\n",
              "      height: 32px;\n",
              "      padding: 0 0 0 0;\n",
              "      width: 32px;\n",
              "    }\n",
              "\n",
              "    .colab-df-convert:hover {\n",
              "      background-color: #E2EBFA;\n",
              "      box-shadow: 0px 1px 2px rgba(60, 64, 67, 0.3), 0px 1px 3px 1px rgba(60, 64, 67, 0.15);\n",
              "      fill: #174EA6;\n",
              "    }\n",
              "\n",
              "    [theme=dark] .colab-df-convert {\n",
              "      background-color: #3B4455;\n",
              "      fill: #D2E3FC;\n",
              "    }\n",
              "\n",
              "    [theme=dark] .colab-df-convert:hover {\n",
              "      background-color: #434B5C;\n",
              "      box-shadow: 0px 1px 3px 1px rgba(0, 0, 0, 0.15);\n",
              "      filter: drop-shadow(0px 1px 2px rgba(0, 0, 0, 0.3));\n",
              "      fill: #FFFFFF;\n",
              "    }\n",
              "  </style>\n",
              "\n",
              "      <script>\n",
              "        const buttonEl =\n",
              "          document.querySelector('#df-21d996eb-2ef5-42a7-9ec5-df66e1b9fe7c button.colab-df-convert');\n",
              "        buttonEl.style.display =\n",
              "          google.colab.kernel.accessAllowed ? 'block' : 'none';\n",
              "\n",
              "        async function convertToInteractive(key) {\n",
              "          const element = document.querySelector('#df-21d996eb-2ef5-42a7-9ec5-df66e1b9fe7c');\n",
              "          const dataTable =\n",
              "            await google.colab.kernel.invokeFunction('convertToInteractive',\n",
              "                                                     [key], {});\n",
              "          if (!dataTable) return;\n",
              "\n",
              "          const docLinkHtml = 'Like what you see? Visit the ' +\n",
              "            '<a target=\"_blank\" href=https://colab.research.google.com/notebooks/data_table.ipynb>data table notebook</a>'\n",
              "            + ' to learn more about interactive tables.';\n",
              "          element.innerHTML = '';\n",
              "          dataTable['output_type'] = 'display_data';\n",
              "          await google.colab.output.renderOutput(dataTable, element);\n",
              "          const docLink = document.createElement('div');\n",
              "          docLink.innerHTML = docLinkHtml;\n",
              "          element.appendChild(docLink);\n",
              "        }\n",
              "      </script>\n",
              "    </div>\n",
              "  </div>\n",
              "  "
            ]
          },
          "metadata": {}
        }
      ],
      "source": [
        "#### VALE 0.6 pontos\n",
        "#### CONSTRUA OS SEUS GRAFICOS ABAIXO, USE MAIS CELULAS SE NECESSARIO\n",
        "\n",
        "print(\"Age\" + \": \")\n",
        "print(cancer[\"Age\"].unique())\n",
        "print(cancer[\"Age\"].describe())\n",
        "display (cancer[cancer[\"Age\"].isnull()])   #mostra se tem alguma coluna nula"
      ]
    },
    {
      "cell_type": "code",
      "source": [
        "sns.set_style('darkgrid')\n",
        "plt.figure(figsize=(18,4))\n",
        "\n",
        "plt.subplot(1, 2, 1) \n",
        "plt.boxplot(cancer['Age'])  \n",
        "plt.title('BLOXPLOT', fontsize=12)\n",
        "plt.ylabel('Idade'.upper(), fontsize=10)\n",
        "plt.grid(color='white')\n",
        "\n",
        "plt.subplot(1, 2, 2)\n",
        "plt.scatter(cancer['Age'], cancer['Classification'],s=10)  \n",
        "plt.title('Gráfico de Dispersão', fontsize=12)\n",
        "plt.xlabel('Idade'.upper(), fontsize=10)\n",
        "plt.ylabel('Classificação'.upper(), fontsize=10)\n",
        "plt.grid(color='white')"
      ],
      "metadata": {
        "colab": {
          "base_uri": "https://localhost:8080/",
          "height": 295
        },
        "id": "FxcNPbDfA784",
        "outputId": "47363fa1-3348-4cf3-ecd7-f1451480a193"
      },
      "execution_count": null,
      "outputs": [
        {
          "output_type": "display_data",
          "data": {
            "text/plain": [
              "<Figure size 1296x288 with 2 Axes>"
            ],
            "image/png": "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\n"
          },
          "metadata": {}
        }
      ]
    },
    {
      "cell_type": "markdown",
      "source": [
        "**Análise das Idades**\n",
        "Olhando para os dados da coluna \"Age\", chegamos a conclusão que temos amostras de todas as idades, elas se concentram entre 45 e 71 anos e não tem uma relação muito direta com a classificação. O que mais chama a atenção é que não temos pessoas muito novas classificadas com câncer(2.0), e a primeira pessoa se encontra classificada em 2.0 é entre os 30 e 40 anos."
      ],
      "metadata": {
        "id": "chrMypzEO5en"
      }
    },
    {
      "cell_type": "markdown",
      "source": [
        "##BMI\n",
        "Seguindo nossa análise, vamos olhar para os dados BMI(indice de massa corporal (kg/m2))"
      ],
      "metadata": {
        "id": "CKVkuFVGSR-P"
      }
    },
    {
      "cell_type": "code",
      "source": [
        "print(\"BMI\" + \": \")\n",
        "print(cancer[\"BMI\"].unique())\n",
        "print(cancer[\"BMI\"].describe())\n",
        "display (cancer[cancer[\"BMI\"].isnull()])"
      ],
      "metadata": {
        "colab": {
          "base_uri": "https://localhost:8080/",
          "height": 553
        },
        "id": "IZbkrkB-SiQb",
        "outputId": "8d31e2d0-e4eb-400f-f132-cdbf681fcc3c"
      },
      "execution_count": null,
      "outputs": [
        {
          "output_type": "stream",
          "name": "stdout",
          "text": [
            "BMI: \n",
            "[23.5        20.69049454 23.12467037 21.36752137 21.11111111 22.85445769\n",
            " 22.7        23.8        22.         23.         21.47       23.01\n",
            " 22.86       18.67       23.34       20.76       22.03       32.03895937\n",
            " 34.5297228  36.51263743 28.57667585 31.97501487 32.27078777 30.27681661\n",
            " 30.48315806 37.03560819 38.57875854 31.44654088 35.2507611  34.17489\n",
            " 36.21227888 36.7901662  35.85581466 34.42217362 27.68877813 29.60676726\n",
            " 31.2385898  35.09270153 26.34929208 35.58792924 29.2184076  27.2\n",
            " 27.3        32.5        30.3        27.7        25.7        25.3\n",
            " 29.4        26.6        27.1        25.9        21.30394858 20.82999519\n",
            " 20.9566075  24.24242424 21.35991456 21.08281329 19.13265306 22.65625\n",
            " 22.4996371  21.51385851 22.89281998 22.83287935 23.14049587 24.21875\n",
            " 22.22222222 20.83       19.56       20.26       24.74       18.37\n",
            " 23.62       22.21       26.5625     31.25       26.66666667 26.6727633\n",
            " 28.67262608 31.64036818 32.46191136 25.51020408 29.296875   29.666548\n",
            " 28.125      29.15451895 30.83653053 31.21748179 30.8012487  31.23140988\n",
            " 29.77777778 27.88761707 27.63605442 27.91551882 28.44444444 28.65013774\n",
            " 30.91557669 29.13631634 34.83814777 37.109375   29.38475666 33.18\n",
            " 35.56       30.48       36.05       26.85       26.84       32.05\n",
            " 25.59       27.18      ]\n",
            "count    116.000000\n",
            "mean      27.582111\n",
            "std        5.020136\n",
            "min       18.370000\n",
            "25%       22.973205\n",
            "50%       27.662416\n",
            "75%       31.241442\n",
            "max       38.578759\n",
            "Name: BMI, dtype: float64\n"
          ]
        },
        {
          "output_type": "display_data",
          "data": {
            "text/plain": [
              "Empty DataFrame\n",
              "Columns: [Age, BMI, Glucose, Insulin, HOMA, Leptin, Adiponectin, Resistin, MCP.1, Classification]\n",
              "Index: []"
            ],
            "text/html": [
              "\n",
              "  <div id=\"df-c42a946c-cc10-4c99-af50-5d7f7e15aae4\">\n",
              "    <div class=\"colab-df-container\">\n",
              "      <div>\n",
              "<style scoped>\n",
              "    .dataframe tbody tr th:only-of-type {\n",
              "        vertical-align: middle;\n",
              "    }\n",
              "\n",
              "    .dataframe tbody tr th {\n",
              "        vertical-align: top;\n",
              "    }\n",
              "\n",
              "    .dataframe thead th {\n",
              "        text-align: right;\n",
              "    }\n",
              "</style>\n",
              "<table border=\"1\" class=\"dataframe\">\n",
              "  <thead>\n",
              "    <tr style=\"text-align: right;\">\n",
              "      <th></th>\n",
              "      <th>Age</th>\n",
              "      <th>BMI</th>\n",
              "      <th>Glucose</th>\n",
              "      <th>Insulin</th>\n",
              "      <th>HOMA</th>\n",
              "      <th>Leptin</th>\n",
              "      <th>Adiponectin</th>\n",
              "      <th>Resistin</th>\n",
              "      <th>MCP.1</th>\n",
              "      <th>Classification</th>\n",
              "    </tr>\n",
              "  </thead>\n",
              "  <tbody>\n",
              "  </tbody>\n",
              "</table>\n",
              "</div>\n",
              "      <button class=\"colab-df-convert\" onclick=\"convertToInteractive('df-c42a946c-cc10-4c99-af50-5d7f7e15aae4')\"\n",
              "              title=\"Convert this dataframe to an interactive table.\"\n",
              "              style=\"display:none;\">\n",
              "        \n",
              "  <svg xmlns=\"http://www.w3.org/2000/svg\" height=\"24px\"viewBox=\"0 0 24 24\"\n",
              "       width=\"24px\">\n",
              "    <path d=\"M0 0h24v24H0V0z\" fill=\"none\"/>\n",
              "    <path d=\"M18.56 5.44l.94 2.06.94-2.06 2.06-.94-2.06-.94-.94-2.06-.94 2.06-2.06.94zm-11 1L8.5 8.5l.94-2.06 2.06-.94-2.06-.94L8.5 2.5l-.94 2.06-2.06.94zm10 10l.94 2.06.94-2.06 2.06-.94-2.06-.94-.94-2.06-.94 2.06-2.06.94z\"/><path d=\"M17.41 7.96l-1.37-1.37c-.4-.4-.92-.59-1.43-.59-.52 0-1.04.2-1.43.59L10.3 9.45l-7.72 7.72c-.78.78-.78 2.05 0 2.83L4 21.41c.39.39.9.59 1.41.59.51 0 1.02-.2 1.41-.59l7.78-7.78 2.81-2.81c.8-.78.8-2.07 0-2.86zM5.41 20L4 18.59l7.72-7.72 1.47 1.35L5.41 20z\"/>\n",
              "  </svg>\n",
              "      </button>\n",
              "      \n",
              "  <style>\n",
              "    .colab-df-container {\n",
              "      display:flex;\n",
              "      flex-wrap:wrap;\n",
              "      gap: 12px;\n",
              "    }\n",
              "\n",
              "    .colab-df-convert {\n",
              "      background-color: #E8F0FE;\n",
              "      border: none;\n",
              "      border-radius: 50%;\n",
              "      cursor: pointer;\n",
              "      display: none;\n",
              "      fill: #1967D2;\n",
              "      height: 32px;\n",
              "      padding: 0 0 0 0;\n",
              "      width: 32px;\n",
              "    }\n",
              "\n",
              "    .colab-df-convert:hover {\n",
              "      background-color: #E2EBFA;\n",
              "      box-shadow: 0px 1px 2px rgba(60, 64, 67, 0.3), 0px 1px 3px 1px rgba(60, 64, 67, 0.15);\n",
              "      fill: #174EA6;\n",
              "    }\n",
              "\n",
              "    [theme=dark] .colab-df-convert {\n",
              "      background-color: #3B4455;\n",
              "      fill: #D2E3FC;\n",
              "    }\n",
              "\n",
              "    [theme=dark] .colab-df-convert:hover {\n",
              "      background-color: #434B5C;\n",
              "      box-shadow: 0px 1px 3px 1px rgba(0, 0, 0, 0.15);\n",
              "      filter: drop-shadow(0px 1px 2px rgba(0, 0, 0, 0.3));\n",
              "      fill: #FFFFFF;\n",
              "    }\n",
              "  </style>\n",
              "\n",
              "      <script>\n",
              "        const buttonEl =\n",
              "          document.querySelector('#df-c42a946c-cc10-4c99-af50-5d7f7e15aae4 button.colab-df-convert');\n",
              "        buttonEl.style.display =\n",
              "          google.colab.kernel.accessAllowed ? 'block' : 'none';\n",
              "\n",
              "        async function convertToInteractive(key) {\n",
              "          const element = document.querySelector('#df-c42a946c-cc10-4c99-af50-5d7f7e15aae4');\n",
              "          const dataTable =\n",
              "            await google.colab.kernel.invokeFunction('convertToInteractive',\n",
              "                                                     [key], {});\n",
              "          if (!dataTable) return;\n",
              "\n",
              "          const docLinkHtml = 'Like what you see? Visit the ' +\n",
              "            '<a target=\"_blank\" href=https://colab.research.google.com/notebooks/data_table.ipynb>data table notebook</a>'\n",
              "            + ' to learn more about interactive tables.';\n",
              "          element.innerHTML = '';\n",
              "          dataTable['output_type'] = 'display_data';\n",
              "          await google.colab.output.renderOutput(dataTable, element);\n",
              "          const docLink = document.createElement('div');\n",
              "          docLink.innerHTML = docLinkHtml;\n",
              "          element.appendChild(docLink);\n",
              "        }\n",
              "      </script>\n",
              "    </div>\n",
              "  </div>\n",
              "  "
            ]
          },
          "metadata": {}
        }
      ]
    },
    {
      "cell_type": "code",
      "source": [
        "sns.set_style('darkgrid')\n",
        "plt.figure(figsize=(18,4))\n",
        "\n",
        "plt.subplot(1, 2, 1) \n",
        "plt.boxplot(cancer['BMI'])  \n",
        "plt.title('BLOXPLOT', fontsize=12)\n",
        "plt.ylabel('BMI'.upper(), fontsize=10)\n",
        "plt.grid(color='white')\n",
        "\n",
        "plt.subplot(1, 2, 2)\n",
        "plt.scatter(cancer['BMI'], cancer['Classification'],s=10)  \n",
        "plt.title('Gráfico de Dispersão', fontsize=12)\n",
        "plt.xlabel('BMI'.upper(), fontsize=10)\n",
        "plt.ylabel('Classificação'.upper(), fontsize=10)\n",
        "plt.grid(color='white')"
      ],
      "metadata": {
        "colab": {
          "base_uri": "https://localhost:8080/",
          "height": 295
        },
        "id": "5q7rZMP8SubW",
        "outputId": "852b9900-856a-4426-d3a9-61f3e2b1cd0a"
      },
      "execution_count": null,
      "outputs": [
        {
          "output_type": "display_data",
          "data": {
            "text/plain": [
              "<Figure size 1296x288 with 2 Axes>"
            ],
            "image/png": "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\n"
          },
          "metadata": {}
        }
      ]
    },
    {
      "cell_type": "markdown",
      "source": [
        "**IMC ;\tCLASSIFICAÇÃO ;\tOBESIDADE (GRAU)**\n",
        "- MENOR QUE 18,5 ;\tMAGREZA ;\t0\n",
        "- ENTRE 18,5 E 24,9 ;\tNORMAL ;\t0\n",
        "- ENTRE 25,0 E 29,9 ;\tSOBREPESO ;\tI\n",
        "- ENTRE 30,0 E 39,9 ;\tOBESIDADE ;\tII\n",
        "- MAIOR QUE 40,0 ;\tOBESIDADE GRAVE ;\tIII"
      ],
      "metadata": {
        "id": "_cWV_7v9TfyR"
      }
    },
    {
      "cell_type": "markdown",
      "source": [
        "**Análise do IMC**\n",
        "- Falando agora do Índice de Massa Corporal, o qual também temos dados bastante equilibrados, desde pessoas com níveis abaixo da magreza até quase chegando a obesidade grave. Aqui os dados acabam tendendo um pouco mais para o sobrepeso, tendo sua média em torno dos 27 kg/m2.\n",
        "- Olhando para o gráfico de dispersão temos que destacar que a maioria das pessoas com mais peso acabaram não sendo classificadas com câncer. Esse tipo de informação vai cada vez mais nos dando conhecimento sobre os dados que estamos trabalhando."
      ],
      "metadata": {
        "id": "7cRLuXYVTJh2"
      }
    },
    {
      "cell_type": "markdown",
      "source": [
        "##Glucose\n",
        "Seguindo para a \"Glucose\"(nivel de glicose no sangue (mg/dL))"
      ],
      "metadata": {
        "id": "Nd4IjR7bU4CW"
      }
    },
    {
      "cell_type": "code",
      "source": [
        "print(\"Glucose\" + \": \")\n",
        "print(cancer[\"Glucose\"].unique())\n",
        "print(cancer[\"Glucose\"].describe())\n",
        "display (cancer[cancer[\"Glucose\"].isnull()])"
      ],
      "metadata": {
        "colab": {
          "base_uri": "https://localhost:8080/",
          "height": 275
        },
        "id": "wUjofnilU-d7",
        "outputId": "40100d4c-157b-4000-d72b-6d39117bc968"
      },
      "execution_count": null,
      "outputs": [
        {
          "output_type": "stream",
          "name": "stdout",
          "text": [
            "Glucose: \n",
            "[ 70  92  91  77 118  97  83  78  82  88  75  86  84  85  95  87  90 106\n",
            "  80 101  89  79 103  76  94  93 102  60  96 110  74 112  98 116 114 105\n",
            " 201 100  99 196 199 139 128 134 131 104 108 152 119 138]\n",
            "count    116.000000\n",
            "mean      97.793103\n",
            "std       22.525162\n",
            "min       60.000000\n",
            "25%       85.750000\n",
            "50%       92.000000\n",
            "75%      102.000000\n",
            "max      201.000000\n",
            "Name: Glucose, dtype: float64\n"
          ]
        },
        {
          "output_type": "display_data",
          "data": {
            "text/plain": [
              "Empty DataFrame\n",
              "Columns: [Age, BMI, Glucose, Insulin, HOMA, Leptin, Adiponectin, Resistin, MCP.1, Classification]\n",
              "Index: []"
            ],
            "text/html": [
              "\n",
              "  <div id=\"df-772bcb90-e277-4228-8164-8e1b0c9e81f3\">\n",
              "    <div class=\"colab-df-container\">\n",
              "      <div>\n",
              "<style scoped>\n",
              "    .dataframe tbody tr th:only-of-type {\n",
              "        vertical-align: middle;\n",
              "    }\n",
              "\n",
              "    .dataframe tbody tr th {\n",
              "        vertical-align: top;\n",
              "    }\n",
              "\n",
              "    .dataframe thead th {\n",
              "        text-align: right;\n",
              "    }\n",
              "</style>\n",
              "<table border=\"1\" class=\"dataframe\">\n",
              "  <thead>\n",
              "    <tr style=\"text-align: right;\">\n",
              "      <th></th>\n",
              "      <th>Age</th>\n",
              "      <th>BMI</th>\n",
              "      <th>Glucose</th>\n",
              "      <th>Insulin</th>\n",
              "      <th>HOMA</th>\n",
              "      <th>Leptin</th>\n",
              "      <th>Adiponectin</th>\n",
              "      <th>Resistin</th>\n",
              "      <th>MCP.1</th>\n",
              "      <th>Classification</th>\n",
              "    </tr>\n",
              "  </thead>\n",
              "  <tbody>\n",
              "  </tbody>\n",
              "</table>\n",
              "</div>\n",
              "      <button class=\"colab-df-convert\" onclick=\"convertToInteractive('df-772bcb90-e277-4228-8164-8e1b0c9e81f3')\"\n",
              "              title=\"Convert this dataframe to an interactive table.\"\n",
              "              style=\"display:none;\">\n",
              "        \n",
              "  <svg xmlns=\"http://www.w3.org/2000/svg\" height=\"24px\"viewBox=\"0 0 24 24\"\n",
              "       width=\"24px\">\n",
              "    <path d=\"M0 0h24v24H0V0z\" fill=\"none\"/>\n",
              "    <path d=\"M18.56 5.44l.94 2.06.94-2.06 2.06-.94-2.06-.94-.94-2.06-.94 2.06-2.06.94zm-11 1L8.5 8.5l.94-2.06 2.06-.94-2.06-.94L8.5 2.5l-.94 2.06-2.06.94zm10 10l.94 2.06.94-2.06 2.06-.94-2.06-.94-.94-2.06-.94 2.06-2.06.94z\"/><path d=\"M17.41 7.96l-1.37-1.37c-.4-.4-.92-.59-1.43-.59-.52 0-1.04.2-1.43.59L10.3 9.45l-7.72 7.72c-.78.78-.78 2.05 0 2.83L4 21.41c.39.39.9.59 1.41.59.51 0 1.02-.2 1.41-.59l7.78-7.78 2.81-2.81c.8-.78.8-2.07 0-2.86zM5.41 20L4 18.59l7.72-7.72 1.47 1.35L5.41 20z\"/>\n",
              "  </svg>\n",
              "      </button>\n",
              "      \n",
              "  <style>\n",
              "    .colab-df-container {\n",
              "      display:flex;\n",
              "      flex-wrap:wrap;\n",
              "      gap: 12px;\n",
              "    }\n",
              "\n",
              "    .colab-df-convert {\n",
              "      background-color: #E8F0FE;\n",
              "      border: none;\n",
              "      border-radius: 50%;\n",
              "      cursor: pointer;\n",
              "      display: none;\n",
              "      fill: #1967D2;\n",
              "      height: 32px;\n",
              "      padding: 0 0 0 0;\n",
              "      width: 32px;\n",
              "    }\n",
              "\n",
              "    .colab-df-convert:hover {\n",
              "      background-color: #E2EBFA;\n",
              "      box-shadow: 0px 1px 2px rgba(60, 64, 67, 0.3), 0px 1px 3px 1px rgba(60, 64, 67, 0.15);\n",
              "      fill: #174EA6;\n",
              "    }\n",
              "\n",
              "    [theme=dark] .colab-df-convert {\n",
              "      background-color: #3B4455;\n",
              "      fill: #D2E3FC;\n",
              "    }\n",
              "\n",
              "    [theme=dark] .colab-df-convert:hover {\n",
              "      background-color: #434B5C;\n",
              "      box-shadow: 0px 1px 3px 1px rgba(0, 0, 0, 0.15);\n",
              "      filter: drop-shadow(0px 1px 2px rgba(0, 0, 0, 0.3));\n",
              "      fill: #FFFFFF;\n",
              "    }\n",
              "  </style>\n",
              "\n",
              "      <script>\n",
              "        const buttonEl =\n",
              "          document.querySelector('#df-772bcb90-e277-4228-8164-8e1b0c9e81f3 button.colab-df-convert');\n",
              "        buttonEl.style.display =\n",
              "          google.colab.kernel.accessAllowed ? 'block' : 'none';\n",
              "\n",
              "        async function convertToInteractive(key) {\n",
              "          const element = document.querySelector('#df-772bcb90-e277-4228-8164-8e1b0c9e81f3');\n",
              "          const dataTable =\n",
              "            await google.colab.kernel.invokeFunction('convertToInteractive',\n",
              "                                                     [key], {});\n",
              "          if (!dataTable) return;\n",
              "\n",
              "          const docLinkHtml = 'Like what you see? Visit the ' +\n",
              "            '<a target=\"_blank\" href=https://colab.research.google.com/notebooks/data_table.ipynb>data table notebook</a>'\n",
              "            + ' to learn more about interactive tables.';\n",
              "          element.innerHTML = '';\n",
              "          dataTable['output_type'] = 'display_data';\n",
              "          await google.colab.output.renderOutput(dataTable, element);\n",
              "          const docLink = document.createElement('div');\n",
              "          docLink.innerHTML = docLinkHtml;\n",
              "          element.appendChild(docLink);\n",
              "        }\n",
              "      </script>\n",
              "    </div>\n",
              "  </div>\n",
              "  "
            ]
          },
          "metadata": {}
        }
      ]
    },
    {
      "cell_type": "code",
      "source": [
        "sns.set_style('darkgrid')\n",
        "plt.figure(figsize=(18,4))\n",
        "\n",
        "plt.subplot(1, 2, 1) \n",
        "plt.boxplot(cancer['Glucose'])  \n",
        "plt.title('BLOXPLOT', fontsize=12)\n",
        "plt.ylabel('Glicose'.upper(), fontsize=10)\n",
        "plt.grid(color='white')\n",
        "\n",
        "plt.subplot(1, 2, 2)\n",
        "plt.scatter(cancer['Glucose'], cancer['Classification'],s=10)  \n",
        "plt.title('Gráfico de Dispersão', fontsize=12)\n",
        "plt.xlabel('Glicose'.upper(), fontsize=10)\n",
        "plt.ylabel('Classificação'.upper(), fontsize=10)\n",
        "plt.grid(color='white')"
      ],
      "metadata": {
        "colab": {
          "base_uri": "https://localhost:8080/",
          "height": 295
        },
        "id": "2csq89koVKDk",
        "outputId": "5b540786-7c5a-4be3-84a7-c218331de73a"
      },
      "execution_count": null,
      "outputs": [
        {
          "output_type": "display_data",
          "data": {
            "text/plain": [
              "<Figure size 1296x288 with 2 Axes>"
            ],
            "image/png": "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\n"
          },
          "metadata": {}
        }
      ]
    },
    {
      "cell_type": "markdown",
      "source": [
        "**VALORES DE REFERÊNCIA DE GLICEMIA**\n",
        "- Glicemia de jejum normal: inferior a 99 mg/dL;\n",
        "- Glicemia de jejum alterada: entre 100 mg/dL e 125 mg/dL;\n",
        "- Diabetes: igual ou superior a 126 mg/dL;\n",
        "- Glicemia de jejum baixa ou hipoglicemia: igual ou inferior a 70 mg/dL."
      ],
      "metadata": {
        "id": "P7JinVwu4bQ2"
      }
    },
    {
      "cell_type": "markdown",
      "source": [
        "**Análise do nível de Glicose**\n",
        "- Olhando para os dados da glicose não encontramos nenhum incorreto, porém, diferente da idade e do IMC, esse apresenta outliers, valores muito altos. A maioria dos dados se concentram entre 85 e 102 mg/dL e temos valores de glicose chegando a 200 mg/dl.\n",
        "- Importante ressaltar que todos os pacientes que apresentaram glicose acima de 126 mg/dl, os considerados com diabetes, ao final, apresentaram estar com câncer de mama, isso mostra que aqui temos uma relação direta entre o índice glicêmico e o câncer de mama.\n",
        "- Claro, também tivemos pacientes com baixo índice glicêmico que foram diagnosticados com câncer, mas estes podem encontrar outras explicações, o que continuaremos a entender com as próximas variáveis."
      ],
      "metadata": {
        "id": "phsQYSi23puI"
      }
    },
    {
      "cell_type": "markdown",
      "source": [
        "##Insulin\n",
        "nivel de insulina no sangue (µU/mL)"
      ],
      "metadata": {
        "id": "KDhvJY2b60UD"
      }
    },
    {
      "cell_type": "code",
      "source": [
        "print(\"Insulin\" + \": \")\n",
        "print(cancer[\"Insulin\"].unique())\n",
        "print(cancer[\"Insulin\"].describe())\n",
        "display (cancer[cancer[\"Insulin\"].isnull()])"
      ],
      "metadata": {
        "colab": {
          "base_uri": "https://localhost:8080/",
          "height": 431
        },
        "id": "Daz6t7Jj6Rqa",
        "outputId": "2a51e58f-1b3f-45be-fca3-665c90f07b2f"
      },
      "execution_count": null,
      "outputs": [
        {
          "output_type": "stream",
          "name": "stdout",
          "text": [
            "Insulin: \n",
            "[ 2.707  3.115  4.498  3.226  3.549  4.69   6.47   3.35   4.952  3.469\n",
            "  5.663  4.09   6.107  5.782  7.553  2.869 18.077  4.427 14.026  4.345\n",
            "  4.53   5.81   4.376  5.537  6.76   6.703  9.245  6.817  6.59  15.533\n",
            " 10.175  8.576 23.194  3.855  5.819  4.181  5.646  5.138  3.881  5.376\n",
            " 14.07   5.197  5.43   8.34   6.042  8.079  3.508 10.704  4.462 26.211\n",
            "  4.58  13.852  4.56  12.305 21.699  2.999  6.2    4.364  3.482  5.261\n",
            "  6.683  2.64   2.74   6.862  4.902  3.73   5.7    3.42  15.89   3.44\n",
            " 58.46   6.03   4.42  36.94  10.555 16.635  4.328 41.611 22.033  3.188\n",
            "  9.669 28.677 10.395  4.172 14.649  2.54  51.814 12.162 16.582 41.894\n",
            " 30.212 24.887 30.13   8.396  9.208  2.432 18.2    8.808  3.012  6.524\n",
            " 10.491 10.949 12.548  5.636  4.713  5.75   8.15   7.01  11.91   3.33\n",
            "  5.73   2.82  19.91 ]\n",
            "count    116.000000\n",
            "mean      10.012086\n",
            "std       10.067768\n",
            "min        2.432000\n",
            "25%        4.359250\n",
            "50%        5.924500\n",
            "75%       11.189250\n",
            "max       58.460000\n",
            "Name: Insulin, dtype: float64\n"
          ]
        },
        {
          "output_type": "display_data",
          "data": {
            "text/plain": [
              "Empty DataFrame\n",
              "Columns: [Age, BMI, Glucose, Insulin, HOMA, Leptin, Adiponectin, Resistin, MCP.1, Classification]\n",
              "Index: []"
            ],
            "text/html": [
              "\n",
              "  <div id=\"df-2a0bc6e5-7d7f-42cd-8907-cefcfeb27f7e\">\n",
              "    <div class=\"colab-df-container\">\n",
              "      <div>\n",
              "<style scoped>\n",
              "    .dataframe tbody tr th:only-of-type {\n",
              "        vertical-align: middle;\n",
              "    }\n",
              "\n",
              "    .dataframe tbody tr th {\n",
              "        vertical-align: top;\n",
              "    }\n",
              "\n",
              "    .dataframe thead th {\n",
              "        text-align: right;\n",
              "    }\n",
              "</style>\n",
              "<table border=\"1\" class=\"dataframe\">\n",
              "  <thead>\n",
              "    <tr style=\"text-align: right;\">\n",
              "      <th></th>\n",
              "      <th>Age</th>\n",
              "      <th>BMI</th>\n",
              "      <th>Glucose</th>\n",
              "      <th>Insulin</th>\n",
              "      <th>HOMA</th>\n",
              "      <th>Leptin</th>\n",
              "      <th>Adiponectin</th>\n",
              "      <th>Resistin</th>\n",
              "      <th>MCP.1</th>\n",
              "      <th>Classification</th>\n",
              "    </tr>\n",
              "  </thead>\n",
              "  <tbody>\n",
              "  </tbody>\n",
              "</table>\n",
              "</div>\n",
              "      <button class=\"colab-df-convert\" onclick=\"convertToInteractive('df-2a0bc6e5-7d7f-42cd-8907-cefcfeb27f7e')\"\n",
              "              title=\"Convert this dataframe to an interactive table.\"\n",
              "              style=\"display:none;\">\n",
              "        \n",
              "  <svg xmlns=\"http://www.w3.org/2000/svg\" height=\"24px\"viewBox=\"0 0 24 24\"\n",
              "       width=\"24px\">\n",
              "    <path d=\"M0 0h24v24H0V0z\" fill=\"none\"/>\n",
              "    <path d=\"M18.56 5.44l.94 2.06.94-2.06 2.06-.94-2.06-.94-.94-2.06-.94 2.06-2.06.94zm-11 1L8.5 8.5l.94-2.06 2.06-.94-2.06-.94L8.5 2.5l-.94 2.06-2.06.94zm10 10l.94 2.06.94-2.06 2.06-.94-2.06-.94-.94-2.06-.94 2.06-2.06.94z\"/><path d=\"M17.41 7.96l-1.37-1.37c-.4-.4-.92-.59-1.43-.59-.52 0-1.04.2-1.43.59L10.3 9.45l-7.72 7.72c-.78.78-.78 2.05 0 2.83L4 21.41c.39.39.9.59 1.41.59.51 0 1.02-.2 1.41-.59l7.78-7.78 2.81-2.81c.8-.78.8-2.07 0-2.86zM5.41 20L4 18.59l7.72-7.72 1.47 1.35L5.41 20z\"/>\n",
              "  </svg>\n",
              "      </button>\n",
              "      \n",
              "  <style>\n",
              "    .colab-df-container {\n",
              "      display:flex;\n",
              "      flex-wrap:wrap;\n",
              "      gap: 12px;\n",
              "    }\n",
              "\n",
              "    .colab-df-convert {\n",
              "      background-color: #E8F0FE;\n",
              "      border: none;\n",
              "      border-radius: 50%;\n",
              "      cursor: pointer;\n",
              "      display: none;\n",
              "      fill: #1967D2;\n",
              "      height: 32px;\n",
              "      padding: 0 0 0 0;\n",
              "      width: 32px;\n",
              "    }\n",
              "\n",
              "    .colab-df-convert:hover {\n",
              "      background-color: #E2EBFA;\n",
              "      box-shadow: 0px 1px 2px rgba(60, 64, 67, 0.3), 0px 1px 3px 1px rgba(60, 64, 67, 0.15);\n",
              "      fill: #174EA6;\n",
              "    }\n",
              "\n",
              "    [theme=dark] .colab-df-convert {\n",
              "      background-color: #3B4455;\n",
              "      fill: #D2E3FC;\n",
              "    }\n",
              "\n",
              "    [theme=dark] .colab-df-convert:hover {\n",
              "      background-color: #434B5C;\n",
              "      box-shadow: 0px 1px 3px 1px rgba(0, 0, 0, 0.15);\n",
              "      filter: drop-shadow(0px 1px 2px rgba(0, 0, 0, 0.3));\n",
              "      fill: #FFFFFF;\n",
              "    }\n",
              "  </style>\n",
              "\n",
              "      <script>\n",
              "        const buttonEl =\n",
              "          document.querySelector('#df-2a0bc6e5-7d7f-42cd-8907-cefcfeb27f7e button.colab-df-convert');\n",
              "        buttonEl.style.display =\n",
              "          google.colab.kernel.accessAllowed ? 'block' : 'none';\n",
              "\n",
              "        async function convertToInteractive(key) {\n",
              "          const element = document.querySelector('#df-2a0bc6e5-7d7f-42cd-8907-cefcfeb27f7e');\n",
              "          const dataTable =\n",
              "            await google.colab.kernel.invokeFunction('convertToInteractive',\n",
              "                                                     [key], {});\n",
              "          if (!dataTable) return;\n",
              "\n",
              "          const docLinkHtml = 'Like what you see? Visit the ' +\n",
              "            '<a target=\"_blank\" href=https://colab.research.google.com/notebooks/data_table.ipynb>data table notebook</a>'\n",
              "            + ' to learn more about interactive tables.';\n",
              "          element.innerHTML = '';\n",
              "          dataTable['output_type'] = 'display_data';\n",
              "          await google.colab.output.renderOutput(dataTable, element);\n",
              "          const docLink = document.createElement('div');\n",
              "          docLink.innerHTML = docLinkHtml;\n",
              "          element.appendChild(docLink);\n",
              "        }\n",
              "      </script>\n",
              "    </div>\n",
              "  </div>\n",
              "  "
            ]
          },
          "metadata": {}
        }
      ]
    },
    {
      "cell_type": "code",
      "source": [
        "sns.set_style('darkgrid')\n",
        "plt.figure(figsize=(18,4))\n",
        "\n",
        "plt.subplot(1, 2, 1) \n",
        "plt.boxplot(cancer['Insulin'])  \n",
        "plt.title('BLOXPLOT', fontsize=12)\n",
        "plt.ylabel('Insulina'.upper(), fontsize=10)\n",
        "plt.grid(color='white')\n",
        "\n",
        "plt.subplot(1, 2, 2)\n",
        "plt.scatter(cancer['Insulin'], cancer['Classification'],s=10)  \n",
        "plt.title('Gráfico de Dispersão', fontsize=12)\n",
        "plt.xlabel('Insulina'.upper(), fontsize=10)\n",
        "plt.ylabel('Classificação'.upper(), fontsize=10)\n",
        "plt.grid(color='white')"
      ],
      "metadata": {
        "colab": {
          "base_uri": "https://localhost:8080/",
          "height": 295
        },
        "id": "BQAi9wjq69qU",
        "outputId": "f84865d9-47be-4824-d24c-7a5ec670097a"
      },
      "execution_count": null,
      "outputs": [
        {
          "output_type": "display_data",
          "data": {
            "text/plain": [
              "<Figure size 1296x288 with 2 Axes>"
            ],
            "image/png": "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\n"
          },
          "metadata": {}
        }
      ]
    },
    {
      "cell_type": "markdown",
      "source": [
        "Quando a **insulina em jejum** é superior a *5 µIU / mL* , isso indica um problema metabólico, como o pré-diabetes , que aumenta acentuadamente o risco de doenças degenerativas."
      ],
      "metadata": {
        "id": "YQE6C0wQ7Teh"
      }
    },
    {
      "cell_type": "markdown",
      "source": [
        "**Análise dos níveis de Insulina**\n",
        "- O que vemos agora, assim como no caso da glicose, que temos valores muito altos, fora do padrão, enquanto a média é 5 µIU/mL temos pacientes apresentando quase 60 µIU/mL, estes também sendo diagnosticados com câncer, logo encontramos outro dado com uma relação direta com a nossa classificação.\n",
        "- Agora abaixo, tentaremos entender se o nível de insulina tem relação com a IMC e o nível de glicose."
      ],
      "metadata": {
        "id": "Zyr8UAH99Yh5"
      }
    },
    {
      "cell_type": "code",
      "source": [
        "sns.set_style('darkgrid')\n",
        "plt.figure(figsize=(18,4))\n",
        "\n",
        "plt.subplot(1, 2, 1) \n",
        "plt.scatter(cancer['Insulin'], cancer['BMI'],s=10)  \n",
        "plt.title('Gráfico de Dispersão', fontsize=12)\n",
        "plt.xlabel('Insulina'.upper(), fontsize=10)\n",
        "plt.ylabel('IMC'.upper(), fontsize=10)\n",
        "plt.grid(color='white')\n",
        "\n",
        "plt.subplot(1, 2, 2)\n",
        "plt.scatter(cancer['Insulin'], cancer['Glucose'],s=10)  \n",
        "plt.title('Gráfico de Dispersão', fontsize=12)\n",
        "plt.xlabel('Insulina'.upper(), fontsize=10)\n",
        "plt.ylabel('glicose'.upper(), fontsize=10)\n",
        "plt.grid(color='white')"
      ],
      "metadata": {
        "colab": {
          "base_uri": "https://localhost:8080/",
          "height": 295
        },
        "id": "8G-CelfaHC4t",
        "outputId": "ff03189a-4e74-4813-b002-0bb04c98bf8f"
      },
      "execution_count": null,
      "outputs": [
        {
          "output_type": "display_data",
          "data": {
            "text/plain": [
              "<Figure size 1296x288 with 2 Axes>"
            ],
            "image/png": "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\n"
          },
          "metadata": {}
        }
      ]
    },
    {
      "cell_type": "markdown",
      "source": [
        "- Podemos ver na verdade que no nosso caso não encontramos a relação que esperávamos, entre o IMC e a INSULINA não tiramos nenhuma conclusão. \n",
        "- Entre a GLICOSE e a INSULINA em alguns caso elas têm uma relação, mas é uma relação baixa, acredito que nesse caso não faz muito sentido olhar paraa estes separadamente, talvez se tivéssemos mais amostras conseguiríamos encontrar uma relação melhor."
      ],
      "metadata": {
        "id": "qCkR6vYXHsrM"
      }
    },
    {
      "cell_type": "markdown",
      "source": [
        "##HOMA\n",
        "nivel de resistencia a insulina - Outra forma de diagnosticar a resistência à insulina é calcular o índice HOMA, que é um cálculo realizado para avaliar a relação entre a quantidade de açúcar e a quantidade de insulina no sangue."
      ],
      "metadata": {
        "id": "gzNca9Pe-yXt"
      }
    },
    {
      "cell_type": "code",
      "source": [
        "print(\"HOMA\" + \": \")\n",
        "print(cancer[\"HOMA\"].unique())\n",
        "print(cancer[\"HOMA\"].describe())\n",
        "display (cancer[cancer[\"HOMA\"].isnull()])"
      ],
      "metadata": {
        "colab": {
          "base_uri": "https://localhost:8080/",
          "height": 570
        },
        "id": "4Fi_riP0_CCQ",
        "outputId": "ed3da40d-c171-4300-f063-37384e9f5a09"
      },
      "execution_count": null,
      "outputs": [
        {
          "output_type": "stream",
          "name": "stdout",
          "text": [
            "HOMA: \n",
            "[ 0.46740867  0.70689733  1.00965107  0.61272493  0.8053864   0.73208693\n",
            "  0.89078733  1.88320133  0.80154333  1.01383947  0.6674356   1.14543613\n",
            "  0.82727067  1.33        1.06967     1.6         0.59        3.79014433\n",
            "  1.03739367  3.0099796   0.92171933  0.972138    1.203832    0.9067072\n",
            "  1.229214    1.38399733  1.75261107  2.05239     1.513374    1.30042667\n",
            "  3.86978807  2.53493167  1.8404096   5.09185613  0.732193    1.13392913\n",
            "  0.84567693  1.4066068   1.30539453  0.72755813  1.1006464   3.262364\n",
            "  1.08963767  1.245642    2.098344    1.341324    1.8732508   0.519184\n",
            "  2.3498848   1.0566016   7.111918    0.96027333  3.4851632   0.832352\n",
            "  2.85311933  4.9242264   0.6879706   1.55992     1.0011016   0.79018187\n",
            "  1.23282767  1.84629013  0.507936    0.69614267  1.65877413  1.4026256\n",
            "  0.79125733  1.37788     0.742368    4.468268    0.78065067 15.28534133\n",
            "  1.56177     1.14478     7.83620533  2.62960233  3.775036    1.09960053\n",
            " 20.6307338   5.27176247  0.60550747  2.38502     7.0029234   2.871792\n",
            "  1.00851147  3.071407    0.56388    25.05034187  5.9699204   5.68541507\n",
            " 13.22733227  4.45899333  6.4834952   8.22598307  9.73600733  1.44970933\n",
            "  2.2485936   0.61789013  4.66890667  2.3464512   0.6538048   1.43223547\n",
            "  2.5101466   2.24162527  2.94041467  1.86288587  1.046286    1.30486667\n",
            "  2.63353667  2.62828267  3.495982    0.755688    1.1174      1.370998\n",
            "  0.570392    6.777364  ]\n",
            "count    116.000000\n",
            "mean       2.694988\n",
            "std        3.642043\n",
            "min        0.467409\n",
            "25%        0.917966\n",
            "50%        1.380939\n",
            "75%        2.857787\n",
            "max       25.050342\n",
            "Name: HOMA, dtype: float64\n"
          ]
        },
        {
          "output_type": "display_data",
          "data": {
            "text/plain": [
              "Empty DataFrame\n",
              "Columns: [Age, BMI, Glucose, Insulin, HOMA, Leptin, Adiponectin, Resistin, MCP.1, Classification]\n",
              "Index: []"
            ],
            "text/html": [
              "\n",
              "  <div id=\"df-4ddf3c94-4c45-4b64-beb3-a351f8356705\">\n",
              "    <div class=\"colab-df-container\">\n",
              "      <div>\n",
              "<style scoped>\n",
              "    .dataframe tbody tr th:only-of-type {\n",
              "        vertical-align: middle;\n",
              "    }\n",
              "\n",
              "    .dataframe tbody tr th {\n",
              "        vertical-align: top;\n",
              "    }\n",
              "\n",
              "    .dataframe thead th {\n",
              "        text-align: right;\n",
              "    }\n",
              "</style>\n",
              "<table border=\"1\" class=\"dataframe\">\n",
              "  <thead>\n",
              "    <tr style=\"text-align: right;\">\n",
              "      <th></th>\n",
              "      <th>Age</th>\n",
              "      <th>BMI</th>\n",
              "      <th>Glucose</th>\n",
              "      <th>Insulin</th>\n",
              "      <th>HOMA</th>\n",
              "      <th>Leptin</th>\n",
              "      <th>Adiponectin</th>\n",
              "      <th>Resistin</th>\n",
              "      <th>MCP.1</th>\n",
              "      <th>Classification</th>\n",
              "    </tr>\n",
              "  </thead>\n",
              "  <tbody>\n",
              "  </tbody>\n",
              "</table>\n",
              "</div>\n",
              "      <button class=\"colab-df-convert\" onclick=\"convertToInteractive('df-4ddf3c94-4c45-4b64-beb3-a351f8356705')\"\n",
              "              title=\"Convert this dataframe to an interactive table.\"\n",
              "              style=\"display:none;\">\n",
              "        \n",
              "  <svg xmlns=\"http://www.w3.org/2000/svg\" height=\"24px\"viewBox=\"0 0 24 24\"\n",
              "       width=\"24px\">\n",
              "    <path d=\"M0 0h24v24H0V0z\" fill=\"none\"/>\n",
              "    <path d=\"M18.56 5.44l.94 2.06.94-2.06 2.06-.94-2.06-.94-.94-2.06-.94 2.06-2.06.94zm-11 1L8.5 8.5l.94-2.06 2.06-.94-2.06-.94L8.5 2.5l-.94 2.06-2.06.94zm10 10l.94 2.06.94-2.06 2.06-.94-2.06-.94-.94-2.06-.94 2.06-2.06.94z\"/><path d=\"M17.41 7.96l-1.37-1.37c-.4-.4-.92-.59-1.43-.59-.52 0-1.04.2-1.43.59L10.3 9.45l-7.72 7.72c-.78.78-.78 2.05 0 2.83L4 21.41c.39.39.9.59 1.41.59.51 0 1.02-.2 1.41-.59l7.78-7.78 2.81-2.81c.8-.78.8-2.07 0-2.86zM5.41 20L4 18.59l7.72-7.72 1.47 1.35L5.41 20z\"/>\n",
              "  </svg>\n",
              "      </button>\n",
              "      \n",
              "  <style>\n",
              "    .colab-df-container {\n",
              "      display:flex;\n",
              "      flex-wrap:wrap;\n",
              "      gap: 12px;\n",
              "    }\n",
              "\n",
              "    .colab-df-convert {\n",
              "      background-color: #E8F0FE;\n",
              "      border: none;\n",
              "      border-radius: 50%;\n",
              "      cursor: pointer;\n",
              "      display: none;\n",
              "      fill: #1967D2;\n",
              "      height: 32px;\n",
              "      padding: 0 0 0 0;\n",
              "      width: 32px;\n",
              "    }\n",
              "\n",
              "    .colab-df-convert:hover {\n",
              "      background-color: #E2EBFA;\n",
              "      box-shadow: 0px 1px 2px rgba(60, 64, 67, 0.3), 0px 1px 3px 1px rgba(60, 64, 67, 0.15);\n",
              "      fill: #174EA6;\n",
              "    }\n",
              "\n",
              "    [theme=dark] .colab-df-convert {\n",
              "      background-color: #3B4455;\n",
              "      fill: #D2E3FC;\n",
              "    }\n",
              "\n",
              "    [theme=dark] .colab-df-convert:hover {\n",
              "      background-color: #434B5C;\n",
              "      box-shadow: 0px 1px 3px 1px rgba(0, 0, 0, 0.15);\n",
              "      filter: drop-shadow(0px 1px 2px rgba(0, 0, 0, 0.3));\n",
              "      fill: #FFFFFF;\n",
              "    }\n",
              "  </style>\n",
              "\n",
              "      <script>\n",
              "        const buttonEl =\n",
              "          document.querySelector('#df-4ddf3c94-4c45-4b64-beb3-a351f8356705 button.colab-df-convert');\n",
              "        buttonEl.style.display =\n",
              "          google.colab.kernel.accessAllowed ? 'block' : 'none';\n",
              "\n",
              "        async function convertToInteractive(key) {\n",
              "          const element = document.querySelector('#df-4ddf3c94-4c45-4b64-beb3-a351f8356705');\n",
              "          const dataTable =\n",
              "            await google.colab.kernel.invokeFunction('convertToInteractive',\n",
              "                                                     [key], {});\n",
              "          if (!dataTable) return;\n",
              "\n",
              "          const docLinkHtml = 'Like what you see? Visit the ' +\n",
              "            '<a target=\"_blank\" href=https://colab.research.google.com/notebooks/data_table.ipynb>data table notebook</a>'\n",
              "            + ' to learn more about interactive tables.';\n",
              "          element.innerHTML = '';\n",
              "          dataTable['output_type'] = 'display_data';\n",
              "          await google.colab.output.renderOutput(dataTable, element);\n",
              "          const docLink = document.createElement('div');\n",
              "          docLink.innerHTML = docLinkHtml;\n",
              "          element.appendChild(docLink);\n",
              "        }\n",
              "      </script>\n",
              "    </div>\n",
              "  </div>\n",
              "  "
            ]
          },
          "metadata": {}
        }
      ]
    },
    {
      "cell_type": "code",
      "source": [
        "sns.set_style('darkgrid')\n",
        "plt.figure(figsize=(18,4))\n",
        "\n",
        "plt.subplot(1, 2, 1) \n",
        "plt.boxplot(cancer['HOMA'])  \n",
        "plt.title('BLOXPLOT', fontsize=12)\n",
        "plt.ylabel('HOMA'.upper(), fontsize=10)\n",
        "plt.grid(color='white')\n",
        "\n",
        "plt.subplot(1, 2, 2)\n",
        "plt.scatter(cancer['HOMA'], cancer['Classification'],s=10)  \n",
        "plt.title('Gráfico de Dispersão', fontsize=12)\n",
        "plt.xlabel('HOMA'.upper(), fontsize=10)\n",
        "plt.ylabel('Classificação'.upper(), fontsize=10)\n",
        "plt.grid(color='white')"
      ],
      "metadata": {
        "colab": {
          "base_uri": "https://localhost:8080/",
          "height": 295
        },
        "id": "faZZ5Gjc_DZP",
        "outputId": "8ed0fbb0-4500-45b3-e9a4-88cc426e70a2"
      },
      "execution_count": null,
      "outputs": [
        {
          "output_type": "display_data",
          "data": {
            "text/plain": [
              "<Figure size 1296x288 with 2 Axes>"
            ],
            "image/png": "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\n"
          },
          "metadata": {}
        }
      ]
    },
    {
      "cell_type": "markdown",
      "source": [
        "**Os valores normais do índice HOMA são, em geral, os seguintes:**\n",
        "* Valor de Referência do HOMA-IR: inferior a 2,15;\n",
        "* Valor de Referência do HOMA-Beta: entre 167 e 175.\n"
      ],
      "metadata": {
        "id": "ay9_zBod_dZ5"
      }
    },
    {
      "cell_type": "markdown",
      "source": [
        "** Análise do Índice HOMA**\n",
        "- Aqui neste caso com toda certeza precisaríamos de um especialista para nos ajudar a entender estes números, nós como analista de dados podemos reparar que o comportamento é muito parecido com o avaliado anteriormente, do nível da insulina. Apresentam ouliers bem acima da média.\n",
        "- Para comprovar a relação entre eles iremos plotar um gráfico de dispersão entre os dois."
      ],
      "metadata": {
        "id": "Eu1xeORp_sHw"
      }
    },
    {
      "cell_type": "code",
      "source": [
        "sns.set_style('darkgrid')\n",
        "\n",
        "plt.figure(figsize=[8,4])\n",
        "plt.scatter(cancer['HOMA'], cancer['Insulin'],s=10)  \n",
        "plt.title('Gráfico de Dispersão', fontsize=12)\n",
        "plt.xlabel('HOMA'.upper(), fontsize=10)\n",
        "plt.ylabel('Insulina'.upper(), fontsize=10)\n",
        "plt.grid(color='white')\n",
        "plt.show()"
      ],
      "metadata": {
        "colab": {
          "base_uri": "https://localhost:8080/",
          "height": 295
        },
        "id": "MSofS83ZAPBY",
        "outputId": "1a521318-1d36-4ca3-8a60-c9ee4e1d40d8"
      },
      "execution_count": null,
      "outputs": [
        {
          "output_type": "display_data",
          "data": {
            "text/plain": [
              "<Figure size 576x288 with 1 Axes>"
            ],
            "image/png": "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\n"
          },
          "metadata": {}
        }
      ]
    },
    {
      "cell_type": "markdown",
      "source": [
        "Podemos ver que um tem total relação do \"HOMA\" com a \"Insulina\" formando quase uma linha, daria pra dizer que um tem uma relação de dependencia com o outro, até porque o \"HOMA\" é também uma forma de avaliação do índice de insulina."
      ],
      "metadata": {
        "id": "RaPRMEUGAeXy"
      }
    },
    {
      "cell_type": "markdown",
      "source": [
        "##Leptin\n",
        "A leptina (ng/mL) é um petídeo que desempenha importante papel na regulação da ingestão alimentar e no gasto energético, gerando um aumento na queima de energia e diminuindo a ingestão alimentar."
      ],
      "metadata": {
        "id": "S1zcIo7yIrhA"
      }
    },
    {
      "cell_type": "code",
      "source": [
        "print(\"Leptin\" + \": \")\n",
        "print(cancer[\"Leptin\"].unique())\n",
        "print(cancer[\"Leptin\"].describe())\n",
        "display (cancer[cancer[\"Leptin\"].isnull()])"
      ],
      "metadata": {
        "colab": {
          "base_uri": "https://localhost:8080/",
          "height": 449
        },
        "id": "51tQWnu5JAzs",
        "outputId": "f28f46df-bc68-4ea6-d6c6-bb5e46bf0b3f"
      },
      "execution_count": null,
      "outputs": [
        {
          "output_type": "stream",
          "name": "stdout",
          "text": [
            "Leptin: \n",
            "[ 8.8071  8.8438 17.9393  9.8827  6.6994  6.8317  6.964   4.311   4.47\n",
            " 17.127  14.57   35.59   20.45    8.88   15.26   14.09   26.65   30.7729\n",
            " 21.2117 49.3727 15.1248 28.7502 45.6196 39.2134 12.331  39.9802 46.6401\n",
            " 45.9624 50.6094 10.2809 74.7069 27.1841 68.5102 31.2128 20.092  21.9033\n",
            " 16.2247 83.4821 24.2998 21.7863 28.562  35.891  10.39   15.145  56.502\n",
            " 24.846  65.926   6.633  45.272   7.85   21.778  13.74    7.6476  7.7529\n",
            " 11.2406 16.7353 19.0826  9.6994 11.0816  9.8648  8.438  32.58    6.3339\n",
            "  8.0163 14.9037 17.9973  8.6874 12.1905 12.87   13.08    7.65   18.16\n",
            "  9.62   21.78   10.16    9.8    37.2234 25.7816 47.647  44.7059 17.022\n",
            " 38.8066 46.076  19.0653 12.2617 26.5166 15.5325 70.8824 18.1314 22.8884\n",
            " 31.0385 31.6453 29.2739 42.3914 37.843  51.3387 12.6757 14.3224 53.4997\n",
            " 14.7485 31.1233 14.9084 44.0217 26.8081 33.1612 41.4064 23.8479 18.69\n",
            " 17.87   50.53   89.27   54.68   12.45   61.48   24.96   90.28  ]\n",
            "count    116.000000\n",
            "mean      26.615080\n",
            "std       19.183294\n",
            "min        4.311000\n",
            "25%       12.313675\n",
            "50%       20.271000\n",
            "75%       37.378300\n",
            "max       90.280000\n",
            "Name: Leptin, dtype: float64\n"
          ]
        },
        {
          "output_type": "display_data",
          "data": {
            "text/plain": [
              "Empty DataFrame\n",
              "Columns: [Age, BMI, Glucose, Insulin, HOMA, Leptin, Adiponectin, Resistin, MCP.1, Classification]\n",
              "Index: []"
            ],
            "text/html": [
              "\n",
              "  <div id=\"df-a784627c-5d7b-415a-85c9-d31a8bb23e82\">\n",
              "    <div class=\"colab-df-container\">\n",
              "      <div>\n",
              "<style scoped>\n",
              "    .dataframe tbody tr th:only-of-type {\n",
              "        vertical-align: middle;\n",
              "    }\n",
              "\n",
              "    .dataframe tbody tr th {\n",
              "        vertical-align: top;\n",
              "    }\n",
              "\n",
              "    .dataframe thead th {\n",
              "        text-align: right;\n",
              "    }\n",
              "</style>\n",
              "<table border=\"1\" class=\"dataframe\">\n",
              "  <thead>\n",
              "    <tr style=\"text-align: right;\">\n",
              "      <th></th>\n",
              "      <th>Age</th>\n",
              "      <th>BMI</th>\n",
              "      <th>Glucose</th>\n",
              "      <th>Insulin</th>\n",
              "      <th>HOMA</th>\n",
              "      <th>Leptin</th>\n",
              "      <th>Adiponectin</th>\n",
              "      <th>Resistin</th>\n",
              "      <th>MCP.1</th>\n",
              "      <th>Classification</th>\n",
              "    </tr>\n",
              "  </thead>\n",
              "  <tbody>\n",
              "  </tbody>\n",
              "</table>\n",
              "</div>\n",
              "      <button class=\"colab-df-convert\" onclick=\"convertToInteractive('df-a784627c-5d7b-415a-85c9-d31a8bb23e82')\"\n",
              "              title=\"Convert this dataframe to an interactive table.\"\n",
              "              style=\"display:none;\">\n",
              "        \n",
              "  <svg xmlns=\"http://www.w3.org/2000/svg\" height=\"24px\"viewBox=\"0 0 24 24\"\n",
              "       width=\"24px\">\n",
              "    <path d=\"M0 0h24v24H0V0z\" fill=\"none\"/>\n",
              "    <path d=\"M18.56 5.44l.94 2.06.94-2.06 2.06-.94-2.06-.94-.94-2.06-.94 2.06-2.06.94zm-11 1L8.5 8.5l.94-2.06 2.06-.94-2.06-.94L8.5 2.5l-.94 2.06-2.06.94zm10 10l.94 2.06.94-2.06 2.06-.94-2.06-.94-.94-2.06-.94 2.06-2.06.94z\"/><path d=\"M17.41 7.96l-1.37-1.37c-.4-.4-.92-.59-1.43-.59-.52 0-1.04.2-1.43.59L10.3 9.45l-7.72 7.72c-.78.78-.78 2.05 0 2.83L4 21.41c.39.39.9.59 1.41.59.51 0 1.02-.2 1.41-.59l7.78-7.78 2.81-2.81c.8-.78.8-2.07 0-2.86zM5.41 20L4 18.59l7.72-7.72 1.47 1.35L5.41 20z\"/>\n",
              "  </svg>\n",
              "      </button>\n",
              "      \n",
              "  <style>\n",
              "    .colab-df-container {\n",
              "      display:flex;\n",
              "      flex-wrap:wrap;\n",
              "      gap: 12px;\n",
              "    }\n",
              "\n",
              "    .colab-df-convert {\n",
              "      background-color: #E8F0FE;\n",
              "      border: none;\n",
              "      border-radius: 50%;\n",
              "      cursor: pointer;\n",
              "      display: none;\n",
              "      fill: #1967D2;\n",
              "      height: 32px;\n",
              "      padding: 0 0 0 0;\n",
              "      width: 32px;\n",
              "    }\n",
              "\n",
              "    .colab-df-convert:hover {\n",
              "      background-color: #E2EBFA;\n",
              "      box-shadow: 0px 1px 2px rgba(60, 64, 67, 0.3), 0px 1px 3px 1px rgba(60, 64, 67, 0.15);\n",
              "      fill: #174EA6;\n",
              "    }\n",
              "\n",
              "    [theme=dark] .colab-df-convert {\n",
              "      background-color: #3B4455;\n",
              "      fill: #D2E3FC;\n",
              "    }\n",
              "\n",
              "    [theme=dark] .colab-df-convert:hover {\n",
              "      background-color: #434B5C;\n",
              "      box-shadow: 0px 1px 3px 1px rgba(0, 0, 0, 0.15);\n",
              "      filter: drop-shadow(0px 1px 2px rgba(0, 0, 0, 0.3));\n",
              "      fill: #FFFFFF;\n",
              "    }\n",
              "  </style>\n",
              "\n",
              "      <script>\n",
              "        const buttonEl =\n",
              "          document.querySelector('#df-a784627c-5d7b-415a-85c9-d31a8bb23e82 button.colab-df-convert');\n",
              "        buttonEl.style.display =\n",
              "          google.colab.kernel.accessAllowed ? 'block' : 'none';\n",
              "\n",
              "        async function convertToInteractive(key) {\n",
              "          const element = document.querySelector('#df-a784627c-5d7b-415a-85c9-d31a8bb23e82');\n",
              "          const dataTable =\n",
              "            await google.colab.kernel.invokeFunction('convertToInteractive',\n",
              "                                                     [key], {});\n",
              "          if (!dataTable) return;\n",
              "\n",
              "          const docLinkHtml = 'Like what you see? Visit the ' +\n",
              "            '<a target=\"_blank\" href=https://colab.research.google.com/notebooks/data_table.ipynb>data table notebook</a>'\n",
              "            + ' to learn more about interactive tables.';\n",
              "          element.innerHTML = '';\n",
              "          dataTable['output_type'] = 'display_data';\n",
              "          await google.colab.output.renderOutput(dataTable, element);\n",
              "          const docLink = document.createElement('div');\n",
              "          docLink.innerHTML = docLinkHtml;\n",
              "          element.appendChild(docLink);\n",
              "        }\n",
              "      </script>\n",
              "    </div>\n",
              "  </div>\n",
              "  "
            ]
          },
          "metadata": {}
        }
      ]
    },
    {
      "cell_type": "code",
      "source": [
        "sns.set_style('darkgrid')\n",
        "plt.figure(figsize=(18,4))\n",
        "\n",
        "plt.subplot(1, 2, 1) \n",
        "plt.boxplot(cancer['Leptin'])  \n",
        "plt.title('BLOXPLOT', fontsize=12)\n",
        "plt.ylabel('Leptina'.upper(), fontsize=10)\n",
        "plt.grid(color='white')\n",
        "\n",
        "plt.subplot(1, 2, 2)\n",
        "plt.scatter(cancer['Leptin'], cancer['Classification'],s=10)  \n",
        "plt.title('Gráfico de Dispersão', fontsize=12)\n",
        "plt.xlabel('Leptina'.upper(), fontsize=10)\n",
        "plt.ylabel('Classificação'.upper(), fontsize=10)\n",
        "plt.grid(color='white')"
      ],
      "metadata": {
        "colab": {
          "base_uri": "https://localhost:8080/",
          "height": 295
        },
        "id": "s0_rRZNJJA9N",
        "outputId": "316cda19-ac71-401c-f988-c356d431e10a"
      },
      "execution_count": null,
      "outputs": [
        {
          "output_type": "display_data",
          "data": {
            "text/plain": [
              "<Figure size 1296x288 with 2 Axes>"
            ],
            "image/png": "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\n"
          },
          "metadata": {}
        }
      ]
    },
    {
      "cell_type": "markdown",
      "source": [
        "**Análise da Leptina**\n",
        "- Olhando para os número da leptina não tem algo que nos chama a atenção, assim em primeiro momento conseguimos ver que tem uns dados um pouco mais acima que os outros, mas nada muito fora da curva. Além que em relação a classificação também não mostra muita dependência. \n",
        "- Lendo sobre a leptina, ela nos mostra que talvez tenha relação com o IMC, pois ajuda na regulação da ingestão alimentar, gasto calórico, então vamos olhar um gráfico comparando os dois."
      ],
      "metadata": {
        "id": "DDgGSP4CJVCx"
      }
    },
    {
      "cell_type": "code",
      "source": [
        "sns.set_style('darkgrid')\n",
        "\n",
        "plt.figure(figsize=[8,4])\n",
        "plt.scatter(cancer['Leptin'], cancer['BMI'],s=10)  \n",
        "plt.title('Gráfico de Dispersão', fontsize=12)\n",
        "plt.xlabel('Leptina'.upper(), fontsize=10)\n",
        "plt.ylabel('IMC'.upper(), fontsize=10)\n",
        "plt.grid(color='white')\n",
        "plt.show()"
      ],
      "metadata": {
        "colab": {
          "base_uri": "https://localhost:8080/",
          "height": 295
        },
        "id": "3i1pUid9KQQU",
        "outputId": "9eb56488-e855-43bd-8322-50c4ebaf03e2"
      },
      "execution_count": null,
      "outputs": [
        {
          "output_type": "display_data",
          "data": {
            "text/plain": [
              "<Figure size 576x288 with 1 Axes>"
            ],
            "image/png": "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\n"
          },
          "metadata": {}
        }
      ]
    },
    {
      "cell_type": "markdown",
      "source": [
        "**Níveis normais de Liptina no corpo**\n",
        "- Mulheres com IMC de 18 a 25: 4,7 a 23,7 ng/mL;\n",
        "- Mulheres com IMC maior que 30: 8,0 a 38,9 ng/mL;\n",
        "- Homens com IMC de 18 a 25: 0,3 a 13,4 ng/mL;\n",
        "- Homens com IMC maior que 30: o valor normal de leptina é 1,8 a 19,9 ng/mL;\n",
        "- Crianças e jovens de 5 a 9 anos: 0,6 a 16,8 ng/mL;\n",
        "- Crianças e jovens de 10 a 13 anos: 1,4 a 16,5 ng/mL;\n",
        "- Crianças e jovens de 14 a 17 anos: 0,6 a 24,9 ng/mL."
      ],
      "metadata": {
        "id": "gP6Nn0YLK7aU"
      }
    },
    {
      "cell_type": "markdown",
      "source": [
        "Comprovando então, podemos sim ver uma relação com o IMC, quanto maior o IMC maior o nível de leptina no corpo do paciente, acima temos a tabela dos valores que são considerados normais, é mais para ter uma base do que pode estar afetando ou não o sistema do paciente."
      ],
      "metadata": {
        "id": "rrxV86VuKg8f"
      }
    },
    {
      "cell_type": "markdown",
      "source": [
        "##Adiponectin\n",
        "Adiponectina (µg/mL) é um hormônio associado com a obesidade e diabetes tipo 2"
      ],
      "metadata": {
        "id": "NOdtSJLRLxd1"
      }
    },
    {
      "cell_type": "code",
      "source": [
        "print(\"Adiponectin\" + \": \")\n",
        "print(cancer[\"Adiponectin\"].unique())\n",
        "print(cancer[\"Adiponectin\"].describe())\n",
        "display (cancer[cancer[\"Adiponectin\"].isnull()])"
      ],
      "metadata": {
        "colab": {
          "base_uri": "https://localhost:8080/",
          "height": 518
        },
        "id": "Xh8ZsXxHMDCA",
        "outputId": "71199dd9-15d7-4c60-c6f6-774f8b66602b"
      },
      "execution_count": null,
      "outputs": [
        {
          "output_type": "stream",
          "name": "stdout",
          "text": [
            "Adiponectin: \n",
            "[ 9.7024    5.429285 22.43204   7.16956   4.81924  13.67975   5.589865\n",
            " 13.25132  10.358725 11.57899  13.11     26.72     23.67     36.06\n",
            " 17.95     20.32     38.04      7.780255  5.46262   5.1       8.6\n",
            "  7.64276   6.209635  9.048185  9.73138   4.617125  4.667645 10.35526\n",
            "  6.966895  5.065915  7.53955  20.03      4.7942    8.300955  3.19209\n",
            "  2.19428   4.267105  6.796985  8.12555   7.36996   9.34663   9.000805\n",
            " 11.78796   8.13      7.652055  3.74122  10.567295  8.2863    7.9317\n",
            "  4.935635  9.75326  21.056625  8.237405  8.412175 21.823745  8.462915\n",
            "  8.574655  5.80762  11.236235  4.77192   4.138025  3.886145  9.349775\n",
            "  4.230105  4.294705  3.70523   4.783985 18.55     20.37     16.67\n",
            " 16.1      12.76     17.86      9.76      6.420295 11.018455 12.71896\n",
            "  5.357135 13.494865 16.44048  10.636525 21.57      5.4861    6.695585\n",
            "  7.28287  10.22231   7.901685  4.104105 10.26266   6.160995  9.92365\n",
            "  6.26854  10.79394   8.40443  10.73174   5.47817   6.78387   1.65602\n",
            "  5.288025  7.65222   8.42996   3.71009   2.78491   2.36495   3.335665\n",
            "  6.644245  9.16     11.9      10.06      8.01     12.1      21.42\n",
            " 22.54     33.75     14.11    ]\n",
            "count    116.000000\n",
            "mean      10.180874\n",
            "std        6.843341\n",
            "min        1.656020\n",
            "25%        5.474283\n",
            "50%        8.352692\n",
            "75%       11.815970\n",
            "max       38.040000\n",
            "Name: Adiponectin, dtype: float64\n"
          ]
        },
        {
          "output_type": "display_data",
          "data": {
            "text/plain": [
              "Empty DataFrame\n",
              "Columns: [Age, BMI, Glucose, Insulin, HOMA, Leptin, Adiponectin, Resistin, MCP.1, Classification]\n",
              "Index: []"
            ],
            "text/html": [
              "\n",
              "  <div id=\"df-e097c80f-286b-4c7b-a0b9-7dcad434190a\">\n",
              "    <div class=\"colab-df-container\">\n",
              "      <div>\n",
              "<style scoped>\n",
              "    .dataframe tbody tr th:only-of-type {\n",
              "        vertical-align: middle;\n",
              "    }\n",
              "\n",
              "    .dataframe tbody tr th {\n",
              "        vertical-align: top;\n",
              "    }\n",
              "\n",
              "    .dataframe thead th {\n",
              "        text-align: right;\n",
              "    }\n",
              "</style>\n",
              "<table border=\"1\" class=\"dataframe\">\n",
              "  <thead>\n",
              "    <tr style=\"text-align: right;\">\n",
              "      <th></th>\n",
              "      <th>Age</th>\n",
              "      <th>BMI</th>\n",
              "      <th>Glucose</th>\n",
              "      <th>Insulin</th>\n",
              "      <th>HOMA</th>\n",
              "      <th>Leptin</th>\n",
              "      <th>Adiponectin</th>\n",
              "      <th>Resistin</th>\n",
              "      <th>MCP.1</th>\n",
              "      <th>Classification</th>\n",
              "    </tr>\n",
              "  </thead>\n",
              "  <tbody>\n",
              "  </tbody>\n",
              "</table>\n",
              "</div>\n",
              "      <button class=\"colab-df-convert\" onclick=\"convertToInteractive('df-e097c80f-286b-4c7b-a0b9-7dcad434190a')\"\n",
              "              title=\"Convert this dataframe to an interactive table.\"\n",
              "              style=\"display:none;\">\n",
              "        \n",
              "  <svg xmlns=\"http://www.w3.org/2000/svg\" height=\"24px\"viewBox=\"0 0 24 24\"\n",
              "       width=\"24px\">\n",
              "    <path d=\"M0 0h24v24H0V0z\" fill=\"none\"/>\n",
              "    <path d=\"M18.56 5.44l.94 2.06.94-2.06 2.06-.94-2.06-.94-.94-2.06-.94 2.06-2.06.94zm-11 1L8.5 8.5l.94-2.06 2.06-.94-2.06-.94L8.5 2.5l-.94 2.06-2.06.94zm10 10l.94 2.06.94-2.06 2.06-.94-2.06-.94-.94-2.06-.94 2.06-2.06.94z\"/><path d=\"M17.41 7.96l-1.37-1.37c-.4-.4-.92-.59-1.43-.59-.52 0-1.04.2-1.43.59L10.3 9.45l-7.72 7.72c-.78.78-.78 2.05 0 2.83L4 21.41c.39.39.9.59 1.41.59.51 0 1.02-.2 1.41-.59l7.78-7.78 2.81-2.81c.8-.78.8-2.07 0-2.86zM5.41 20L4 18.59l7.72-7.72 1.47 1.35L5.41 20z\"/>\n",
              "  </svg>\n",
              "      </button>\n",
              "      \n",
              "  <style>\n",
              "    .colab-df-container {\n",
              "      display:flex;\n",
              "      flex-wrap:wrap;\n",
              "      gap: 12px;\n",
              "    }\n",
              "\n",
              "    .colab-df-convert {\n",
              "      background-color: #E8F0FE;\n",
              "      border: none;\n",
              "      border-radius: 50%;\n",
              "      cursor: pointer;\n",
              "      display: none;\n",
              "      fill: #1967D2;\n",
              "      height: 32px;\n",
              "      padding: 0 0 0 0;\n",
              "      width: 32px;\n",
              "    }\n",
              "\n",
              "    .colab-df-convert:hover {\n",
              "      background-color: #E2EBFA;\n",
              "      box-shadow: 0px 1px 2px rgba(60, 64, 67, 0.3), 0px 1px 3px 1px rgba(60, 64, 67, 0.15);\n",
              "      fill: #174EA6;\n",
              "    }\n",
              "\n",
              "    [theme=dark] .colab-df-convert {\n",
              "      background-color: #3B4455;\n",
              "      fill: #D2E3FC;\n",
              "    }\n",
              "\n",
              "    [theme=dark] .colab-df-convert:hover {\n",
              "      background-color: #434B5C;\n",
              "      box-shadow: 0px 1px 3px 1px rgba(0, 0, 0, 0.15);\n",
              "      filter: drop-shadow(0px 1px 2px rgba(0, 0, 0, 0.3));\n",
              "      fill: #FFFFFF;\n",
              "    }\n",
              "  </style>\n",
              "\n",
              "      <script>\n",
              "        const buttonEl =\n",
              "          document.querySelector('#df-e097c80f-286b-4c7b-a0b9-7dcad434190a button.colab-df-convert');\n",
              "        buttonEl.style.display =\n",
              "          google.colab.kernel.accessAllowed ? 'block' : 'none';\n",
              "\n",
              "        async function convertToInteractive(key) {\n",
              "          const element = document.querySelector('#df-e097c80f-286b-4c7b-a0b9-7dcad434190a');\n",
              "          const dataTable =\n",
              "            await google.colab.kernel.invokeFunction('convertToInteractive',\n",
              "                                                     [key], {});\n",
              "          if (!dataTable) return;\n",
              "\n",
              "          const docLinkHtml = 'Like what you see? Visit the ' +\n",
              "            '<a target=\"_blank\" href=https://colab.research.google.com/notebooks/data_table.ipynb>data table notebook</a>'\n",
              "            + ' to learn more about interactive tables.';\n",
              "          element.innerHTML = '';\n",
              "          dataTable['output_type'] = 'display_data';\n",
              "          await google.colab.output.renderOutput(dataTable, element);\n",
              "          const docLink = document.createElement('div');\n",
              "          docLink.innerHTML = docLinkHtml;\n",
              "          element.appendChild(docLink);\n",
              "        }\n",
              "      </script>\n",
              "    </div>\n",
              "  </div>\n",
              "  "
            ]
          },
          "metadata": {}
        }
      ]
    },
    {
      "cell_type": "code",
      "source": [
        "sns.set_style('darkgrid')\n",
        "plt.figure(figsize=(18,4))\n",
        "\n",
        "plt.subplot(1, 2, 1) \n",
        "plt.boxplot(cancer['Adiponectin'])  \n",
        "plt.title('BLOXPLOT', fontsize=12)\n",
        "plt.ylabel('Adiponectina'.upper(), fontsize=10)\n",
        "plt.grid(color='white')\n",
        "\n",
        "plt.subplot(1, 2, 2)\n",
        "plt.scatter(cancer['Adiponectin'], cancer['Classification'],s=10)  \n",
        "plt.title('Gráfico de Dispersão', fontsize=12)\n",
        "plt.xlabel('Adiponectina'.upper(), fontsize=10)\n",
        "plt.ylabel('Classificação'.upper(), fontsize=10)\n",
        "plt.grid(color='white')"
      ],
      "metadata": {
        "colab": {
          "base_uri": "https://localhost:8080/",
          "height": 295
        },
        "id": "KO6OROZLMGJ1",
        "outputId": "6255d91d-e43c-4063-c79f-7b371a79830d"
      },
      "execution_count": null,
      "outputs": [
        {
          "output_type": "display_data",
          "data": {
            "text/plain": [
              "<Figure size 1296x288 with 2 Axes>"
            ],
            "image/png": "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\n"
          },
          "metadata": {}
        }
      ]
    },
    {
      "cell_type": "markdown",
      "source": [
        "**Análise da Adiponectina**\n",
        "- Podemos ver que os dados estão corretos, não temos nenhum dado nulo. Porém conseguimos constatar alguns outlier, bem acima da média, valores chagando a 38 µg/mL, enquanto a média gira entorno de 8 µg/mL.\n",
        "- Estes dados, assim como os da leptina, na verdade não nos trazem muitas informações referentes ao câncer de mama. Estes dados ao final do estudo talvez sejam retirados do nosso modelo."
      ],
      "metadata": {
        "id": "--RcYbxv6JkM"
      }
    },
    {
      "cell_type": "markdown",
      "source": [
        "##Resistin\n",
        "Resistina (ng/mL) é uma proteína rica em cisteína secretada pelo tecido adiposo de mus e ratos."
      ],
      "metadata": {
        "id": "JhtS6sl2L3TT"
      }
    },
    {
      "cell_type": "code",
      "source": [
        "print(\"Resistin\" + \": \")\n",
        "print(cancer[\"Resistin\"].unique())\n",
        "print(cancer[\"Resistin\"].describe())\n",
        "display (cancer[cancer[\"Resistin\"].isnull()])"
      ],
      "metadata": {
        "colab": {
          "base_uri": "https://localhost:8080/",
          "height": 483
        },
        "id": "wG9s6eEpMDwN",
        "outputId": "2fb91f04-3291-468f-e777-7cfd7ee88a40"
      },
      "execution_count": null,
      "outputs": [
        {
          "output_type": "stream",
          "name": "stdout",
          "text": [
            "Resistin: \n",
            "[ 7.99585  4.06405  9.27715 12.766   10.57635 10.3176  12.9361   5.1042\n",
            "  6.28445  7.0913   6.92     4.58     5.14     6.85     9.35     7.64\n",
            "  3.32    13.68392  6.70188 17.10223  9.1539   5.62592 24.6033  16.43706\n",
            " 10.19299  8.70448 11.78388 23.3819  22.03703 15.72187 22.32024 10.26309\n",
            " 21.44366  6.71026 10.37518  4.2075   3.29175 82.1     20.2535  17.2615\n",
            "  8.04375  8.4156   7.5767  11.78796  4.2989   6.7052   4.49685  4.6638\n",
            "  4.53     9.6135   8.49395 11.774   23.03408 28.0323  23.1177  12.06534\n",
            " 17.37615 13.74244  5.57055 10.69548 15.73606 15.69876 22.94254 11.55492\n",
            "  8.2049   5.2633  10.34455 13.91245 13.56     4.62     7.84     5.31\n",
            "  3.21     4.82     5.68    16.1      7.16514 38.6531  24.3701  27.8325\n",
            " 31.6904  29.5583  10.15726 42.7447  53.6717  19.46324 16.11032 55.2153\n",
            " 53.6308  13.97399 17.55503 19.94687 24.24591  5.768   11.50005 20.76801\n",
            " 23.03306 26.0136  49.24184 16.48508 18.35574 14.91922 20.4685  14.76966\n",
            "  9.9542   6.89235 15.55625  8.89     4.19    11.73     5.06    10.96\n",
            "  7.32    10.33     3.27     4.35   ]\n",
            "count    116.000000\n",
            "mean      14.725966\n",
            "std       12.390646\n",
            "min        3.210000\n",
            "25%        6.881763\n",
            "50%       10.827740\n",
            "75%       17.755207\n",
            "max       82.100000\n",
            "Name: Resistin, dtype: float64\n"
          ]
        },
        {
          "output_type": "display_data",
          "data": {
            "text/plain": [
              "Empty DataFrame\n",
              "Columns: [Age, BMI, Glucose, Insulin, HOMA, Leptin, Adiponectin, Resistin, MCP.1, Classification]\n",
              "Index: []"
            ],
            "text/html": [
              "\n",
              "  <div id=\"df-ff912e77-d51b-4b23-8aa2-abd7df01e5cc\">\n",
              "    <div class=\"colab-df-container\">\n",
              "      <div>\n",
              "<style scoped>\n",
              "    .dataframe tbody tr th:only-of-type {\n",
              "        vertical-align: middle;\n",
              "    }\n",
              "\n",
              "    .dataframe tbody tr th {\n",
              "        vertical-align: top;\n",
              "    }\n",
              "\n",
              "    .dataframe thead th {\n",
              "        text-align: right;\n",
              "    }\n",
              "</style>\n",
              "<table border=\"1\" class=\"dataframe\">\n",
              "  <thead>\n",
              "    <tr style=\"text-align: right;\">\n",
              "      <th></th>\n",
              "      <th>Age</th>\n",
              "      <th>BMI</th>\n",
              "      <th>Glucose</th>\n",
              "      <th>Insulin</th>\n",
              "      <th>HOMA</th>\n",
              "      <th>Leptin</th>\n",
              "      <th>Adiponectin</th>\n",
              "      <th>Resistin</th>\n",
              "      <th>MCP.1</th>\n",
              "      <th>Classification</th>\n",
              "    </tr>\n",
              "  </thead>\n",
              "  <tbody>\n",
              "  </tbody>\n",
              "</table>\n",
              "</div>\n",
              "      <button class=\"colab-df-convert\" onclick=\"convertToInteractive('df-ff912e77-d51b-4b23-8aa2-abd7df01e5cc')\"\n",
              "              title=\"Convert this dataframe to an interactive table.\"\n",
              "              style=\"display:none;\">\n",
              "        \n",
              "  <svg xmlns=\"http://www.w3.org/2000/svg\" height=\"24px\"viewBox=\"0 0 24 24\"\n",
              "       width=\"24px\">\n",
              "    <path d=\"M0 0h24v24H0V0z\" fill=\"none\"/>\n",
              "    <path d=\"M18.56 5.44l.94 2.06.94-2.06 2.06-.94-2.06-.94-.94-2.06-.94 2.06-2.06.94zm-11 1L8.5 8.5l.94-2.06 2.06-.94-2.06-.94L8.5 2.5l-.94 2.06-2.06.94zm10 10l.94 2.06.94-2.06 2.06-.94-2.06-.94-.94-2.06-.94 2.06-2.06.94z\"/><path d=\"M17.41 7.96l-1.37-1.37c-.4-.4-.92-.59-1.43-.59-.52 0-1.04.2-1.43.59L10.3 9.45l-7.72 7.72c-.78.78-.78 2.05 0 2.83L4 21.41c.39.39.9.59 1.41.59.51 0 1.02-.2 1.41-.59l7.78-7.78 2.81-2.81c.8-.78.8-2.07 0-2.86zM5.41 20L4 18.59l7.72-7.72 1.47 1.35L5.41 20z\"/>\n",
              "  </svg>\n",
              "      </button>\n",
              "      \n",
              "  <style>\n",
              "    .colab-df-container {\n",
              "      display:flex;\n",
              "      flex-wrap:wrap;\n",
              "      gap: 12px;\n",
              "    }\n",
              "\n",
              "    .colab-df-convert {\n",
              "      background-color: #E8F0FE;\n",
              "      border: none;\n",
              "      border-radius: 50%;\n",
              "      cursor: pointer;\n",
              "      display: none;\n",
              "      fill: #1967D2;\n",
              "      height: 32px;\n",
              "      padding: 0 0 0 0;\n",
              "      width: 32px;\n",
              "    }\n",
              "\n",
              "    .colab-df-convert:hover {\n",
              "      background-color: #E2EBFA;\n",
              "      box-shadow: 0px 1px 2px rgba(60, 64, 67, 0.3), 0px 1px 3px 1px rgba(60, 64, 67, 0.15);\n",
              "      fill: #174EA6;\n",
              "    }\n",
              "\n",
              "    [theme=dark] .colab-df-convert {\n",
              "      background-color: #3B4455;\n",
              "      fill: #D2E3FC;\n",
              "    }\n",
              "\n",
              "    [theme=dark] .colab-df-convert:hover {\n",
              "      background-color: #434B5C;\n",
              "      box-shadow: 0px 1px 3px 1px rgba(0, 0, 0, 0.15);\n",
              "      filter: drop-shadow(0px 1px 2px rgba(0, 0, 0, 0.3));\n",
              "      fill: #FFFFFF;\n",
              "    }\n",
              "  </style>\n",
              "\n",
              "      <script>\n",
              "        const buttonEl =\n",
              "          document.querySelector('#df-ff912e77-d51b-4b23-8aa2-abd7df01e5cc button.colab-df-convert');\n",
              "        buttonEl.style.display =\n",
              "          google.colab.kernel.accessAllowed ? 'block' : 'none';\n",
              "\n",
              "        async function convertToInteractive(key) {\n",
              "          const element = document.querySelector('#df-ff912e77-d51b-4b23-8aa2-abd7df01e5cc');\n",
              "          const dataTable =\n",
              "            await google.colab.kernel.invokeFunction('convertToInteractive',\n",
              "                                                     [key], {});\n",
              "          if (!dataTable) return;\n",
              "\n",
              "          const docLinkHtml = 'Like what you see? Visit the ' +\n",
              "            '<a target=\"_blank\" href=https://colab.research.google.com/notebooks/data_table.ipynb>data table notebook</a>'\n",
              "            + ' to learn more about interactive tables.';\n",
              "          element.innerHTML = '';\n",
              "          dataTable['output_type'] = 'display_data';\n",
              "          await google.colab.output.renderOutput(dataTable, element);\n",
              "          const docLink = document.createElement('div');\n",
              "          docLink.innerHTML = docLinkHtml;\n",
              "          element.appendChild(docLink);\n",
              "        }\n",
              "      </script>\n",
              "    </div>\n",
              "  </div>\n",
              "  "
            ]
          },
          "metadata": {}
        }
      ]
    },
    {
      "cell_type": "code",
      "source": [
        "sns.set_style('darkgrid')\n",
        "plt.figure(figsize=(18,4))\n",
        "\n",
        "plt.subplot(1, 2, 1) \n",
        "plt.boxplot(cancer['Resistin'])  \n",
        "plt.title('BLOXPLOT', fontsize=12)\n",
        "plt.ylabel('Resistina'.upper(), fontsize=10)\n",
        "plt.grid(color='white')\n",
        "\n",
        "plt.subplot(1, 2, 2)\n",
        "plt.scatter(cancer['Resistin'], cancer['Classification'],s=10)  \n",
        "plt.title('Gráfico de Dispersão', fontsize=12)\n",
        "plt.xlabel('Resistina'.upper(), fontsize=10)\n",
        "plt.ylabel('Classificação'.upper(), fontsize=10)\n",
        "plt.grid(color='white')"
      ],
      "metadata": {
        "colab": {
          "base_uri": "https://localhost:8080/",
          "height": 295
        },
        "id": "jobxTswdMGuM",
        "outputId": "d9d14e55-f332-4466-c0f3-74743cbe792c"
      },
      "execution_count": null,
      "outputs": [
        {
          "output_type": "display_data",
          "data": {
            "text/plain": [
              "<Figure size 1296x288 with 2 Axes>"
            ],
            "image/png": "iVBORw0KGgoAAAANSUhEUgAABBwAAAEWCAYAAADFOITEAAAABHNCSVQICAgIfAhkiAAAAAlwSFlzAAALEgAACxIB0t1+/AAAADh0RVh0U29mdHdhcmUAbWF0cGxvdGxpYiB2ZXJzaW9uMy4yLjIsIGh0dHA6Ly9tYXRwbG90bGliLm9yZy+WH4yJAAAgAElEQVR4nOzdeVxU9f7H8fcwgIooi7G4XU0NNSs3iosaFiRqaiLmVbtammaWS2h53cpywyw1Srs/o82lslIJc0uTVK6KWGnadfe6rxRCCqZs8/vD61wQHFBnGBhfz8fDx4M5y/e8P4Mzjp8553sMJpPJJAAAAAAAACtysncAAAAAAADgeGg4AAAAAAAAq6PhAAAAAAAArI6GAwAAAAAAsDoaDgAAAAAAwOpoOAAAAAAAAKuj4QAAAADcwZ577jl98cUXBZZ9//33atu2rZo3b649e/aoU6dOSk5OtmmOMWPG6J133rHZ+AMHDtQ333xjs/FvRf/+/dW7d2+dPn1aQ4cOtXccwOqc7R0AwK0JDQ3V77//LqPRKGdnZzVv3lwTJ05U9erVNWbMGPn5+WnEiBGF9jt79qzefvttbdq0SVeuXFGDBg00ZMgQPfroo8rNzVXPnj0VFhamF154QZKUm5urv/3tb3r88cc1YMAAzZ49W3PnzpWrq6uMRqMaNGig0aNHq3nz5oqLi9PixYu1aNGiQsfNysrS7NmztXz5cp0/f17+/v7629/+pgEDBshgMKhTp046ffq0JOny5ctydnaWs/PVt6jnn39egwcPtuGzCQBA+bVy5UrNmzdPBw8eVKVKlVSrVi1FREToqaeeksFgsLhvfHy8PDw89NRTTxVYPn36dL322mt67LHHzMcoyxo2bKhKlSrJYDDI1dVVjRo1Us+ePfX444+bt/noo4/smLCw9PR0+fv764knntCwYcM0ZMgQe0cCrI4zHIBybO7cudqxY4c2bdqkatWqafLkyRa3T09P11NPPSVXV1etWLFCW7duVb9+/fTyyy/ru+++k9FoVHR0tD788EP95z//kSR9/PHHMhgM6tevn3mcjh07aseOHUpKSlKLFi00bNgwmUwmi8cePny4kpKSFBsbq+3bt+utt97S119/ralTp0q6+kFmx44d2rFjhwIDAzVhwgTzY5oNAAAU7ZNPPtHUqVM1YMAAbdq0SVu2bNHEiRO1fft2ZWdnF7lPbm6u+efMzExNmjSp0DanT5/WPffcY7PctrBs2TLt2LFDq1evVrdu3TRp0iTNmTPHbnlycnIsrvf09NS0adMUHByspUuXKjQ0tJSSAaWHhgPgACpUqKAOHTqYmwQ3Mm/ePLm5uWnq1Kny8fFRxYoV1blzZw0ePFjTp0+XyWRSQECA+vfvr1dffVX/+c9/9MEHH2jq1KkyGo2FxnNxcVG3bt3022+/KS0t7YbHTUpK0ubNmzV79mwFBATI2dlZzZo109tvv63PP/9cx44du+3nAACAO83Fixf13nvv6fXXX1eHDh3k7u4ug8Gge++9VzNnzpSrq6ukq5cqvP7663ruuefUrFkzJScna8OGDYqIiNDMmTPVsWNHzZ49W9LVMxKbN2+u3Nxcde3a1XyGQ2hoqLZs2SLpasNi7ty5euyxx9S8eXNFRkbqzJkzkqTt27ere/fuatmypbp3767t27ffMP+ePXvUrVs3NW/eXFFRUbpy5UqB9evXr1fXrl0VGBioXr16ad++fSV6Xry9vRUREaE33nhDH3zwgfkzSt++fbV48WJJ0rFjx9SnTx+1bNlSQUFBioqKMu/fsGFDLViwQGFhYQoKCtL06dOVl5dnXr9kyRJ17NhRDz74oAYMGKBTp04V2Pfzzz9XeHi4wsPDZTKZFB0dreDgYLVo0UJdunTRgQMHJMn8O2jRooXatm1r/h1ck5CQoE6dOikwMFB9+/Yt9nMeUBbRcAAcwJ9//qlVq1apadOmFrfbsmWLwsPD5eRU8KXfsWNHnT59WkeOHJF09RKGjIwMPfXUU3rmmWfUsGHDIsfLyspSXFycqlevLm9v7xsed/PmzWratKmqV69eYHnTpk3l7++vpKSkkpQJAADy2bFjh7KyshQWFlbstitWrNDgwYO1fft2tWzZUhUqVND06dP1008/6YMPPtAXX3yhdevWydXVVTt27JB09YyBdevWFRrr008/1cqVK81nLUZHR6tixYpKT0/X888/r759+yo5OVn9+/fX888/X+SXEllZWRoyZIi6du2qbdu2qUOHDlq7dq15/Z49ezRu3DhNmjRJycnJ6tmzp1588UVlZWWV+PkJCwtTbm6udu3aVWjdu+++q9atW+vHH39UYmKi+vTpU2D9999/r6VLl+qbb77RDz/8oKVLl0qS1q1bpw8++EBz5sxRUlKSWrZsqZdffrnAvuvWrdPXX3+tVatWadOmTfrpp5+0Zs0a/fzzz4qJiZGnp6ckqVKlSgV+B4sWLTI/30eOHNHLL7+scePGKSkpSSEhIRo8ePBN1Q+UBTQcgHJsyJAhCgwMVGBgoDZv3qwBAwZY3D4tLU0+Pj6Flvv6+prXS5Krq6seeOABpaenq0uXLoW2/+677xQYGKi2bdtq9+7dxZ6ueKPjSpKPj4/FsyMAAEDR0tLS5OXlZZ7zSJJ69eqlwMBAPfDAA/rxxx/Ny8PCwtSyZUs5OTmpQoUKCg4OVsOGDeXk5KRGjRqpc+fO2rZtW4mOu3jxYr300kuqV6+eDAaDGjVqJC8vL23YsEF16tRRRESEnJ2d1blzZ9WrV0/r168vNMbOnTuVnZ2tZ555Ri4uLurQoYPuv/9+8/qvvvpKPXv2VNOmTWU0GtWtWze5uLjol19+KfHz4+LiIi8vL/3xxx+F1jk7O+v06dNKSUlRhQoVFBgYWGD9c889J09PT9WoUUNPP/20VqxYIUn68ssvNWjQINWvX1/Ozs4aPHiw9u7dW+Ash0GDBsnT01MVK1aUs7OzMjMzdfjwYZlMJtWvX9/8uSsoKKjA76BTp07m38GqVavUtm1btW7dWi4uLhowYIAuX75sbgYB5QWTRgLl2Pvvv69WrVopNzdXCQkJ6tu3r8VJnby8vPTbb78VWp6SkmJeL0k//fST1q1bp27dumnq1KmFJlnq0KGDZsyYUeKcXl5eN7xs4rfffjMfFwAAlJynp6fS0tKUk5Njbjp8+eWXkqSQkJAClwFcf5bh7t279c4775j/I3zx4kU9+uijJTru2bNn9Ze//KXQ8pSUFNWoUaPAsho1aujcuXNFbuvn51dgUsv8+54+fVrx8fH67LPPzMuys7PNn1lKIjs7W+fPn5eHh0ehdaNGjdK7776rJ598Uh4eHurfv7+efPJJ8/r8z1fNmjXNxz19+rSio6M1ffp083qTyaRz586pZs2ahfYNDg7W3//+d02aNEmnTp1SeHi4Ro8eLXd3d+3cuVMzZszQwYMHlZ2draysLHXo0MH8/OR/PpycnFS9evUin0ugLOMMB8ABGI1G86USP//88w23Cw4O1vfff1/gA4gkrV69WtWrV9fdd9+ty5cva/z48Ro9erQmTJigI0eOaNmyZbeVr1WrVtq5c6f5+s5rri3761//elvjAwBwJ2revLlcXV2VkJBw0/uOGDFCjz76qNauXav169crIiKi2Amgr/H399fx48cLLff19TXfceqaM2fOyM/Pr9C2Pj4+OnfuXIFj5t+3evXqGjx4sH766Sfzn507d6pz584lLVEJCQkyGo164IEHijz+lClTtGnTJk2cOFETJ04s8OVI/s8sp0+fNp+VUL16dU2cOLFArl27dqlFixbm7a+/M8jTTz+tuLg4rVq1SkePHjV/kfPyyy8rLCxMGzdu1M8//6xevXqZn4/rn0uTyXTD5xIoy2g4AA7AZDJp3bp1unDhgurXry9JysvL05UrV8x/srKy1K9fP128eFHjx4/Xb7/9pitXrmjFihWaO3eu/vGPf8hgMOi9995TzZo1FRkZKTc3N02aNEnTpk3T+fPnS5wl/3GvXLmiVq1aKTg4WMOGDdPBgweVm5urX375RaNGjVLv3r1Vt25dGz47AAA4pqpVq2rIkCGaOHGivvvuO2VkZCgvL0979+7Vn3/+aXHfCxcuqEKFCnJ2dtauXbtu6raXPXr00LvvvqujR4/KZDJp3759SktLU9u2bXX06FEtX75cOTk5WrVqlQ4dOqRHHnmk0BjNmjWTs7OzFixYoOzsbK1du1a//vprgWN8+eWX2rlzp0wmky5duqQNGzYoIyOj2Hzp6en69ttvNWnSJD333HNFnkm5evVqnT17VpLk4eEhg8FQYI6rjz/+WH/88YfOnDmjBQsWmG+v2atXL8XGxurgwYOSrk7cuXr16htm2bVrl/nykUqVKsnV1dV8nMzMTHl4eKhChQratWuX+bIN6er8Whs3blRSUpKys7P1ySefyNXVVc2bNy+2fqAs4ZIKoBwbPHiw+e4RNWvW1Jtvvmm+hVVsbKxiY2PN27Zo0UKLFi3SF198oRkzZqhTp07KyspS/fr19dZbb+mxxx7Tr7/+qq+++krx8fHm/Vq3bq1HH31UU6dO1cyZM4vNtGPHjkLfJOzevVuzZ8/We++9p4EDByotLU1+fn7q0aOHBg4caI2nAgCAO9Jzzz0nPz8/ffTRRxo9erQqVaqk2rVr65VXXrH4n9M33nhD06dP19SpU/XQQw+pY8eOunDhQomO2b9/f2VlZenZZ59VWlqa6tWrp/fff1/+/v6aO3euoqOj9cYbb6hOnTqaO3dukRNLu7q6avbs2XrttdcUExOjtm3bql27dub1999/vyZPnqxJkybp2LFjqlixolq0aFForoX8unbtKoPBIBcXFzVs2FBjx44tci4qSfr1118VHR2tjIwMVatWTePHj1ft2rXN68PCwhQZGamMjAx169bNfLlFu3btlJmZqZEjR+rUqVOqUqWKWrVqpY4dOxZ5nMzMTEVHR+vkyZNydXVVmzZtzHNuvf7665o+fbomTZpU6HdQr149vf3225o8ebLOnTunxo0ba+7cueY7jwDlhcFU0nOnAAAAAMDBNWzYUGvXrlWdOnXsHQUo97ikAgAAAAAAWB0NBwAAAAAAYHVcUgEAAAAAAKyOMxwAAAAAAIDVlYu7VOTl5Sk3lxMxgLLAaDTwegTKCBcXo70j3FGu/zziaO+HjlaP5Hg1OVo9EjWVB45Wj+R4Ndm7HkufR8pFwyE316T09Ev2jgFAkqenG69HoIzw8ali7wh3lOs/jzja+6Gj1SM5Xk2OVo9ETeWBo9UjOV5N9q7H0ucRLqkAAAAAAABWR8MBAAAAAABYHQ0HAAAAAABgdTQcAAAAAACA1dFwAAAAAAAAVkfDAUCJxMUtVkhIkCpWdFVISJDi4hbbOxIAFOnMmTPq27evHn/8cXXq1Enz588vtI3JZNKUKVPUrl07denSRbt377ZDUgAAHFu5uC0mAPuKi1us6OjJiomZo/btw7RmTYKiooZKkiIje9g5HQAUZDQaNWbMGDVp0kQZGRnq3r27WrdurQYNGpi3SUxM1NGjR7V27Vrt3LlTb7zxhhYvLr1G6sZDqfpm1xlJJnV7oIbaNqgmSfrnv44o8T+pquvtpss5eUrNvKKLV3KVm5cnX/cKSsm4Is9KLhoYXNe8z//GO63UzGxVq+yibg/UkCQlH0uTu6tRGVm5CqrjZV4WVMer0P7L9+zRoZSLys2TmvhX0eWcPHO+3WcuaPXec/Ks5KLgut7m8fKPcX2Wo+f/VG6eSR0b++rFh+82L5cM6vZAdUnSR0lHlf5ntnzdKygzK1d1vd3kXdm1wNhFPVcbD6XesI78NYfd66+MzCuFnoeicl9fwzsbDun8pWy1quutN5+4t1B91+q40XNQVL4bPVclHatroFuxuUty3NJki0xlqU5bZrn2fhBSv5pefPjuUj02YC0Gk8lksneI4mRn5zrUfVKB8iYkJEjR0W+rTZsQ831+N21K1Lhxo5SYmGzveMAdy9J9r/E/L7zwgvr06aPWrVubl02YMEEPPfSQOnfuLElq3769Fi5cKF9f3xuOc/3nkVu97/nGQ6kau3yPsvOufgRzMRo0rfO92n3mgj7ddqJEYxidDJre5V7zf77Hrtij7FxTgfVOkvkYkuTiZJAMUnauSRWdnTSlU+Mb7p+fk0HKK2JV/jEK1FbEWGH33KXEw6nm5UaDZFLR4+YfW1Kh56pPy1patP2ULufkFarj1ZV7/9sokXl7SQXyFJU7v42HUvWPb3cXyBZ2z11684l7C9Xn4mTQtP/+HvLvfy2HpWPdylgxf2umltXdb5i7JMctTSXJdLOvo7JU542y3Op7Q37//NeRAu8H/R+qXaDpUJrPgzXqKWscrSZ712Pp8whnOAAo1oED+xUUFFxgWVBQsA4c2G+nRABQMidPntTevXvVtGnTAsvPnTsnf39/82N/f3+dO3fOYsPBaDTI09Mt32OnAo9L6pezRws0ArJzTfrl7EVtO5ZW4jFy867u0zWw9tXxrvsPfm6eSbnX7ZP/mJdz8izun9+NmgL5xyhQWxFj/XQyvcByC4crMPb1ubNzTdp8LM3cVLi+jvzNhmvblyR3fr+cPVqo5p9OpsvT061Qfdn5fg/59y8qX1HHudmxNh9OVVjjov+OlvS4pakkmW72dVSW6rxRllt9b8hv83XvB5uPpWlclybFHtsWrFFPWeNoNZXlemg4AChWQEBDJScnqU2bEPOy5OQkBQQ0tGMqALAsMzNTw4cP17hx4+TuXvS3wjcjN9dklTMcmvlX0VdOhgLf2jfzryIXk0kHzmWUaAyj09V90tMvXR3PaLjpMxws7Z+fpTMcro1RoLYixgqs5XnTZzg087/6jdn1z1XrOl46nnrJ/M1u/jqWODuV6AyH63Pn18y/ir64rubAWp5FPlcu+X4P+fe/lsPSsW5lrNb1qlnMXZLjlqaSZLrZ11FZqvNGWazxbXPrOl4F3g9a1/G6pb9n1mDvb89twdFqsnc9ls5wML7xxhtv2OrA8+bN0/jx47Vo0SL99NNPeuSRR3TmzBkNHDhQH374obZv367Q0FAZjUaL4+TlmXT5cratYgIohoeHp8aPH6N7722iu++uo/XrNygqaqhGjRqrxo2bFD8AAJuoXLmCvSOUWdnZ2RoyZIjatWunJ598stD6H3/8UR4eHgoICJAkzZ07V3379lXlypVvOOb1n0cqVnS5pc8ndb3d1MDHXZlZufqLV0UNfbie2jaopgfreCknN08XL+eoRS0P1fCoqMquTqrgbFRlVyfVq+Ymg0Gq5VlRo8PuMZ8+XdfbTQ3ucldmVo4quzqroW9lDQupp8ca+sijkouC/uKpe3zc9cxDf9FjAVeXPf1g7UL7X8kzKSc3V5VdnRVUx0s1PCrqL14VNTykvmp6VNTZC5dVy7OiujTx1z0+7gXGKFDbf7PkmaTKrkb1aFZDY8MDzMv/4uWmYSH11K6hr46nXZKzk0H1qrnJvYKzWtTyUOBfPM1jF/Vc9WheQ/XvqlxkHdeWX6t5yKP3KORu7wLLisp9fQ0BPu7affaCcvJMalu/mnkOh/z1/cXLTUND6hX5HBSVr8i/Bzc5VsemNW74d66kxy1NJcl0s6+jslTnjbLc6ntDfvnfDyLu9y80h0NpPg/WqKescbSa7F2Ppc8jNpvD4dy5c+rdu7dWrVqlihUr6qWXXlLbtm21ceNGhYeHq1OnTpowYYIaNWqkp556yuJYzOEA2F9c3GLFxMzQgQP7FRDQUFFRrzBhJGBnzOFQNJPJpNGjR8vDw0Pjx48vcpsNGzbos88+04cffqidO3dqypQpWrJkicVxrTWHQ1nlaPVIjleTo9UjUVN54Gj1SI5Xk73rsdscDrm5ubp8+bKcnZ11+fJl+fj4aOvWrZo5c6YkqVu3bpozZ06xDQcA9hcZ2UORkT3s/oYGAMX5+eeftWzZMgUEBKhr166SpJEjR+r06dOSpN69e5u/BGnXrp0qVaqk6Ohoe0YGAMAh2azh4Ofnp2effVaPPvqoKlSooNatW6tJkyaqWrWqnJ2vHvbaBE0AAADWEhgYqP37LU9qazAY9Prrr5dSIgAA7kw2azj88ccfSkhIUEJCgqpUqaKXXnpJ//rXv25prOtnhQZgP2V5FlwAAAAAZYfNGg5btmxRrVq15O3tLUkKDw/X9u3bdeHCBeXk5MjZ2Vlnz56Vn59fsWNdPys0APvhkgqg7GAOBwAAUJY52WrgGjVqaOfOnfrzzz9lMpmUlJSkBg0aKCgoSGvWrJEkffPNNwoNDbVVBAAAAAAAYCc2O8OhadOmat++vbp16yZnZ2c1btxYPXv21COPPKIRI0YoJiZGjRs3Vo8ezHIPAAAAAICjseldKoYPH67hw4cXWFa7du1ibzsFAAAAAADKN5tdUgEAAAAAAO5cNBwAAAAAAIDV0XAAAAAAAABWR8MBAAAAAABYHQ0HAAAAAABgdTQcAAAAAACA1dFwAAAAAAAAVkfDAQAAAAAAWB0NBwAAAAAAYHU0HAAAAAAAgNXRcAAAAAAAAFZHwwEAAAAAAFgdDQcAAAAAAGB1NBwAAAAAAIDV0XAAAAAAAABWR8MBAAAAAABYnbOtBj58+LBGjBhhfnzixAkNHz5cERERGjFihE6dOqWaNWsqJiZGHh4etooBAAAAAADswGZnONSrV0/Lli3TsmXLFBcXp0qVKqldu3aKjY1VcHCw1q5dq+DgYMXGxtoqAgAAAAAAsJNSuaQiKSlJtWvXVs2aNZWQkKCIiAhJUkREhNatW1caEQAAAAAAQCkqlYbDypUr1blzZ0lSamqqfH19JUk+Pj5KTU0tjQgAAAAAAKAU2WwOh2uysrL0ww8/6OWXXy60zmAwyGAwFDuG0WiQp6ebLeIBuElGoxOvRwAAAADFsnnDITExUU2aNNFdd90lSapWrZpSUlLk6+urlJQUeXt7FztGbq5J6emXbB0VQAl4errxegTKCB+fKvaOAAAAcEM2v6Ri5cqV6tSpk/lxaGio4uPjJUnx8fEKCwuzdQQAAAAAAFDKbNpwuHTpkrZs2aLw8HDzskGDBmnz5s0KDw/Xli1bNGjQIFtGAAAAAAAAdmDTSyrc3NyUnJxcYJmXl5fmz59vy8MCAAAAAAA7K5W7VAAAAAAAgDsLDQcAAOBQxo4dq+DgYPMtua938eJFDR48WE888YQ6deqkpUuXlnJCAADuDDQcAACAQ4mMjNRHH310w/Wff/656tevr2+//VYLFy7U9OnTlZWVVYoJAQC4M9BwAAAADuXBBx+Uh4fHDdcbDAZlZmbKZDIpMzNTHh4ecna2+Z3CAQC44/CvKwAAuKP8/e9/1wsvvKCHH35YmZmZeuedd+TkVPx3MEajQZ6ebvkeOxV4XN45Wj2S49XkaPVI1FQeOFo9kuPVVJbroeEAAADuKJs2bVLjxo21YMECHT9+XP3791dgYKDc3d0t7peba1J6+iXzY09PtwKPyztHq0dyvJocrR6JmsoDR6tHcrya7F2Pj0+VG67jkgoAAHBHiYuLU3h4uAwGg+rUqaNatWrp8OHD9o4FAIDDoeEAAADuKNWrV1dSUpIk6ffff9eRI0dUq1YtO6cCAMDxcEkFAABwKCNHjtS2bduUlpamkJAQDRs2TDk5OZKk3r1768UXX9TYsWPVpUsXmUwmvfLKK/L29rZzagAAHA8NBwAA4FBmzZplcb2fn58++eSTUkoDAMCdi0sqAAAAAACA1dFwAAAAAAAAVkfDAQAAAAAAWB0NBwAAAAAAYHU0HAAAAAAAgNXRcAAAAAAAAFZn04bDhQsXNHz4cHXo0EEdO3bUjh07lJ6erv79+ys8PFz9+/fXH3/8YcsIAAAAAADADmzacJg6daoefvhhfffdd1q2bJnq16+v2NhYBQcHa+3atQoODlZsbKwtIwAAAAAAADuwWcPh4sWL+vHHH/Xkk09KklxdXVW1alUlJCQoIiJCkhQREaF169bZKgIAAAAAALATZ1sNfPLkSXl7e2vs2LHat2+fmjRpovHjxys1NVW+vr6SJB8fH6WmptoqAgAAAAAAsBObNRxycnK0Z88evfbaa2ratKmmTJlS6PIJg8Egg8FQ7FhGo0Genm62igrgJhiNTrweAQAAABTLZg0Hf39/+fv7q2nTppKkDh06KDY2VtWqVVNKSop8fX2VkpIib2/vYsfKzTUpPf2SraICuAmenm68HoEywsenir0jAAAA3JDN5nDw8fGRv7+/Dh8+LElKSkpS/fr1FRoaqvj4eElSfHy8wsLCbBUBAAAAAADYic3OcJCk1157Ta+88oqys7NVu3ZtTZs2TXl5eYqKitKSJUtUo0YNxcTE2DICAAAAAACwA5s2HBo3bqy4uLhCy+fPn2/LwwIAAAAAADuz2SUVAAAAAADgzkXDAQAAAAAAWJ1NL6kAAAC4FRs3blRsbKwOHTokSbrnnnv03HPPqW3btnZOBgAASoqGAwAAKFO+/vprffnllxo1apTuv/9+SdKvv/6qmTNn6uzZs+rZs6edEwIAgJLgkgoAJRIXt1ghIUGqWNFVISFBiotbbO9IABzUvHnz9Mknnyg4OFju7u5yd3dXcHCwPvzwQ82bN8/e8QAAQAlxhgOAYsXFLVZ09GTFxMxR+/ZhWrMmQVFRQyVJkZE97JwOgKMxmUzy9PQstNzLy8sOaQAAwK3iDAcAxYqJmaGYmDlq0yZELi4uatMmRDExcxQTM8Pe0QA4IHd3d+3bt6/Q8n379qly5cp2SAQAAG4FZzgAKNaBA/t15swphYQE6cCB/QoIaKhhw6J04MB+e0cD4IBGjx6tF154QZGRkWrSpIkk6d///rfi4+P11ltv2TkdAAAoKc5wAFAsf39/jR07SpmZmZKkzMxMjR07Sv7+/nZOBsARBQYGavHixcrLy9M333yjb775Rnl5efrqq68UGBho73gAAKCEaDgAKNalS5eUmZmpgQMH6/z5dA0cOFiZmZm6dOmSvaMBcFB33XWXXnrpJc2ePVuzZ89WVFSUjh07pokTJ9o7GgAAKCEaDgCKlZ6erqFDX9KiRQvl7fizgMAAACAASURBVO2pRYsWaujQl5Senm7vaAAc3J49e/TWW28pNDRU7777rurVq2fvSAAAoIRoOAAokdatQ5SYmKzLl7OUmJis1q1D7B0JgIOZPXu2JOnIkSOaM2eOOnTooMmTJ6t69eoymUxauHCh+vbta+eUAACgpGg4AChWjRo1NHTo89q0KVHZ2dnatClRQ4c+rxo1atg7GgAHcvz4cUlSx44dtXXrVn3wwQdatGiR+vbtKycnPrIAAFDe8K83gGJNmDBZeXm5eumlF+Xu7qaXXnpReXm5mjBhsr2jAXAgzs5Xb541Z84c+fj46Omnn9arr76qpKQkmUwmO6cDAAA3i9tiAihWZGQPSVJMzAwZDAZVrlxZ48e/bl4OANYwfvx4SdJjjz2mxx57TJcuXVJCQoLmz5+v8+fP6/XXX1e7du3Upk0bOycFAAAlYTDdwlcGZ86c0cqVKzVw4EBbZCokOztX6enMhg+UBZ6ebrwegTLCx6eKvSOUmj/++ENr1qzRypUrNX/+fIvbjh07Vhs2bFC1atW0YsWKIrdJTk5WdHS0cnJy5OXlpc8++6zYDNd/HnG090NHq0dyvJocrR6JmsoDR6tHcrya7F2Ppc8jJT7D4fz581q9erVWrlyplJQUtWvXzirhAAAA8tu1a5fS0tLUtm1b8zIPDw/5+flp1KhRxe4fGRmpPn36aPTo0UWuv3DhgiZOnKiPPvpINWrUUGpqqtWyAwCA/7HYcMjIyND333+vFStW6MiRIwoPD9fJkyeVmJhYosFDQ0NVuXJlOTk5yWg0Ki4uTunp6RoxYoROnTqlmjVrKiYmRh4eHlYpBgAAlH8zZszQtGnTCi1v0KCBxo4dqwULFljc/8EHH9TJkydvuH758uVq166deeLbatWq3V5gAABQJIsNh1atWumBBx5QVFSUWrZsKYPBoO+///6mDjB//nx5e3ubH8fGxio4OFiDBg1SbGysYmNjS/RtBQAAuDNkZmaqZs2ahZbXrFlTp06d0tixY3X06FEtWrTolsY/evSocnJy1LdvX2VmZurpp59WREREsfsZjQZ5errle+xU4HF552j1SI5Xk6PVI1FTeeBo9UiOV1NZrsdiw2HkyJFatWqVJk6cqE6dOunxxx+/7QMmJCRo4cKFkqSIiAj17duXhgNQDsTFLVZMzAwdOLBfAQENFRX1CpNGArCJCxcuWFw/bdq0EjUIbiQ3N1e7d+/WvHnzdPnyZfXq1UtNmzbV3XffXcx+JuZwKGccrSZHq0eipvLA0eqRHK8me9dzy3M49OvXT/369dOJEye0cuVKDRkyRCkpKYqNjVW7du2K/YdZkgYMGCCDwaCePXuqZ8+eSk1Nla+v73+D+ZTousnrv1EAULq+/PJLTZ8+RR98EKuQkBAlJibq+ecHyc2tgnr16mXveAAcTHBwsN555x1FRUXJYDBIkkwmk9577z21atVKkvTFF1/c8vj+/v7y9PSUm5ub3NzcFBgYqH379pXocw0AACi5Ek0aWbt2bQ0ePFiDBw/WgQMHtGLFCg0aNKjYyysWLVokPz8/paamqn///qpXr16B9QaDwfxBwpLrv1EAULqio6dq5szZatYsSE5ORjVrFqSZM2dr3LhR6tDhCXvHA+5YjnqXijFjxujVV19Vu3bt1LhxY0nS3r17df/992vy5MmSJDe3W/8iIiwsTJMmTVJOTo6ys7O1a9cu9evXzxrRAQBAPiW+S8U1AQEBGjlypEaOHFnstn5+fpKuTsbUrl077dq1S9WqVVNKSop8fX2VkpJSYH4HAGXTgQP7FRQUXGBZUFCwDhzYb6dEAByZm5ubZs2apRMnTujgwYOSpH/84x+qXbu2srOzi91/5MiR2rZtm9LS0hQSEqJhw4YpJydHktS7d2/Vr19fDz/8sJ544gk5OTnpySefVEBAgE1rAgDgTmSx4RAaGlrgDASTyWR+bDAYtG7duhvue+nSJeXl5cnd3V2XLl3S5s2b9eKLLyo0NFTx8fEaNGiQ4uPjFRYWZqVSANhKQEBDJScnqU2bEPOy5OQkBQQ0tGMqAI6udu3aql27tkwmk7Zu3ar/+7//04YNG7RlyxaL+82aNavYsQcOHKiBAwdaKyoAACiCxYbD0qVLCzw2mUxavXq1Pv74Y917770WB05NTdWQIUMkXZ2cqXPnzgoJCdH999+vqKgoLVmyRDVq1FBMTMxtlgDA1qKiXlFU1FDFxMxR+/Zh2rQpUVFRQzVu3Gv2jgbAgf3yyy9asWKF1q1bpz/++EMTJkzQ6NGj7R0LAACUkMFkMpmK2ygvL0/Lli3Txx9/rEaNGmnw4MFq0KBBaeSTJGVn5zKHA2Bn3KUCKHscdQ6HWbNm6bvvvlP16tXVuXNnPfbYY+revbt++OEHu+a6/vOIvWcFtzZHq0dyvJocrR6JmsoDR6tHcrya7F3PLd+lIjs7W0uXLtW8efPUsmVLvf/++6pTp47VAwIo+yIjeygysofd39AAOL7Fixerbt266t27t0JDQ+Xq6lqiSaYBAEDZYrHhEBYWJmdnZz399NOqUaOG9u/fr/37/zdJXHh4uM0DAgCAO8umTZu0efNmrVy5UtHR0QoKCtKVK1eUk5MjZ+ebnu8aAADYicV/tVu1aiWDwVCo0XANDQcAAGBtRqNRISEhCgkJUVZWltavX68rV64oJCREwcHBmjlzpr0jAgCAErDYcHjzzTdLKwcAAEAhrq6uat++vdq3b6+MjAyLd8gCAABli8WGw6effmpx5/79+1s1DAAAwKeffip3d3f16FFwYtrVq1crMzPTTqkAAMDNcrK0MjMz0+IfAAAAa1u+fLkiIiIKLe/atWuhW3YDAICyy+IZDp6enurTp09pZQEAAFBOTo5cXFwKLXd1dbVDGgAAcKssnuHAtwgAAKC0mUwm/f7774WWF7UMAACUXRYbDgAAAKVtwIABGjRokLZt26aMjAxlZGQoOTlZzz//vJ599ll7xwMAACVk8ZKK/fv3q0WLFoWWm0wmGQwGbd++3WbBAJQtcXGLFRMzQwcO7FdAQENFRb2iyMgexe8IADcpIiJCXl5eeu+993Tw4EFJ0j333KPhw4erbdu2dk4HAABKymLDISAgQPHx8aWVBUAZFRe3WNHRkxUTM0ft24dpzZoERUUNlSSaDgBsom3btjQXAAAo5yw2HABAkmJiZigmZo7atAmRi4uL2rQJUUzMHI0bN4qGAwCrmzx5sgwGww3Xv/rqq6WYBgAA3CqLDYcOHTqUVg4AZdiBA/sVFBRcYFlQULAOHNhvp0QAHNl9991n7wgAAMAKLDYcvL29dfToUdWtW1cmk0njxo3TmjVrVLNmTb355ptq0qRJaeUEYEcBAQ2VnJykNm1CzMuSk5MUENDQjqkAOKouXbrI2ZmTMAEAKO8s3qViwYIFqlmzpiRpxYoV2r9/vxISEjR27FhNnTq1VAICsL+oqFcUFTVUmzYlKjs7W5s2JSoqaqiiol6xdzQADqhHj/9dqjV58mQ7JgEAALfD4tcHRqNRLi4ukqQNGzaoa9eu8vLyUqtWrfT222+XSkAA9ndtnoZx40bpySev3qVi3LjXmL8BgE2YTCbzz9wRCwCA8sviGQ5OTk5KSUnRlStXlJSUpFatWpnXXb58uUQHyM3NVUREhJ5//nlJ0okTJ9SjRw+1a9dOUVFRysrKuo34AEpLZGQPJSYm6/LlLCUmJtNsAGAzliaMBAAA5YfFMxyGDx+u7t27Ky8vT6GhobrnnnskSdu2bVPt2rVLdIAFCxaofv36ysjIkCTNmDFD/fr1U6dOnTRhwgQtWbJETz311G2WAQAAHMXhw4fVpUsXSdLx48fNP1+zfPlye8QCAAA3yWLD4dFHH9X69euVmZkpDw8P8/L77rtP77zzTrGDnz17Vhs2bNDgwYM1b948mUwmbd26VTNnzpQkdevWTXPmzKHhAAAAzFatWmXvCAAAwAosNhzWrl1rcefw8HCL66OjozVq1ChlZmZKktLS0lS1alXzzNP+/v46d+5csSGNRoM8Pd2K3Q6A7Xz55Zd6881p2rdvrxo1aqwxY8aqV69e9o4FwAFdm7AaAACUbxYbDuvXr7e4s6WGw/r16+Xt7a377rtPycnJt5buv3JzTUpPv3RbYwC4dXFxixUdPVkxMXPUvn2Y1qxJUFTUUF26dIW5HAA78vGpYu8INtG8efMi53EwmUwyGAxMJAkAQDlhseEwbdq0Wx54+/bt+uGHH5SYmKgrV64oIyNDU6dO1YULF5STkyNnZ2edPXtWfn5+t3wMAKUjJmaGYmLmqE2bELm4uKhNmxDFxMzRuHGjaDgAsLodO3bYOwIAALACi3ep+OGHH3Tq1Cnz4zlz5uiJJ57Q4MGDdeLECYsDv/zyy0pMTNQPP/ygWbNm6a9//atmzpypoKAgrVmzRpL0zTffKDQ01AplALClAwf2KygouMCyoKBgHTiw306JADiyP//8U9nZ2ebHhw8f1rx58/T999/bMRUAALhZFhsO77zzjry9vSVdvURi+fLlio6OVlhYmN54441bOuCoUaP06aefql27dkpPT1ePHnw7CpR1AQENlZycVGBZcnKSAgIa2ikRAEc2cOBA8xcex44dU69evXTixAl99tlnmjFjhp3TAQCAkrJ4SYXBYFClSpUkXZ1Asnv37rrvvvt033336YsvvijxQYKCghQUFCRJql27tpYsWXIbkQGUtqioVxQVNdQ8h8OmTYmKihqqceNes3c0AA7owoULqlu3rqSrZ0N26tRJr732mrKystS9e3e98sor9g0IAABKxGLDwWQyKTMzU5UqVdLWrVsL3L7yypUrNg8HoGy4Nk/DuHGj9OST+xUQ0FDjxr3G/A0AbG7r1q0aOHCgJMnV1bXIySQBAEDZZLHh8MwzzygiIkLu7u6qV6+e7r//fknSnj175OPjUyoBAZQNkZE9FBnZQ56ebtw1BoBNNWzYUNOnT5efn5+OHz+u1q1bS7p65gMAACg/LDYcnnzyST388MNKTU1Vo0aNzMvvuuuu27qDBQAAwI1MmTJFCxYs0MmTJ/XJJ5+YL+88dOiQnn32WTunAwAAJWVx0shly5bJz89P9957b4FbVPn6+uqHH36weTgAAHDnqVixogYNGqRXX31VjRo1UnZ2tvbs2aM6deooIiLC3vEAAEAJWWw4zJs3z/zzlClTCqxbunSpTQIBAIA724QJE3Tw4EFJ0sWLF9W1a1eNHj1aERERWrFiRbH7jx07VsHBwercubPF7Xbt2qV7771X3333nVVyAwCAgiw2HEwmU5E/F/UYAADAGn7++Wfdc889kq5+wVG3bl0tX75ccXFx+uijj4rdPzIystjtcnNzNWPGDPP8EAAAwPosNhzyzwR9/azQzBINAABswcXFxfzzli1b9Nhjj0lSiSesfvDBB+Xh4WFxm4ULF6p9+/aqVq3arQcFAAAWWZw08vDhw+rSpYsk6fjx4+afJenEiRO2TQYAAO5IVapU0fr16+Xn56ft27dr6tSpkqScnBxdvnz5tsc/d+6c1q1bpwULFujXX38t8X5Go0Genm75HjsVeFzeOVo9kuPV5Gj1SNRUHjhaPZLj1VSW67HYcFi1alVp5QAAAJAkTZo0SVOmTNHvv/+ucePGmc9sSEpK0iOPPHLb40+dOlWvvPKKnJwsnuhZSG6uqcBtgR3tNsGOVo/keDU5Wj0SNZUHjlaP5Hg12bseH58qN1xnseFQs2bNIpfn5eVpxYoVN1wPAABwq+6++259/PHHhZY//PDDxV4qURL//ve/NXLkSElSWlqaNm7cKGdnZ/OlGwAAwDosNhwyMjL0+eef69y5cwoNDVXr1q312Wef6dNPP1XDhg31xBNPlFZOAABwhzp06JBWrFihlStXqkqVKoqLi7ut8fLf2nvMmDF65JFHaDYAAGADFhsOo0aNkoeHh5o1a6bFixfrgw8+kMlk0vvvv6/GjRuXVkYAAHCHOXnypFauXKkVK1bIxcVFp06d0tKlS1WrVq1i9x05cqS2bdumtLQ0hYSEaNiwYcrJyZEk9e7d29bRAQDAf1lsOJw8eVL/93//J0nq0aOH2rRpow0bNqhChQqlEg4AANx5evbsqYyMDD3++OOaPXu26tatq9DQ0BI1GyRp1qxZJT7Wm2++easxAQBAMSzOluTs/L9+hNFolL+/P80GAABgU9WqVVNmZqZSU1N1/vx5SdyOGwCA8sjiGQ779u1TixYtJEkmk0lXrlxRixYtZDKZZDAYtH379lIJCQAA7hz//Oc/dfHiRa1du1Zz5szR0aNHdfHiRe3atUsPPPCAveMBAIASsthw2Lt3b2nlAFAKQkKCtG+f/V/XjRo1VmJisr1jACjDqlSpou7du6t79+5KTU3V6tWrFR0drTNnzmjjxo32jgcAAErAYsPhdly5ckV///vflZWVpdzcXLVv317Dhw/XiRMnNHLkSKWnp6tJkyZ666235OrqaqsYAPKxxn/yfX2rKiXlghXSAEDJVKtWTX369FGfPn2KvF0mAAAomyzO4XA7XF1dNX/+fH377beKj4/Xv/71L/3yyy+aMWOG+vXrp++//15Vq1bVkiVLbBUBAAA4mIULF9o7AgAAKCGbNRwMBoMqV64sScrJyVFOTo4MBoO2bt2q9u3bS5K6deumhIQEW0UAAAAOxmQy2TsCAAAoIZtdUiFJubm5ioyM1PHjx/XUU0+pdu3aqlq1qvnuF/7+/jp37lyx4xiNBnl6utkyKoCbwOsRgL1wtwoAAMoPmzYcjEajli1bpgsXLmjIkCE6fPjwLY2Tm2tSevolK6cDcKt4PQJlg49PFXtHsIkuXbrccN3vv/9eikkAAMDtsGnD4ZqqVasqKChIv/zyiy5cuKCcnBw5Ozvr7Nmz8vPzK40IAACgnJg9e7Z+//13Va9evcDyM2fOyMfHx06pAADAzbLZHA7nz5/XhQtXZ7K/fPmytmzZovr16ysoKEhr1qyRJH3zzTcKDQ21VQQAAFAOTZs2TVWqVFHNmjUL/KlSpYqmTZtm73gAAKCEbHaGQ0pKisaMGaPc3FyZTCZ16NBBjz76qBo0aKARI0YoJiZGjRs3Vo8ePWwVAQAAlEO///67GjZsWGh5w4YNderUKTskAgAAt8JmDYdGjRopPj6+0PLatWtzK0wAAHBDFy9evOG6y5cvl2ISAABwO2x2SQUAAMCtuO+++/T1118XWr548WI1adLEDokAAMCtKJVJIwEAAEpq3LhxGjp0qJYvX25uMPz73/9Wdna25syZY+d0AACgpGg4AACAMuWuu+7Sl19+qa1bt+rgwYOSpLZt2yo4ONjOyQAAwM2g4QAAAMqkv/71r/rrX/9q7xgAAOAWMYcDAAAAAACwOhoOAAAAAADA6mg4AAAAAAAAq6PhAAAAAAAArI6GAwAAAAAAsDoaDgAAAAAAwOpoOAAAAAAAAKuj4QAAAAAAAKyOhgMAAAAAALA6Gg4AAAAAAMDqaDgAAAAAAACro+EAAAAAAACsztlWA585c0b/+Mc/lJqaKoPBoL/97W965plnlJ6erhEjRujUqVOqWbOmYmJi5OHhYasYAAAAAADADmx2hoPRaNSYMWO0atUqffXVV/riiy906NAhxcbGKjg4WGvXrlVwcLBiY2NtFQEAAAAAANiJzRoOvr6+atKkiSTJ3d1d9erV07lz55SQkKCIiAhJUkREhNatW2erCAAA4A40duxYBQcHq3PnzkWu//bbb9WlSxd16dJFvXr10r59+0o5IQAAdwabXVKR38mTJ7V37141bdpUqamp8vX1lST5+PgoNTW12P2NRoM8Pd1sHRNACfF6BFCWRUZGqk+fPho9enSR62vVqqXPPvtMHh4e2rhxo1577TUtXry4lFMCAOD4bN5wyMzM1PDhwzVu3Di5u7sXWGcwGGQwGIodIzfXpPT0S7aKCOAm8XoEygYfnyr2jlAmPfjggzp58uQN17do0cL8c7NmzXT27NnSiAUAwB3Hpg2H7OxsDR8+XF26dFF4eLgkqVq1akpJSZGvr69SUlLk7e1tywgAAAA3tGTJEoWEhJRo2+vPuDQanRzqjC9Hq0dyvJocrR6JmsoDR6tHcryaynI9Nms4mEwmjR8/XvXq1VP//v3Ny0NDQxUfH69BgwYpPj5eYWFhtooAAABwQ1u3btWSJUv0xRdflGj768+49PR0c6gzvhytHsnxanK0eiRqKg8crR7J8Wqydz2Wzri0WcPh559/1rJlyxQQEKCuXbtKkkaOHKlBgwYpKipKS5YsUY0aNRQTE2OrCAAAAEXat2+fXn31VX344Yfy8vKydxwAABySzRoOgYGB2r9/f5Hr5s+fb6vDAg4rIOAvSk9Pt3cMSZKvb1V7R5Cnp6cOHDhu7xgAyqHTp09r2LBheuutt3T33XfbOw4AAA6rVO5SAeD2paenKyXlgr1j2P2UrWvKQtMDQNk0cuRIbdu2TWlpaQoJCdGwYcOUk5MjSerdu7fef/99paena+LEiZIko9GouLg4e0YGAMAh0XAAAAAOZdasWRbXT506VVOnTi2lNAAA3Lmc7B0AAAAAAAA4HhoOAAAAAADA6mg4AAAAAAAAq6PhAAAAAAAArI6GAwAAAAAAsDoaDgAAAAAAwOpoOAAAAAAAAKuj4QAAAAAAAKyOhgMAAAAAALA6Gg4AAAAAAMDqaDgAAAAAAACro+EAAAAAAACsjoYDAAAAAACwOhoOAAAAAADA6mzWcBg7dqyCg4PVuXNn87L09HT1799f4eHh6t+/v/744w9bHR4AAAAAANiRs60GjoyMVJ8+fTR69GjzstjYWAUHB2vQoEGKjY1VbGysRo0aZasIgEP59YXK8nm/lr1jSJJ87B1AV58PAAAAAGWXzRoODz74oE6ePFlgWUJCghYuXChJioiIUN++fWk4ACV0//9lKiXlgr1jyNPTTenpl+wdQ/f7VlXKRHunAAAAAHAjNms4FCU1NVW+vr6SJB8fH6WmppZoP6PRIE9PN1tGA8qFsvA6MBqdykQOqWw8HwAAAACKVqoNh/wMBoMMBkOJts3NNZWJb1QBeysLr4OycoaDVDaeD8CefHyq2DsCAADADZXqXSqqVaumlJQUSVJKSoq8vb1L8/AAAAAAAKCUlGrDITQ0VPHx8ZKk+Ph4hYWFlebhAQAAAABAKbFZw2HkyJHq1auXjhw5opCQEC1evFiDBg3S5s2bFR4eri1btmjQoEG2OjwAAAAAALAjm83hMGvWrCKXz58/31aHBAAAAAAAZUSpXlIBAAAAAADuDDQcAAAAAACA1dnttpgAbp6vb1V7RygzPD097R0BAAAAgAU0HIByIiXlgr0jSLra9CgrWQAAAACUXVxSAQAAAAAArI6GAwAAAAAAsDoaDgAAAAAAwOpoOAAAAAAAAKuj4QAAABzK2LFjFRwcrM6dOxe53mQyacqUKWrXrp26dOmi3bt3l3JCAADuDNylAgAAOJTIyEj16dNHo0ePLnJ9YmKijh49qrVr12rnzp164403tHjx4lJOKf3zX0eU+J9UhdSvphcfvlsbD6Xqo6RjOpF+STm5JlVyNaplLU9dzsmTZFKAj7sysnIVVMdLbRtU08ZDqUo+lqb95y5qX0qGDAbpbu/KCq7rpQO/ZUgyqKKzk46ev6TKrkalZGTJs5KLBgbX0e4zF7R6b4qMTlJdbzd1e6CG3CtnaPLK3fotI0s+7hU04pH6atugmjnv1XxHlf5ntjo29tOLD99tXv7NrjOSTOr2QI0C2a5lvZHrt7v+8fXP0c1K2JuihD1nC+XIfxxJSj6WJndXY4Hn90YZi1sOAGWVPd63DCaTyVQqR7oN2dm5Sk+/ZO8YAMRtMYGyxMenir0jlFknT57U4MGDtWLFikLrJkyYoIceesh8BkT79u21cOFC+fr6Whzz+s8jnp5ut/z55J//OqJPt50wPw675y5tOPS7ckvwqayis5N6t6ipRdtP/bcZcXMMkq4/jNHJoLw8U4HlTpLe6trE3AgYvXyPcvP+t0X/h2qrSfWqGrt8j7L/u9zFaFCflrXM2So6O2lKp8ZFfrDdeChVr67ca94uf00VnZ3U+m5vJRz8vcDxbqbpsPFQql5dtVeXswvmyH9cF6NBMsmcX9INty3Jclu7nb9zZRU1lX2OVo/keDWVpB5bvm9Z+jzCGQ7AHSQkJEj79u297XF8fave1v6NGjVWYmLybecAgFtx7tw5+fv7mx/7+/vr3LlzxTYcjEaDPD3d8j12KvD4Zmw+llbg8U8n00vUbJCkyzl52nws7ZaaDVLhZoOkAo2Ea/Ik/XL2oroG1tYvZ48W2mbzsTRlGwwF/rOenWsqkO1yTp55jOv9cvZoge2u3++nk+mFjjeuS5MS1/nL2aO6nF04R/7jZhfxpN9o25Ist7Xb+TtXVlFT2edo9UiOV1NJ6rHX+xYNB+AOYo3/5DtaRxgASio312S1Mxxa1/HSgXMZ5seBtTxv6gyH1nW8dDz1ks3PcGjmX0Xp6ZfUzL+KFjkZCjQdWtfxUhP/KvrKyVDgDIf82Sr+f3v3H1NVHf9x/HkBbyJKfEG9pJIJiiH5o2Yz7Yd6FWX+mCTaZrb81TQrmNIqTLPlAsqpsx9/lDISlzUXKTiuqQn+SvDXnNL8OWdOcHJZiFog4b3c7x9+uX1RNLArl3N7PTY3zz3nnvt+cc854nvn8zkBfu593G5QeCdyAvz+vqPhtvcN7hHS6A6HZ3v+T4t+3oPCO5HTzs99h8P/z9LwuXe7w6GpbZvz+oPmi/8GK1Pb52t5wPcyNSfPg7xu6Q4HERERkf9jsVgoLy93L5eXl2OxWFq1hoahAf9mDofYR4I9PIfDQ3edw2F47zA+ndivyTkcMib2u2MOh4ba7jVOeHjvMD4eH9Nou9vfCW5hVwAADKJJREFU92/mcBjeO4zVUwfdMYfD7Z8Ld5/Doaka7/W6iEhb5a3rluZwEJEW8bWOsIiRaQ6Hu7vXHA67d+/m22+/Ze3atRw/fpyPP/6YnJycf9ynJ+dwaIt8LQ/4XiZfywPKZAS+lgd8L5O38+gOBxEREfnPSElJ4dChQ1RVVfHCCy+QlJSEw+EAYNq0aQwfPpw9e/YQFxdHYGAg6enpXq5YRETEN3ml4bB3717S0tKor69n6tSpzJ071xtliIiIiA9atWrVPdebTCY+/PDDVqpGRETkv8uvtT/Q6XSybNkyMjMzsdls5Ofnc+7cudYuQ0REREREREQeoFZvOJSUlNCzZ08iIiIwm82MHz+egoKC1i5DRERERERERB6gVh9Scfuzry0WCyUlJfd8z+3PvRYR7/G15xaLiIiIiMiDYYhJI29/7rWIeI+3Z8EVkb/pKRUiIiLSlrV6w+H2Z1/b7fZ/fPZ1u3b++qVKpA3R+Sgi/0VN/T7ia9dDX8sDvpfJ1/KAMhmBr+UB38vUVvO0+hwO/fv358KFC5SWllJXV4fNZsNqtbZ2GSIiIiIiIiLyALX6HQ4BAQEsXbqU1157DafTSWJiIn369GntMkRERERERETkATK5XC6Xt4sQEREREREREd/S6kMqRERERERERMT3qeEgIiIiIiIiIh6nhoOIiIiIiIiIeJwaDiIiIiIiIiLica3+lAoRMaZFixaxe/duwsLCyM/P93Y5IiJes3fvXtLS0qivr2fq1KnMnTvX2yW1WFPX9KtXr7Jw4UIuXbpE9+7dWb16NQ8//LCXK22ey5cv8+6771JZWYnJZOKll15ixowZhs70119/MX36dOrq6nA6nYwdO5bk5GRKS0tJSUnh6tWrxMbGsnz5csxms7fLbbaGp9RZLBa+/vprw+exWq0EBQXh5+eHv78/mzZtMvRxB3D9+nWWLFnC2bNnMZlMpKen06tXL0NmOn/+PAsXLnQvl5aWkpycTEJCgiHzNFi3bh0//PADJpOJ6OhoMjIyqKioaJPnku5wEJFmmTx5MpmZmd4uQ0TEq5xOJ8uWLSMzMxObzUZ+fj7nzp3zdlkt1tQ1fc2aNQwdOpQdO3YwdOhQ1qxZ46XqWs7f35/U1FS2bt3Kxo0b+e677zh37pyhM5nNZrKzs9myZQu5ubns27ePY8eOsWLFCmbOnMnPP/9McHAwOTk53i61RdavX09UVJR72eh5ALKzs8nLy2PTpk2Asc8lgLS0NJ5//nm2bdtGXl4eUVFRhs0UGRlJXl6e+/sJDAwkLi7OsHkA7HY769ev58cffyQ/Px+n04nNZmuz55IaDiLSLE8//bShOr8iIg9CSUkJPXv2JCIiArPZzPjx4ykoKPB2WS3W1DW9oKCAhIQEABISEti5c6c3SrsvXbt2JTY2FoCOHTsSGRmJ3W43dCaTyURQUBAADocDh8OByWTiwIEDjB07FoAXX3zRUMdfeXk5u3fvZsqUKQC4XC5D57kbIx93f/zxB4cPH3Z/R2azmeDgYENnalBcXExERATdu3c3fB6n00ltbS0Oh4Pa2lq6dOnSZs8lNRxEREREmslutxMeHu5etlgs2O12L1bkOZWVlXTt2hWALl26UFlZ6eWK7k9ZWRmnTp1i4MCBhs/kdDqZNGkSw4YNY9iwYURERBAcHExAwK1R0eHh4YY6/tLT03nnnXfw87v1X5CqqipD52kwZ84cJk+ezMaNGwFjn0tlZWWEhoayaNEiEhISWLx4MTU1NYbO1MBmszFhwgTA2N+RxWJh9uzZjBw5kueee46OHTsSGxvbZs8lNRxEREREpBGTyYTJZPJ2GS1WXV1NcnIy77//Ph07dmy0zoiZ/P39ycvLY8+ePZSUlHD+/Hlvl3Tfdu3aRWhoKE888YS3S/Go77//ns2bN7N27Vo2bNjA4cOHG6032nHncDg4efIk06ZNIzc3l8DAwDuGGxgtE0BdXR2FhYXEx8ffsc5oea5du0ZBQQEFBQXs27ePGzdusG/fPm+XdVdqOIiIiIg0k8Vioby83L1st9uxWCxerMhzwsLCqKioAKCiooLQ0FAvV9QyN2/eJDk5mYkTJzJmzBjA+JkaBAcHM2TIEI4dO8b169dxOBzArSEKRjn+jh49SmFhIVarlZSUFA4cOEBaWpph8zRoqDcsLIy4uDhKSkoMfdyFh4cTHh7OwIEDAYiPj+fkyZOGzgS3JvuNjY2lc+fOgLGvDUVFRfTo0YPQ0FDatWvHmDFjOHr0aJs9l9RwEBEREWmm/v37c+HCBUpLS6mrq8Nms2G1Wr1dlkdYrVZyc3MByM3NZdSoUV6uqPlcLheLFy8mMjKSWbNmuV83cqYrV65w/fp1AGpraykqKiIqKoohQ4awfft2ADZv3myY4+/tt99m7969FBYWsmrVKp555hlWrlxp2DwANTU1/Pnnn+6/79+/nz59+hj6uOvSpQvh4eHuu2mKi4uJiooydCa4NZxi/Pjx7mUj5+nWrRvHjx/nxo0buFwuiouL6d27d5s9l0wul8vl7SJEpO1LSUnh0KFDVFVVERYWRlJSElOnTvV2WSIirW7Pnj2kp6e7H+83f/58b5fUYk1d00ePHs2CBQu4fPky3bp1Y/Xq1YSEhHi71GY5cuQI06dPJzo62j0/QEpKCgMGDDBsptOnT5OamorT6cTlchEfH89bb71FaWkpCxcu5Nq1a8TExLBixYo28ei7ljh48CBZWVnux2IaNU9paSlvvvkmcGu+jQkTJjB//nyqqqoMe9wBnDp1isWLF3Pz5k0iIiLIyMigvr7esJlqamoYOXIkO3fupFOnTgCG/44+//xztm7dSkBAADExMaSlpWG329vkuaSGg4iIiIiIiIh4nIZUiIiIiIiIiIjHqeEgIiIiIiIiIh6nhoOIiIiIiIiIeJwaDiIiIiIiIiLicWo4iIiIiIiIiIjHBXi7ABERERER8R0xMTFER0fjdDrp0aMHy5cvJzg4mLKyMsaNG0evXr3c286aNYuEhARycnLIzs4GwOVysWDBAkaPHk1qaiojRowgPj6eXbt28dlnn1FfX4/D4eDVV1+lqqqKbdu2AXD27Fmio6MBSExM5Nq1a3To0IE5c+aQmprK/v37KSgowGw2c+XKFaZMmUJhYaG7lnXr1rFy5UqKiorcj08UkX9HDQcREREREfGY9u3bk5eXB8B7773Hhg0bmD9/PgCPPvqoe12D8vJyvvrqKzZv3kynTp2orq7mypUrjba5efMmH3zwATk5OYSHh1NXV0dZWRmRkZHufT/55JON9v3FF1802oe/vz85OTm8/PLLTdZts9no378/O3bsIDEx8d/9EEQE0JAKERERERF5QAYNGoTdbr/nNpWVlQQFBdGhQwcAgoKCiIiIaLRNdXU1TqeTkJAQAMxmM5GRkS2qZcaMGWRnZ+NwOO5Yd/HiRWpqaliwYAE2m61F+xWRu1PDQUREREREPM7pdFJcXIzVanW/dvHiRSZNmuT+c+TIER5//HE6d+7MqFGjWLRoUaNhDg1CQkKwWq2MHDmSlJQUtmzZQn19fYvqeeSRR3jqqafuuMMCbt3dMG7cOAYPHsxvv/3G77//3vLAInIHDakQERERERGPqa2tZdKkSdjtdqKionj22Wfd65oaUgGQmZnJr7/+SnFxMRkZGZw4cYKkpKRG26SlpXHmzBmKi4vJysqiqKiITz75pEW1zZs3jzfeeIMRI0Y0et1ms/Hll1/i5+fHmDFj2LZtG6+88kqL9i0id9IdDiIiIiIi4jENczjs2rULl8vFhg0b/vE9JpOJAQMGMG/ePFatWsWOHTua3K5v377MnDmTrKwstm/f3uLaHnvsMWJiYvjpp5/cr505c4YLFy4we/ZsrFYrNpuN/Pz8Fu9bRO6khoOIiIiIiHhcYGAgS5Ys4Ztvvmly3oQGdrudEydOuJdPnz5Nt27dGm1TXV3NwYMHG23TvXv3+6rr9ddfJysry71ss9lISkqisLCQwsJCfvnlFyoqKrh06dJ97V9E/qYhFSIiIiIi8kD069ePvn37kp+fz+DBg91zODRITExk1KhRfPrpp1RUVPDQQw8RGhrKRx991Gg/LpeLzMxMli5dSvv27QkMDCQjI+O+aurTpw/9+vXj5MmTwK2Gw5o1axptExcXh81mY+7cuff1GSJyi8nlcrm8XYSIiIiIiIiI+BYNqRARERERERERj1PDQUREREREREQ8Tg0HEREREREREfE4NRxERERERERExOPUcBARERERERERj1PDQUREREREREQ8Tg0HEREREREREfG4/wWG0GZFeEn+jgAAAABJRU5ErkJggg==\n"
          },
          "metadata": {}
        }
      ]
    },
    {
      "cell_type": "code",
      "source": [
        "cancer[cancer['Resistin']>80]"
      ],
      "metadata": {
        "colab": {
          "base_uri": "https://localhost:8080/",
          "height": 81
        },
        "id": "7rSfVBfTF72I",
        "outputId": "949fe3d7-8d1c-4733-a083-e945dd030d1c"
      },
      "execution_count": null,
      "outputs": [
        {
          "output_type": "execute_result",
          "data": {
            "text/plain": [
              "    Age        BMI  Glucose  Insulin      HOMA   Leptin  Adiponectin  \\\n",
              "37   69  35.092702      101    5.646  1.406607  83.4821     6.796985   \n",
              "\n",
              "    Resistin    MCP.1  Classification  \n",
              "37      82.1  263.499               1  "
            ],
            "text/html": [
              "\n",
              "  <div id=\"df-32f216c8-cd74-45b4-bdcc-0e2e0bc62f90\">\n",
              "    <div class=\"colab-df-container\">\n",
              "      <div>\n",
              "<style scoped>\n",
              "    .dataframe tbody tr th:only-of-type {\n",
              "        vertical-align: middle;\n",
              "    }\n",
              "\n",
              "    .dataframe tbody tr th {\n",
              "        vertical-align: top;\n",
              "    }\n",
              "\n",
              "    .dataframe thead th {\n",
              "        text-align: right;\n",
              "    }\n",
              "</style>\n",
              "<table border=\"1\" class=\"dataframe\">\n",
              "  <thead>\n",
              "    <tr style=\"text-align: right;\">\n",
              "      <th></th>\n",
              "      <th>Age</th>\n",
              "      <th>BMI</th>\n",
              "      <th>Glucose</th>\n",
              "      <th>Insulin</th>\n",
              "      <th>HOMA</th>\n",
              "      <th>Leptin</th>\n",
              "      <th>Adiponectin</th>\n",
              "      <th>Resistin</th>\n",
              "      <th>MCP.1</th>\n",
              "      <th>Classification</th>\n",
              "    </tr>\n",
              "  </thead>\n",
              "  <tbody>\n",
              "    <tr>\n",
              "      <th>37</th>\n",
              "      <td>69</td>\n",
              "      <td>35.092702</td>\n",
              "      <td>101</td>\n",
              "      <td>5.646</td>\n",
              "      <td>1.406607</td>\n",
              "      <td>83.4821</td>\n",
              "      <td>6.796985</td>\n",
              "      <td>82.1</td>\n",
              "      <td>263.499</td>\n",
              "      <td>1</td>\n",
              "    </tr>\n",
              "  </tbody>\n",
              "</table>\n",
              "</div>\n",
              "      <button class=\"colab-df-convert\" onclick=\"convertToInteractive('df-32f216c8-cd74-45b4-bdcc-0e2e0bc62f90')\"\n",
              "              title=\"Convert this dataframe to an interactive table.\"\n",
              "              style=\"display:none;\">\n",
              "        \n",
              "  <svg xmlns=\"http://www.w3.org/2000/svg\" height=\"24px\"viewBox=\"0 0 24 24\"\n",
              "       width=\"24px\">\n",
              "    <path d=\"M0 0h24v24H0V0z\" fill=\"none\"/>\n",
              "    <path d=\"M18.56 5.44l.94 2.06.94-2.06 2.06-.94-2.06-.94-.94-2.06-.94 2.06-2.06.94zm-11 1L8.5 8.5l.94-2.06 2.06-.94-2.06-.94L8.5 2.5l-.94 2.06-2.06.94zm10 10l.94 2.06.94-2.06 2.06-.94-2.06-.94-.94-2.06-.94 2.06-2.06.94z\"/><path d=\"M17.41 7.96l-1.37-1.37c-.4-.4-.92-.59-1.43-.59-.52 0-1.04.2-1.43.59L10.3 9.45l-7.72 7.72c-.78.78-.78 2.05 0 2.83L4 21.41c.39.39.9.59 1.41.59.51 0 1.02-.2 1.41-.59l7.78-7.78 2.81-2.81c.8-.78.8-2.07 0-2.86zM5.41 20L4 18.59l7.72-7.72 1.47 1.35L5.41 20z\"/>\n",
              "  </svg>\n",
              "      </button>\n",
              "      \n",
              "  <style>\n",
              "    .colab-df-container {\n",
              "      display:flex;\n",
              "      flex-wrap:wrap;\n",
              "      gap: 12px;\n",
              "    }\n",
              "\n",
              "    .colab-df-convert {\n",
              "      background-color: #E8F0FE;\n",
              "      border: none;\n",
              "      border-radius: 50%;\n",
              "      cursor: pointer;\n",
              "      display: none;\n",
              "      fill: #1967D2;\n",
              "      height: 32px;\n",
              "      padding: 0 0 0 0;\n",
              "      width: 32px;\n",
              "    }\n",
              "\n",
              "    .colab-df-convert:hover {\n",
              "      background-color: #E2EBFA;\n",
              "      box-shadow: 0px 1px 2px rgba(60, 64, 67, 0.3), 0px 1px 3px 1px rgba(60, 64, 67, 0.15);\n",
              "      fill: #174EA6;\n",
              "    }\n",
              "\n",
              "    [theme=dark] .colab-df-convert {\n",
              "      background-color: #3B4455;\n",
              "      fill: #D2E3FC;\n",
              "    }\n",
              "\n",
              "    [theme=dark] .colab-df-convert:hover {\n",
              "      background-color: #434B5C;\n",
              "      box-shadow: 0px 1px 3px 1px rgba(0, 0, 0, 0.15);\n",
              "      filter: drop-shadow(0px 1px 2px rgba(0, 0, 0, 0.3));\n",
              "      fill: #FFFFFF;\n",
              "    }\n",
              "  </style>\n",
              "\n",
              "      <script>\n",
              "        const buttonEl =\n",
              "          document.querySelector('#df-32f216c8-cd74-45b4-bdcc-0e2e0bc62f90 button.colab-df-convert');\n",
              "        buttonEl.style.display =\n",
              "          google.colab.kernel.accessAllowed ? 'block' : 'none';\n",
              "\n",
              "        async function convertToInteractive(key) {\n",
              "          const element = document.querySelector('#df-32f216c8-cd74-45b4-bdcc-0e2e0bc62f90');\n",
              "          const dataTable =\n",
              "            await google.colab.kernel.invokeFunction('convertToInteractive',\n",
              "                                                     [key], {});\n",
              "          if (!dataTable) return;\n",
              "\n",
              "          const docLinkHtml = 'Like what you see? Visit the ' +\n",
              "            '<a target=\"_blank\" href=https://colab.research.google.com/notebooks/data_table.ipynb>data table notebook</a>'\n",
              "            + ' to learn more about interactive tables.';\n",
              "          element.innerHTML = '';\n",
              "          dataTable['output_type'] = 'display_data';\n",
              "          await google.colab.output.renderOutput(dataTable, element);\n",
              "          const docLink = document.createElement('div');\n",
              "          docLink.innerHTML = docLinkHtml;\n",
              "          element.appendChild(docLink);\n",
              "        }\n",
              "      </script>\n",
              "    </div>\n",
              "  </div>\n",
              "  "
            ]
          },
          "metadata": {},
          "execution_count": 25
        }
      ]
    },
    {
      "cell_type": "markdown",
      "source": [
        "**Análise da Resistina**\n",
        "- Neste caso também podemos constatar que os dados estão todos inseridos corretamente, e temos um ponto bem distante dos demais, chegando a 80 ng/mL, enquanto o outros mais alto estão entre 50 e 60 ng/mL.\n",
        "- Interessante constatar que este paciente que esta com quase 80 ng/mL não foi diagnosticado com câncer de mama, enquanto todos os outros, entre 30 e 60 ng/mL, foram diagnosticado com câncer. \n",
        "- Esse seria um caso possível de se excluir este dado, no caso a linha inteira, possivelmente ajude a melhorar o modelo por ser um outlier. Porem como já estamos com poucos dados, nesse caso, não irei fazer isso."
      ],
      "metadata": {
        "id": "1t1tHqkU6xBn"
      }
    },
    {
      "cell_type": "markdown",
      "source": [
        "##MCP-1\n",
        "nivel de proteina MCP-1 (pg/dL)"
      ],
      "metadata": {
        "id": "GJiur5S4L7u0"
      }
    },
    {
      "cell_type": "code",
      "source": [
        "print(\"MCP.1\" + \": \")\n",
        "print(cancer[\"MCP.1\"].unique())\n",
        "print(cancer[\"MCP.1\"].describe())\n",
        "display (cancer[cancer[\"MCP.1\"].isnull()])"
      ],
      "metadata": {
        "colab": {
          "base_uri": "https://localhost:8080/",
          "height": 483
        },
        "id": "i_f7ZBiSMEVG",
        "outputId": "03b0594b-0e5d-4417-9f7f-2d691c53718c"
      },
      "execution_count": null,
      "outputs": [
        {
          "output_type": "stream",
          "name": "stdout",
          "text": [
            "MCP.1: \n",
            "[ 417.114  468.786  554.697  928.22   773.92   530.41  1256.083  280.694\n",
            "  136.855  318.302  354.6    174.8    313.73   632.22   165.02    63.61\n",
            "  191.72   444.395  252.449  588.46   534.224  572.783  904.981  733.797\n",
            " 1227.91   586.173  887.16  1102.11   667.928  581.313  864.968  695.754\n",
            "  358.624  960.246  473.859  585.307  634.602  263.499  378.996  618.272\n",
            "  698.789  377.227  335.393  270.142  200.976  225.88   206.802  209.749\n",
            "  215.769  232.006   45.843  488.829  552.444  382.955  573.63   481.949\n",
            "  321.919  448.799   90.6    703.973  199.055  713.239  737.672  359.232\n",
            "  355.31   518.586  635.049  395.976  301.21   220.66   193.87   244.75\n",
            "  513.66   195.94   312.     806.724  483.377  775.322 1698.44   783.796\n",
            "  910.489  426.175  738.034  799.898 1041.843 1078.359  923.886  638.261\n",
            "  994.316  764.667  656.393  396.021  602.486  407.206  293.123  256.001\n",
            "  353.568  572.401  269.487  396.648  232.018  655.834  788.902  621.273\n",
            "  209.19   198.4     99.45   218.28   268.23   330.16   314.05   392.46\n",
            "   90.09 ]\n",
            "count     116.000000\n",
            "mean      534.647000\n",
            "std       345.912663\n",
            "min        45.843000\n",
            "25%       269.978250\n",
            "50%       471.322500\n",
            "75%       700.085000\n",
            "max      1698.440000\n",
            "Name: MCP.1, dtype: float64\n"
          ]
        },
        {
          "output_type": "display_data",
          "data": {
            "text/plain": [
              "Empty DataFrame\n",
              "Columns: [Age, BMI, Glucose, Insulin, HOMA, Leptin, Adiponectin, Resistin, MCP.1, Classification]\n",
              "Index: []"
            ],
            "text/html": [
              "\n",
              "  <div id=\"df-1add43fe-72b7-4575-bc77-ffa71c367392\">\n",
              "    <div class=\"colab-df-container\">\n",
              "      <div>\n",
              "<style scoped>\n",
              "    .dataframe tbody tr th:only-of-type {\n",
              "        vertical-align: middle;\n",
              "    }\n",
              "\n",
              "    .dataframe tbody tr th {\n",
              "        vertical-align: top;\n",
              "    }\n",
              "\n",
              "    .dataframe thead th {\n",
              "        text-align: right;\n",
              "    }\n",
              "</style>\n",
              "<table border=\"1\" class=\"dataframe\">\n",
              "  <thead>\n",
              "    <tr style=\"text-align: right;\">\n",
              "      <th></th>\n",
              "      <th>Age</th>\n",
              "      <th>BMI</th>\n",
              "      <th>Glucose</th>\n",
              "      <th>Insulin</th>\n",
              "      <th>HOMA</th>\n",
              "      <th>Leptin</th>\n",
              "      <th>Adiponectin</th>\n",
              "      <th>Resistin</th>\n",
              "      <th>MCP.1</th>\n",
              "      <th>Classification</th>\n",
              "    </tr>\n",
              "  </thead>\n",
              "  <tbody>\n",
              "  </tbody>\n",
              "</table>\n",
              "</div>\n",
              "      <button class=\"colab-df-convert\" onclick=\"convertToInteractive('df-1add43fe-72b7-4575-bc77-ffa71c367392')\"\n",
              "              title=\"Convert this dataframe to an interactive table.\"\n",
              "              style=\"display:none;\">\n",
              "        \n",
              "  <svg xmlns=\"http://www.w3.org/2000/svg\" height=\"24px\"viewBox=\"0 0 24 24\"\n",
              "       width=\"24px\">\n",
              "    <path d=\"M0 0h24v24H0V0z\" fill=\"none\"/>\n",
              "    <path d=\"M18.56 5.44l.94 2.06.94-2.06 2.06-.94-2.06-.94-.94-2.06-.94 2.06-2.06.94zm-11 1L8.5 8.5l.94-2.06 2.06-.94-2.06-.94L8.5 2.5l-.94 2.06-2.06.94zm10 10l.94 2.06.94-2.06 2.06-.94-2.06-.94-.94-2.06-.94 2.06-2.06.94z\"/><path d=\"M17.41 7.96l-1.37-1.37c-.4-.4-.92-.59-1.43-.59-.52 0-1.04.2-1.43.59L10.3 9.45l-7.72 7.72c-.78.78-.78 2.05 0 2.83L4 21.41c.39.39.9.59 1.41.59.51 0 1.02-.2 1.41-.59l7.78-7.78 2.81-2.81c.8-.78.8-2.07 0-2.86zM5.41 20L4 18.59l7.72-7.72 1.47 1.35L5.41 20z\"/>\n",
              "  </svg>\n",
              "      </button>\n",
              "      \n",
              "  <style>\n",
              "    .colab-df-container {\n",
              "      display:flex;\n",
              "      flex-wrap:wrap;\n",
              "      gap: 12px;\n",
              "    }\n",
              "\n",
              "    .colab-df-convert {\n",
              "      background-color: #E8F0FE;\n",
              "      border: none;\n",
              "      border-radius: 50%;\n",
              "      cursor: pointer;\n",
              "      display: none;\n",
              "      fill: #1967D2;\n",
              "      height: 32px;\n",
              "      padding: 0 0 0 0;\n",
              "      width: 32px;\n",
              "    }\n",
              "\n",
              "    .colab-df-convert:hover {\n",
              "      background-color: #E2EBFA;\n",
              "      box-shadow: 0px 1px 2px rgba(60, 64, 67, 0.3), 0px 1px 3px 1px rgba(60, 64, 67, 0.15);\n",
              "      fill: #174EA6;\n",
              "    }\n",
              "\n",
              "    [theme=dark] .colab-df-convert {\n",
              "      background-color: #3B4455;\n",
              "      fill: #D2E3FC;\n",
              "    }\n",
              "\n",
              "    [theme=dark] .colab-df-convert:hover {\n",
              "      background-color: #434B5C;\n",
              "      box-shadow: 0px 1px 3px 1px rgba(0, 0, 0, 0.15);\n",
              "      filter: drop-shadow(0px 1px 2px rgba(0, 0, 0, 0.3));\n",
              "      fill: #FFFFFF;\n",
              "    }\n",
              "  </style>\n",
              "\n",
              "      <script>\n",
              "        const buttonEl =\n",
              "          document.querySelector('#df-1add43fe-72b7-4575-bc77-ffa71c367392 button.colab-df-convert');\n",
              "        buttonEl.style.display =\n",
              "          google.colab.kernel.accessAllowed ? 'block' : 'none';\n",
              "\n",
              "        async function convertToInteractive(key) {\n",
              "          const element = document.querySelector('#df-1add43fe-72b7-4575-bc77-ffa71c367392');\n",
              "          const dataTable =\n",
              "            await google.colab.kernel.invokeFunction('convertToInteractive',\n",
              "                                                     [key], {});\n",
              "          if (!dataTable) return;\n",
              "\n",
              "          const docLinkHtml = 'Like what you see? Visit the ' +\n",
              "            '<a target=\"_blank\" href=https://colab.research.google.com/notebooks/data_table.ipynb>data table notebook</a>'\n",
              "            + ' to learn more about interactive tables.';\n",
              "          element.innerHTML = '';\n",
              "          dataTable['output_type'] = 'display_data';\n",
              "          await google.colab.output.renderOutput(dataTable, element);\n",
              "          const docLink = document.createElement('div');\n",
              "          docLink.innerHTML = docLinkHtml;\n",
              "          element.appendChild(docLink);\n",
              "        }\n",
              "      </script>\n",
              "    </div>\n",
              "  </div>\n",
              "  "
            ]
          },
          "metadata": {}
        }
      ]
    },
    {
      "cell_type": "code",
      "source": [
        "sns.set_style('darkgrid')\n",
        "plt.figure(figsize=(18,4))\n",
        "\n",
        "plt.subplot(1, 2, 1) \n",
        "plt.boxplot(cancer['MCP.1'])  \n",
        "plt.title('BLOXPLOT', fontsize=12)\n",
        "plt.ylabel('MCP.1'.upper(), fontsize=10)\n",
        "plt.grid(color='white')\n",
        "\n",
        "plt.subplot(1, 2, 2)\n",
        "plt.scatter(cancer['MCP.1'], cancer['Classification'],s=10)  \n",
        "plt.title('Gráfico de Dispersão', fontsize=12)\n",
        "plt.xlabel('MCP.1'.upper(), fontsize=10)\n",
        "plt.ylabel('Classificação'.upper(), fontsize=10)\n",
        "plt.grid(color='white')"
      ],
      "metadata": {
        "colab": {
          "base_uri": "https://localhost:8080/",
          "height": 295
        },
        "id": "PSZuHepNMHSv",
        "outputId": "43f52a60-c6a7-4e98-a620-dfae0ec282a0"
      },
      "execution_count": null,
      "outputs": [
        {
          "output_type": "display_data",
          "data": {
            "text/plain": [
              "<Figure size 1296x288 with 2 Axes>"
            ],
            "image/png": "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\n"
          },
          "metadata": {}
        }
      ]
    },
    {
      "cell_type": "code",
      "source": [
        "cancer[cancer['MCP.1']>1500]"
      ],
      "metadata": {
        "colab": {
          "base_uri": "https://localhost:8080/",
          "height": 175
        },
        "id": "YagrUOxxE-1t",
        "outputId": "3d97e28b-9c40-4661-be42-860affebcc64"
      },
      "execution_count": null,
      "outputs": [
        {
          "output_type": "execute_result",
          "data": {
            "text/plain": [
              "    Age        BMI  Glucose  Insulin       HOMA   Leptin  Adiponectin  \\\n",
              "78   86  26.666667      201   41.611  20.630734  47.6470     5.357135   \n",
              "85   65  29.666548       85   14.649   3.071407  26.5166     7.282870   \n",
              "86   48  28.125000       90    2.540   0.563880  15.5325    10.222310   \n",
              "88   48  31.250000      199   12.162   5.969920  18.1314     4.104105   \n",
              "\n",
              "    Resistin    MCP.1  Classification  \n",
              "78  24.37010  1698.44               2  \n",
              "85  19.46324  1698.44               2  \n",
              "86  16.11032  1698.44               2  \n",
              "88  53.63080  1698.44               2  "
            ],
            "text/html": [
              "\n",
              "  <div id=\"df-d4c86e08-15bb-437e-8add-ef665709fdf7\">\n",
              "    <div class=\"colab-df-container\">\n",
              "      <div>\n",
              "<style scoped>\n",
              "    .dataframe tbody tr th:only-of-type {\n",
              "        vertical-align: middle;\n",
              "    }\n",
              "\n",
              "    .dataframe tbody tr th {\n",
              "        vertical-align: top;\n",
              "    }\n",
              "\n",
              "    .dataframe thead th {\n",
              "        text-align: right;\n",
              "    }\n",
              "</style>\n",
              "<table border=\"1\" class=\"dataframe\">\n",
              "  <thead>\n",
              "    <tr style=\"text-align: right;\">\n",
              "      <th></th>\n",
              "      <th>Age</th>\n",
              "      <th>BMI</th>\n",
              "      <th>Glucose</th>\n",
              "      <th>Insulin</th>\n",
              "      <th>HOMA</th>\n",
              "      <th>Leptin</th>\n",
              "      <th>Adiponectin</th>\n",
              "      <th>Resistin</th>\n",
              "      <th>MCP.1</th>\n",
              "      <th>Classification</th>\n",
              "    </tr>\n",
              "  </thead>\n",
              "  <tbody>\n",
              "    <tr>\n",
              "      <th>78</th>\n",
              "      <td>86</td>\n",
              "      <td>26.666667</td>\n",
              "      <td>201</td>\n",
              "      <td>41.611</td>\n",
              "      <td>20.630734</td>\n",
              "      <td>47.6470</td>\n",
              "      <td>5.357135</td>\n",
              "      <td>24.37010</td>\n",
              "      <td>1698.44</td>\n",
              "      <td>2</td>\n",
              "    </tr>\n",
              "    <tr>\n",
              "      <th>85</th>\n",
              "      <td>65</td>\n",
              "      <td>29.666548</td>\n",
              "      <td>85</td>\n",
              "      <td>14.649</td>\n",
              "      <td>3.071407</td>\n",
              "      <td>26.5166</td>\n",
              "      <td>7.282870</td>\n",
              "      <td>19.46324</td>\n",
              "      <td>1698.44</td>\n",
              "      <td>2</td>\n",
              "    </tr>\n",
              "    <tr>\n",
              "      <th>86</th>\n",
              "      <td>48</td>\n",
              "      <td>28.125000</td>\n",
              "      <td>90</td>\n",
              "      <td>2.540</td>\n",
              "      <td>0.563880</td>\n",
              "      <td>15.5325</td>\n",
              "      <td>10.222310</td>\n",
              "      <td>16.11032</td>\n",
              "      <td>1698.44</td>\n",
              "      <td>2</td>\n",
              "    </tr>\n",
              "    <tr>\n",
              "      <th>88</th>\n",
              "      <td>48</td>\n",
              "      <td>31.250000</td>\n",
              "      <td>199</td>\n",
              "      <td>12.162</td>\n",
              "      <td>5.969920</td>\n",
              "      <td>18.1314</td>\n",
              "      <td>4.104105</td>\n",
              "      <td>53.63080</td>\n",
              "      <td>1698.44</td>\n",
              "      <td>2</td>\n",
              "    </tr>\n",
              "  </tbody>\n",
              "</table>\n",
              "</div>\n",
              "      <button class=\"colab-df-convert\" onclick=\"convertToInteractive('df-d4c86e08-15bb-437e-8add-ef665709fdf7')\"\n",
              "              title=\"Convert this dataframe to an interactive table.\"\n",
              "              style=\"display:none;\">\n",
              "        \n",
              "  <svg xmlns=\"http://www.w3.org/2000/svg\" height=\"24px\"viewBox=\"0 0 24 24\"\n",
              "       width=\"24px\">\n",
              "    <path d=\"M0 0h24v24H0V0z\" fill=\"none\"/>\n",
              "    <path d=\"M18.56 5.44l.94 2.06.94-2.06 2.06-.94-2.06-.94-.94-2.06-.94 2.06-2.06.94zm-11 1L8.5 8.5l.94-2.06 2.06-.94-2.06-.94L8.5 2.5l-.94 2.06-2.06.94zm10 10l.94 2.06.94-2.06 2.06-.94-2.06-.94-.94-2.06-.94 2.06-2.06.94z\"/><path d=\"M17.41 7.96l-1.37-1.37c-.4-.4-.92-.59-1.43-.59-.52 0-1.04.2-1.43.59L10.3 9.45l-7.72 7.72c-.78.78-.78 2.05 0 2.83L4 21.41c.39.39.9.59 1.41.59.51 0 1.02-.2 1.41-.59l7.78-7.78 2.81-2.81c.8-.78.8-2.07 0-2.86zM5.41 20L4 18.59l7.72-7.72 1.47 1.35L5.41 20z\"/>\n",
              "  </svg>\n",
              "      </button>\n",
              "      \n",
              "  <style>\n",
              "    .colab-df-container {\n",
              "      display:flex;\n",
              "      flex-wrap:wrap;\n",
              "      gap: 12px;\n",
              "    }\n",
              "\n",
              "    .colab-df-convert {\n",
              "      background-color: #E8F0FE;\n",
              "      border: none;\n",
              "      border-radius: 50%;\n",
              "      cursor: pointer;\n",
              "      display: none;\n",
              "      fill: #1967D2;\n",
              "      height: 32px;\n",
              "      padding: 0 0 0 0;\n",
              "      width: 32px;\n",
              "    }\n",
              "\n",
              "    .colab-df-convert:hover {\n",
              "      background-color: #E2EBFA;\n",
              "      box-shadow: 0px 1px 2px rgba(60, 64, 67, 0.3), 0px 1px 3px 1px rgba(60, 64, 67, 0.15);\n",
              "      fill: #174EA6;\n",
              "    }\n",
              "\n",
              "    [theme=dark] .colab-df-convert {\n",
              "      background-color: #3B4455;\n",
              "      fill: #D2E3FC;\n",
              "    }\n",
              "\n",
              "    [theme=dark] .colab-df-convert:hover {\n",
              "      background-color: #434B5C;\n",
              "      box-shadow: 0px 1px 3px 1px rgba(0, 0, 0, 0.15);\n",
              "      filter: drop-shadow(0px 1px 2px rgba(0, 0, 0, 0.3));\n",
              "      fill: #FFFFFF;\n",
              "    }\n",
              "  </style>\n",
              "\n",
              "      <script>\n",
              "        const buttonEl =\n",
              "          document.querySelector('#df-d4c86e08-15bb-437e-8add-ef665709fdf7 button.colab-df-convert');\n",
              "        buttonEl.style.display =\n",
              "          google.colab.kernel.accessAllowed ? 'block' : 'none';\n",
              "\n",
              "        async function convertToInteractive(key) {\n",
              "          const element = document.querySelector('#df-d4c86e08-15bb-437e-8add-ef665709fdf7');\n",
              "          const dataTable =\n",
              "            await google.colab.kernel.invokeFunction('convertToInteractive',\n",
              "                                                     [key], {});\n",
              "          if (!dataTable) return;\n",
              "\n",
              "          const docLinkHtml = 'Like what you see? Visit the ' +\n",
              "            '<a target=\"_blank\" href=https://colab.research.google.com/notebooks/data_table.ipynb>data table notebook</a>'\n",
              "            + ' to learn more about interactive tables.';\n",
              "          element.innerHTML = '';\n",
              "          dataTable['output_type'] = 'display_data';\n",
              "          await google.colab.output.renderOutput(dataTable, element);\n",
              "          const docLink = document.createElement('div');\n",
              "          docLink.innerHTML = docLinkHtml;\n",
              "          element.appendChild(docLink);\n",
              "        }\n",
              "      </script>\n",
              "    </div>\n",
              "  </div>\n",
              "  "
            ]
          },
          "metadata": {},
          "execution_count": 28
        }
      ]
    },
    {
      "cell_type": "markdown",
      "source": [
        "**Análise do MCP.1**\n",
        "Temos uns dados bem equilibrados, a maioria sendo entre 269 e 700 pg/dL, só 4 que ficam bastante fora com 11698.44 pg/dL, estes sendo diagnosticados com câncer.\n"
      ],
      "metadata": {
        "id": "4EGN4RoR-Y2K"
      }
    },
    {
      "cell_type": "code",
      "source": [
        "cancer.head()"
      ],
      "metadata": {
        "colab": {
          "base_uri": "https://localhost:8080/",
          "height": 206
        },
        "id": "lIIbfXs6SYau",
        "outputId": "8bbd3354-3d9d-4f87-d545-8c2b6865826d"
      },
      "execution_count": null,
      "outputs": [
        {
          "output_type": "execute_result",
          "data": {
            "text/plain": [
              "   Age        BMI  Glucose  Insulin      HOMA   Leptin  Adiponectin  Resistin  \\\n",
              "0   48  23.500000       70    2.707  0.467409   8.8071     9.702400   7.99585   \n",
              "1   83  20.690495       92    3.115  0.706897   8.8438     5.429285   4.06405   \n",
              "2   82  23.124670       91    4.498  1.009651  17.9393    22.432040   9.27715   \n",
              "3   68  21.367521       77    3.226  0.612725   9.8827     7.169560  12.76600   \n",
              "4   86  21.111111       92    3.549  0.805386   6.6994     4.819240  10.57635   \n",
              "\n",
              "     MCP.1  Classification  \n",
              "0  417.114               1  \n",
              "1  468.786               1  \n",
              "2  554.697               1  \n",
              "3  928.220               1  \n",
              "4  773.920               1  "
            ],
            "text/html": [
              "\n",
              "  <div id=\"df-e0fd449b-564e-4dbd-91cf-d02d3dec1b3a\">\n",
              "    <div class=\"colab-df-container\">\n",
              "      <div>\n",
              "<style scoped>\n",
              "    .dataframe tbody tr th:only-of-type {\n",
              "        vertical-align: middle;\n",
              "    }\n",
              "\n",
              "    .dataframe tbody tr th {\n",
              "        vertical-align: top;\n",
              "    }\n",
              "\n",
              "    .dataframe thead th {\n",
              "        text-align: right;\n",
              "    }\n",
              "</style>\n",
              "<table border=\"1\" class=\"dataframe\">\n",
              "  <thead>\n",
              "    <tr style=\"text-align: right;\">\n",
              "      <th></th>\n",
              "      <th>Age</th>\n",
              "      <th>BMI</th>\n",
              "      <th>Glucose</th>\n",
              "      <th>Insulin</th>\n",
              "      <th>HOMA</th>\n",
              "      <th>Leptin</th>\n",
              "      <th>Adiponectin</th>\n",
              "      <th>Resistin</th>\n",
              "      <th>MCP.1</th>\n",
              "      <th>Classification</th>\n",
              "    </tr>\n",
              "  </thead>\n",
              "  <tbody>\n",
              "    <tr>\n",
              "      <th>0</th>\n",
              "      <td>48</td>\n",
              "      <td>23.500000</td>\n",
              "      <td>70</td>\n",
              "      <td>2.707</td>\n",
              "      <td>0.467409</td>\n",
              "      <td>8.8071</td>\n",
              "      <td>9.702400</td>\n",
              "      <td>7.99585</td>\n",
              "      <td>417.114</td>\n",
              "      <td>1</td>\n",
              "    </tr>\n",
              "    <tr>\n",
              "      <th>1</th>\n",
              "      <td>83</td>\n",
              "      <td>20.690495</td>\n",
              "      <td>92</td>\n",
              "      <td>3.115</td>\n",
              "      <td>0.706897</td>\n",
              "      <td>8.8438</td>\n",
              "      <td>5.429285</td>\n",
              "      <td>4.06405</td>\n",
              "      <td>468.786</td>\n",
              "      <td>1</td>\n",
              "    </tr>\n",
              "    <tr>\n",
              "      <th>2</th>\n",
              "      <td>82</td>\n",
              "      <td>23.124670</td>\n",
              "      <td>91</td>\n",
              "      <td>4.498</td>\n",
              "      <td>1.009651</td>\n",
              "      <td>17.9393</td>\n",
              "      <td>22.432040</td>\n",
              "      <td>9.27715</td>\n",
              "      <td>554.697</td>\n",
              "      <td>1</td>\n",
              "    </tr>\n",
              "    <tr>\n",
              "      <th>3</th>\n",
              "      <td>68</td>\n",
              "      <td>21.367521</td>\n",
              "      <td>77</td>\n",
              "      <td>3.226</td>\n",
              "      <td>0.612725</td>\n",
              "      <td>9.8827</td>\n",
              "      <td>7.169560</td>\n",
              "      <td>12.76600</td>\n",
              "      <td>928.220</td>\n",
              "      <td>1</td>\n",
              "    </tr>\n",
              "    <tr>\n",
              "      <th>4</th>\n",
              "      <td>86</td>\n",
              "      <td>21.111111</td>\n",
              "      <td>92</td>\n",
              "      <td>3.549</td>\n",
              "      <td>0.805386</td>\n",
              "      <td>6.6994</td>\n",
              "      <td>4.819240</td>\n",
              "      <td>10.57635</td>\n",
              "      <td>773.920</td>\n",
              "      <td>1</td>\n",
              "    </tr>\n",
              "  </tbody>\n",
              "</table>\n",
              "</div>\n",
              "      <button class=\"colab-df-convert\" onclick=\"convertToInteractive('df-e0fd449b-564e-4dbd-91cf-d02d3dec1b3a')\"\n",
              "              title=\"Convert this dataframe to an interactive table.\"\n",
              "              style=\"display:none;\">\n",
              "        \n",
              "  <svg xmlns=\"http://www.w3.org/2000/svg\" height=\"24px\"viewBox=\"0 0 24 24\"\n",
              "       width=\"24px\">\n",
              "    <path d=\"M0 0h24v24H0V0z\" fill=\"none\"/>\n",
              "    <path d=\"M18.56 5.44l.94 2.06.94-2.06 2.06-.94-2.06-.94-.94-2.06-.94 2.06-2.06.94zm-11 1L8.5 8.5l.94-2.06 2.06-.94-2.06-.94L8.5 2.5l-.94 2.06-2.06.94zm10 10l.94 2.06.94-2.06 2.06-.94-2.06-.94-.94-2.06-.94 2.06-2.06.94z\"/><path d=\"M17.41 7.96l-1.37-1.37c-.4-.4-.92-.59-1.43-.59-.52 0-1.04.2-1.43.59L10.3 9.45l-7.72 7.72c-.78.78-.78 2.05 0 2.83L4 21.41c.39.39.9.59 1.41.59.51 0 1.02-.2 1.41-.59l7.78-7.78 2.81-2.81c.8-.78.8-2.07 0-2.86zM5.41 20L4 18.59l7.72-7.72 1.47 1.35L5.41 20z\"/>\n",
              "  </svg>\n",
              "      </button>\n",
              "      \n",
              "  <style>\n",
              "    .colab-df-container {\n",
              "      display:flex;\n",
              "      flex-wrap:wrap;\n",
              "      gap: 12px;\n",
              "    }\n",
              "\n",
              "    .colab-df-convert {\n",
              "      background-color: #E8F0FE;\n",
              "      border: none;\n",
              "      border-radius: 50%;\n",
              "      cursor: pointer;\n",
              "      display: none;\n",
              "      fill: #1967D2;\n",
              "      height: 32px;\n",
              "      padding: 0 0 0 0;\n",
              "      width: 32px;\n",
              "    }\n",
              "\n",
              "    .colab-df-convert:hover {\n",
              "      background-color: #E2EBFA;\n",
              "      box-shadow: 0px 1px 2px rgba(60, 64, 67, 0.3), 0px 1px 3px 1px rgba(60, 64, 67, 0.15);\n",
              "      fill: #174EA6;\n",
              "    }\n",
              "\n",
              "    [theme=dark] .colab-df-convert {\n",
              "      background-color: #3B4455;\n",
              "      fill: #D2E3FC;\n",
              "    }\n",
              "\n",
              "    [theme=dark] .colab-df-convert:hover {\n",
              "      background-color: #434B5C;\n",
              "      box-shadow: 0px 1px 3px 1px rgba(0, 0, 0, 0.15);\n",
              "      filter: drop-shadow(0px 1px 2px rgba(0, 0, 0, 0.3));\n",
              "      fill: #FFFFFF;\n",
              "    }\n",
              "  </style>\n",
              "\n",
              "      <script>\n",
              "        const buttonEl =\n",
              "          document.querySelector('#df-e0fd449b-564e-4dbd-91cf-d02d3dec1b3a button.colab-df-convert');\n",
              "        buttonEl.style.display =\n",
              "          google.colab.kernel.accessAllowed ? 'block' : 'none';\n",
              "\n",
              "        async function convertToInteractive(key) {\n",
              "          const element = document.querySelector('#df-e0fd449b-564e-4dbd-91cf-d02d3dec1b3a');\n",
              "          const dataTable =\n",
              "            await google.colab.kernel.invokeFunction('convertToInteractive',\n",
              "                                                     [key], {});\n",
              "          if (!dataTable) return;\n",
              "\n",
              "          const docLinkHtml = 'Like what you see? Visit the ' +\n",
              "            '<a target=\"_blank\" href=https://colab.research.google.com/notebooks/data_table.ipynb>data table notebook</a>'\n",
              "            + ' to learn more about interactive tables.';\n",
              "          element.innerHTML = '';\n",
              "          dataTable['output_type'] = 'display_data';\n",
              "          await google.colab.output.renderOutput(dataTable, element);\n",
              "          const docLink = document.createElement('div');\n",
              "          docLink.innerHTML = docLinkHtml;\n",
              "          element.appendChild(docLink);\n",
              "        }\n",
              "      </script>\n",
              "    </div>\n",
              "  </div>\n",
              "  "
            ]
          },
          "metadata": {},
          "execution_count": 29
        }
      ]
    },
    {
      "cell_type": "markdown",
      "metadata": {
        "id": "qRwakt297iZ9"
      },
      "source": [
        "Obtenha o feedback de suas ideias e de sua(s) visualização(ões), se possivel apresente esse grafico com pelo menos uma outra pessoa e questione:"
      ]
    },
    {
      "cell_type": "markdown",
      "metadata": {
        "id": "d2PNvtPb7iZ9"
      },
      "source": [
        "1. O que você percebe na visualização?\n",
        "2. Quais perguntas você tem sobre o conjunto de dados?\n",
        "3. Há algo que você não entende nas visualizações?"
      ]
    },
    {
      "cell_type": "markdown",
      "metadata": {
        "id": "x-1_k5Ya7iZ9"
      },
      "source": [
        "**RESPOSTA** (VALE 0.6 pontos): \n",
        "1. De imediato vejo que nem todas as variáveis tem uma relação com a classificação, no caso com o câncer de mama. Porém acredito que temos dados suficientes para chegar num modelo razoável, não será um modelo muito bom porque temos poucos pacientes em nosso banco de dados, mas com certeza com mais exemplos poderíamos treinar melhor o nosso modelo. Outro ponto que podemos notar é que todas as variáveis já vieram corretas, mesma grandeza e sem valores nulos.\n",
        "2. As principais perguntas são perguntas técnicas, sobre o que significam em si, até porque estamos falando de variáveis muito específicas, quem entende melhor são os especialistas e é justamente por isso que em todo projeto precisamos de pessoas capazes de entender e nos traduzir essas variáveis. Ta certo que nesse caso, por ser um banco de dados já conhecido, temos muito conhecimento na internet, mas mesmo assim muitas vezes nos vemos perdidos ao nos deparar com alguns termos fora do nosso cotidiano\n",
        "3. Complementando um pouco do que já foi respondido na questão anterior, mesmo pesquisando eu não entendi o conceito de algumas variáveis e isso pode ser prejudicial no tratamento destas. Porém olhando para os gráficos muitas vezes vemos alguns valores muito altos, nós como leigos no assunto nos assustamos, e pensamos o que pode ter causado aquilo, com certeza há respostas e estas também nos ajudariam no entendimento. Outro ponto que talvez não tenha sido mostrado nas visualiações é a relação entre as variáveis independentes, temos algumas relações mostradas com os gráficos de dispersão, mas talvez seja interessante olharmos outros gráficos e ver o que mais podemos tirar de conhecimento."
      ]
    },
    {
      "cell_type": "markdown",
      "metadata": {
        "id": "LYFK8mFM7iZ-"
      },
      "source": [
        "Após o feedback, o que você mudaria?"
      ]
    },
    {
      "cell_type": "markdown",
      "metadata": {
        "id": "Dq9_Uxz17iZ-"
      },
      "source": [
        "**RESPOSTA** (VALE 0.6 pontos): Acreditamos que seria legal trabalhar com outros gráficos, talvez de barras, histogramas, vamos dar uma analisada e ver como podemos completar este projeto. Trazer novas informações que possam nos ajudar a melhorar o nosso modelo.\n",
        "- Vamos dar uma olhada geral na idades dos pacientes, utilizando o gráfico de histograma, o qual agrupa as idades para facilitar a vizualização.\n",
        "- Outra visualização interessante seria olhar as idades comparando com o nível de glicose, o qual olhando os gráficos é o que mais tem relação com a classificação."
      ]
    },
    {
      "cell_type": "markdown",
      "metadata": {
        "id": "GAumUNlg7iZ-"
      },
      "source": [
        "Apresente suas nova(s) visualização(ões) a partir do feedback:"
      ]
    },
    {
      "cell_type": "code",
      "execution_count": null,
      "metadata": {
        "id": "2FBIKqjT7iZ-",
        "colab": {
          "base_uri": "https://localhost:8080/",
          "height": 521
        },
        "outputId": "ed6acc99-0623-455e-f448-fc4bd5c6a677"
      },
      "outputs": [
        {
          "output_type": "display_data",
          "data": {
            "text/plain": [
              "<Figure size 864x576 with 1 Axes>"
            ],
            "image/png": "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\n"
          },
          "metadata": {}
        }
      ],
      "source": [
        "#### VALE 0.6 pontos\n",
        "#### CONSTRUA O SEU GRAFICO ABAIXO, USE MAIS CELULAS SE NECESSARIO\n",
        "\n",
        "sns.set_style('darkgrid')\n",
        "plt.figure(figsize=[12,8])\n",
        "plt.hist(cancer['Age'], bins = 13)   \n",
        "plt.title('Histograma', loc='left', fontsize=18)\n",
        "plt.xlabel('idades'.upper(), fontsize=14)\n",
        "plt.ylabel('Paciêntes'.upper(), fontsize=14)\n",
        "plt.show()"
      ]
    },
    {
      "cell_type": "markdown",
      "source": [
        "Aqui conseguimos ver que as idades se concentram nos valores 50 e 70 anos. E, assim como visto nos outros gráficos de idade, podemos ver que temos pacientes com uma grande variedade de idades."
      ],
      "metadata": {
        "id": "H3jmpf0Ha6o4"
      }
    },
    {
      "cell_type": "code",
      "source": [
        "sns.set_style('darkgrid')\n",
        "plt.figure(figsize=(18,4))\n",
        "plt.bar(cancer['Age'], cancer['Glucose'] )  \n",
        "plt.title('Gráfico de Barras', fontsize=12)\n",
        "plt.xlabel('Idade'.upper(), fontsize=10)\n",
        "plt.ylabel('Nível de Glicose'.upper(), fontsize=10)\n",
        "plt.grid(color='white')"
      ],
      "metadata": {
        "colab": {
          "base_uri": "https://localhost:8080/",
          "height": 295
        },
        "id": "kxO4hQo8UrRA",
        "outputId": "d47558f2-9927-4176-ff4e-0fd7c14ce579"
      },
      "execution_count": null,
      "outputs": [
        {
          "output_type": "display_data",
          "data": {
            "text/plain": [
              "<Figure size 1296x288 with 1 Axes>"
            ],
            "image/png": "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\n"
          },
          "metadata": {}
        }
      ]
    },
    {
      "cell_type": "markdown",
      "source": [
        "Aqui conseguimos ver o nível de glicose de cada um dos pacientes, ver exatamente a idade dos que chegam a quase 200 mg/dL. Da pra ver que dois deles tem entre 80 e 90 anos."
      ],
      "metadata": {
        "id": "Wjc2_d0obcql"
      }
    },
    {
      "cell_type": "markdown",
      "metadata": {
        "id": "gxb9W4UO7iZ_"
      },
      "source": [
        "# Exercicio 3. (5.0 pontos)\n",
        "\n",
        "Construa um modelo de regressão logistica para predizer a variável **Classification** com **statsmodels.api**."
      ]
    },
    {
      "cell_type": "code",
      "execution_count": null,
      "metadata": {
        "id": "3YlbZI0W7iZ_",
        "colab": {
          "base_uri": "https://localhost:8080/"
        },
        "outputId": "ada7641f-1629-4d42-c847-ea4c5f22d50b"
      },
      "outputs": [
        {
          "output_type": "execute_result",
          "data": {
            "text/plain": [
              "0      1\n",
              "1      1\n",
              "2      1\n",
              "3      1\n",
              "4      1\n",
              "      ..\n",
              "111    2\n",
              "112    2\n",
              "113    2\n",
              "114    2\n",
              "115    2\n",
              "Name: Classification, Length: 116, dtype: int64"
            ]
          },
          "metadata": {},
          "execution_count": 31
        }
      ],
      "source": [
        "#### VALE 0.8 pontos\n",
        "#### EXECUTE OS COMANDOS ABAIXO, USE MAIS CELULAS SE NECESSARIO\n",
        "\n",
        "X = cancer.drop([\"Classification\"], axis=1)\n",
        "y = cancer.Classification\n",
        "y"
      ]
    },
    {
      "cell_type": "code",
      "source": [
        "y = y.replace({1: 0, 2: 1})"
      ],
      "metadata": {
        "id": "3UpnFDffI9Ep"
      },
      "execution_count": null,
      "outputs": []
    },
    {
      "cell_type": "markdown",
      "metadata": {
        "id": "mH3cq64e7iZ_"
      },
      "source": [
        "Coloque abaixo a saida do seu modelo usando **seu_modelo.summary()**."
      ]
    },
    {
      "cell_type": "code",
      "execution_count": null,
      "metadata": {
        "id": "x9e_h-7S7iZ_",
        "colab": {
          "base_uri": "https://localhost:8080/"
        },
        "outputId": "b29be201-920c-4ec2-ec8f-ac043706fb06"
      },
      "outputs": [
        {
          "output_type": "stream",
          "name": "stdout",
          "text": [
            "Optimization terminated successfully.\n",
            "         Current function value: 0.493418\n",
            "         Iterations 9\n",
            "                           Logit Regression Results                           \n",
            "==============================================================================\n",
            "Dep. Variable:         Classification   No. Observations:                  116\n",
            "Model:                          Logit   Df Residuals:                      107\n",
            "Method:                           MLE   Df Model:                            8\n",
            "Date:                Fri, 29 Apr 2022   Pseudo R-squ.:                  0.2826\n",
            "Time:                        17:03:40   Log-Likelihood:                -57.236\n",
            "converged:                       True   LL-Null:                       -79.783\n",
            "Covariance Type:            nonrobust   LLR p-value:                 3.533e-07\n",
            "===============================================================================\n",
            "                  coef    std err          z      P>|z|      [0.025      0.975]\n",
            "-------------------------------------------------------------------------------\n",
            "Age            -0.0284      0.015     -1.887      0.059      -0.058       0.001\n",
            "BMI            -0.1767      0.065     -2.729      0.006      -0.304      -0.050\n",
            "Glucose         0.0582      0.021      2.801      0.005       0.017       0.099\n",
            "Insulin        -0.1560      0.262     -0.595      0.552      -0.670       0.358\n",
            "HOMA            0.9939      1.132      0.878      0.380      -1.226       3.214\n",
            "Leptin         -0.0066      0.017     -0.379      0.704      -0.041       0.027\n",
            "Adiponectin    -0.0274      0.035     -0.781      0.435      -0.096       0.041\n",
            "Resistin        0.0521      0.027      1.951      0.051      -0.000       0.104\n",
            "MCP.1           0.0006      0.001      0.750      0.453      -0.001       0.002\n",
            "===============================================================================\n"
          ]
        }
      ],
      "source": [
        "#### VALE 0.8 pontos\n",
        "#### EXECUTE O COMANDO ABAIXO\n",
        "\n",
        "logit_model = sm.Logit(y, X)\n",
        "result=logit_model.fit()\n",
        "\n",
        "print(result.summary())"
      ]
    },
    {
      "cell_type": "markdown",
      "metadata": {
        "id": "jG7qqn3O7iaA"
      },
      "source": [
        "Faça outro modelo usando a biblioteca **sklearn** e usem o parametro **random_state** com valor 10."
      ]
    },
    {
      "cell_type": "code",
      "execution_count": null,
      "metadata": {
        "id": "7CTbFkL-7iaA"
      },
      "outputs": [],
      "source": [
        "#### VALE 0.8 pontos\n",
        "#### EXECUTE OS COMANDOS ABAIXO, USE MAIS CELULAS SE NECESSARIO\n",
        "\n",
        "def metodo_sklearn(X,y):\n",
        "  # Normalizando X\n",
        "  X_std = StandardScaler().fit_transform(X)\n",
        "  # Vamos separar o conjunto de dados em treino e teste, definindo o tamanho do conjunto de dados \n",
        "  # em 20%..\n",
        "  X_train, X_test, y_train, y_test = train_test_split(X_std, y, test_size = 0.2, random_state=10) \n",
        "  #Construiremos o nosso modelo de regressão usando o subconjunto de treino.\n",
        "  lr = LogisticRegression(random_state=42)\n",
        "  #treinando o modelo\n",
        "  lr.fit(X_train, y_train)\n",
        "  #usaremos o nosso modelo para predizer a variavel y do conjunto de teste usando o conjunto X de teste\n",
        "  y_pred = lr.predict(X_test)\n",
        "  #Matrix de confusão:\n",
        "  return pd.DataFrame(confusion_matrix(y_test, y_pred), \n",
        "             columns=[\"Predito Câncer\",\"Predito Não Câncer\"],\n",
        "             index  =[\"Verdadeiro Câncer\", \"Verdadeiro Não Câncer\"])\n"
      ]
    },
    {
      "cell_type": "markdown",
      "metadata": {
        "id": "U55bNM7O7iaA"
      },
      "source": [
        "Coloque abaixo a matriz de confusão do modelo feito:"
      ]
    },
    {
      "cell_type": "code",
      "execution_count": null,
      "metadata": {
        "id": "kDdx54nl7iaA",
        "colab": {
          "base_uri": "https://localhost:8080/",
          "height": 112
        },
        "outputId": "012694bd-ae78-4caa-c2fc-fdf7ba68402e"
      },
      "outputs": [
        {
          "output_type": "execute_result",
          "data": {
            "text/plain": [
              "                       Predito Câncer  Predito Não Câncer\n",
              "Verdadeiro Câncer                  10                   2\n",
              "Verdadeiro Não Câncer               2                  10"
            ],
            "text/html": [
              "\n",
              "  <div id=\"df-ac07f583-4070-4fb0-a738-2da5e5a62338\">\n",
              "    <div class=\"colab-df-container\">\n",
              "      <div>\n",
              "<style scoped>\n",
              "    .dataframe tbody tr th:only-of-type {\n",
              "        vertical-align: middle;\n",
              "    }\n",
              "\n",
              "    .dataframe tbody tr th {\n",
              "        vertical-align: top;\n",
              "    }\n",
              "\n",
              "    .dataframe thead th {\n",
              "        text-align: right;\n",
              "    }\n",
              "</style>\n",
              "<table border=\"1\" class=\"dataframe\">\n",
              "  <thead>\n",
              "    <tr style=\"text-align: right;\">\n",
              "      <th></th>\n",
              "      <th>Predito Câncer</th>\n",
              "      <th>Predito Não Câncer</th>\n",
              "    </tr>\n",
              "  </thead>\n",
              "  <tbody>\n",
              "    <tr>\n",
              "      <th>Verdadeiro Câncer</th>\n",
              "      <td>10</td>\n",
              "      <td>2</td>\n",
              "    </tr>\n",
              "    <tr>\n",
              "      <th>Verdadeiro Não Câncer</th>\n",
              "      <td>2</td>\n",
              "      <td>10</td>\n",
              "    </tr>\n",
              "  </tbody>\n",
              "</table>\n",
              "</div>\n",
              "      <button class=\"colab-df-convert\" onclick=\"convertToInteractive('df-ac07f583-4070-4fb0-a738-2da5e5a62338')\"\n",
              "              title=\"Convert this dataframe to an interactive table.\"\n",
              "              style=\"display:none;\">\n",
              "        \n",
              "  <svg xmlns=\"http://www.w3.org/2000/svg\" height=\"24px\"viewBox=\"0 0 24 24\"\n",
              "       width=\"24px\">\n",
              "    <path d=\"M0 0h24v24H0V0z\" fill=\"none\"/>\n",
              "    <path d=\"M18.56 5.44l.94 2.06.94-2.06 2.06-.94-2.06-.94-.94-2.06-.94 2.06-2.06.94zm-11 1L8.5 8.5l.94-2.06 2.06-.94-2.06-.94L8.5 2.5l-.94 2.06-2.06.94zm10 10l.94 2.06.94-2.06 2.06-.94-2.06-.94-.94-2.06-.94 2.06-2.06.94z\"/><path d=\"M17.41 7.96l-1.37-1.37c-.4-.4-.92-.59-1.43-.59-.52 0-1.04.2-1.43.59L10.3 9.45l-7.72 7.72c-.78.78-.78 2.05 0 2.83L4 21.41c.39.39.9.59 1.41.59.51 0 1.02-.2 1.41-.59l7.78-7.78 2.81-2.81c.8-.78.8-2.07 0-2.86zM5.41 20L4 18.59l7.72-7.72 1.47 1.35L5.41 20z\"/>\n",
              "  </svg>\n",
              "      </button>\n",
              "      \n",
              "  <style>\n",
              "    .colab-df-container {\n",
              "      display:flex;\n",
              "      flex-wrap:wrap;\n",
              "      gap: 12px;\n",
              "    }\n",
              "\n",
              "    .colab-df-convert {\n",
              "      background-color: #E8F0FE;\n",
              "      border: none;\n",
              "      border-radius: 50%;\n",
              "      cursor: pointer;\n",
              "      display: none;\n",
              "      fill: #1967D2;\n",
              "      height: 32px;\n",
              "      padding: 0 0 0 0;\n",
              "      width: 32px;\n",
              "    }\n",
              "\n",
              "    .colab-df-convert:hover {\n",
              "      background-color: #E2EBFA;\n",
              "      box-shadow: 0px 1px 2px rgba(60, 64, 67, 0.3), 0px 1px 3px 1px rgba(60, 64, 67, 0.15);\n",
              "      fill: #174EA6;\n",
              "    }\n",
              "\n",
              "    [theme=dark] .colab-df-convert {\n",
              "      background-color: #3B4455;\n",
              "      fill: #D2E3FC;\n",
              "    }\n",
              "\n",
              "    [theme=dark] .colab-df-convert:hover {\n",
              "      background-color: #434B5C;\n",
              "      box-shadow: 0px 1px 3px 1px rgba(0, 0, 0, 0.15);\n",
              "      filter: drop-shadow(0px 1px 2px rgba(0, 0, 0, 0.3));\n",
              "      fill: #FFFFFF;\n",
              "    }\n",
              "  </style>\n",
              "\n",
              "      <script>\n",
              "        const buttonEl =\n",
              "          document.querySelector('#df-ac07f583-4070-4fb0-a738-2da5e5a62338 button.colab-df-convert');\n",
              "        buttonEl.style.display =\n",
              "          google.colab.kernel.accessAllowed ? 'block' : 'none';\n",
              "\n",
              "        async function convertToInteractive(key) {\n",
              "          const element = document.querySelector('#df-ac07f583-4070-4fb0-a738-2da5e5a62338');\n",
              "          const dataTable =\n",
              "            await google.colab.kernel.invokeFunction('convertToInteractive',\n",
              "                                                     [key], {});\n",
              "          if (!dataTable) return;\n",
              "\n",
              "          const docLinkHtml = 'Like what you see? Visit the ' +\n",
              "            '<a target=\"_blank\" href=https://colab.research.google.com/notebooks/data_table.ipynb>data table notebook</a>'\n",
              "            + ' to learn more about interactive tables.';\n",
              "          element.innerHTML = '';\n",
              "          dataTable['output_type'] = 'display_data';\n",
              "          await google.colab.output.renderOutput(dataTable, element);\n",
              "          const docLink = document.createElement('div');\n",
              "          docLink.innerHTML = docLinkHtml;\n",
              "          element.appendChild(docLink);\n",
              "        }\n",
              "      </script>\n",
              "    </div>\n",
              "  </div>\n",
              "  "
            ]
          },
          "metadata": {},
          "execution_count": 35
        }
      ],
      "source": [
        "#### VALE 0.8 pontos\n",
        "#### EXECUTE O COMANDO ABAIXO\n",
        "\n",
        "resultado1 = metodo_sklearn(X,y) \n",
        "resultado1"
      ]
    },
    {
      "cell_type": "markdown",
      "source": [
        "Colocando as métricas em um DataFrame"
      ],
      "metadata": {
        "id": "sC0faInaUexX"
      }
    },
    {
      "cell_type": "code",
      "source": [
        "metricas = pd.DataFrame({\"Métricas\":[\"Acurácia\",\"Precisão\",\"Especificidade\",\"Sensitividade\"]})\n",
        "\n",
        "def metricas_finais(df,m):\n",
        "  ac = (df.iloc[0,0] + df.iloc[1,1]) / (df.iloc[0,0] + df.iloc[0,1] + df.iloc[1,0] + df.iloc[1,1])\n",
        "  pre = df.iloc[1,1] / (df.iloc[0,1] + df.iloc[1,1])\n",
        "  esp = df.iloc[0,0] / (df.iloc[0,1] + df.iloc[0,0])\n",
        "  sens = df.iloc[1,1] / (df.iloc[1,1] + df.iloc[1,0])\n",
        "  metricas[m] = [ac,pre,esp,sens]\n",
        "  return metricas"
      ],
      "metadata": {
        "id": "9ZuPWBklN1zl"
      },
      "execution_count": null,
      "outputs": []
    },
    {
      "cell_type": "code",
      "source": [
        "modelo = \"modelo 1\"\n",
        "metricas_finais(resultado1,modelo)"
      ],
      "metadata": {
        "colab": {
          "base_uri": "https://localhost:8080/",
          "height": 175
        },
        "id": "FfOlw7cfOpeH",
        "outputId": "ad56c358-2206-4301-bc05-40862b27069e"
      },
      "execution_count": null,
      "outputs": [
        {
          "output_type": "execute_result",
          "data": {
            "text/plain": [
              "         Métricas  modelo 1\n",
              "0        Acurácia  0.833333\n",
              "1        Precisão  0.833333\n",
              "2  Especificidade  0.833333\n",
              "3   Sensitividade  0.833333"
            ],
            "text/html": [
              "\n",
              "  <div id=\"df-05a71508-3166-4258-9c43-c3bce1b9dc69\">\n",
              "    <div class=\"colab-df-container\">\n",
              "      <div>\n",
              "<style scoped>\n",
              "    .dataframe tbody tr th:only-of-type {\n",
              "        vertical-align: middle;\n",
              "    }\n",
              "\n",
              "    .dataframe tbody tr th {\n",
              "        vertical-align: top;\n",
              "    }\n",
              "\n",
              "    .dataframe thead th {\n",
              "        text-align: right;\n",
              "    }\n",
              "</style>\n",
              "<table border=\"1\" class=\"dataframe\">\n",
              "  <thead>\n",
              "    <tr style=\"text-align: right;\">\n",
              "      <th></th>\n",
              "      <th>Métricas</th>\n",
              "      <th>modelo 1</th>\n",
              "    </tr>\n",
              "  </thead>\n",
              "  <tbody>\n",
              "    <tr>\n",
              "      <th>0</th>\n",
              "      <td>Acurácia</td>\n",
              "      <td>0.833333</td>\n",
              "    </tr>\n",
              "    <tr>\n",
              "      <th>1</th>\n",
              "      <td>Precisão</td>\n",
              "      <td>0.833333</td>\n",
              "    </tr>\n",
              "    <tr>\n",
              "      <th>2</th>\n",
              "      <td>Especificidade</td>\n",
              "      <td>0.833333</td>\n",
              "    </tr>\n",
              "    <tr>\n",
              "      <th>3</th>\n",
              "      <td>Sensitividade</td>\n",
              "      <td>0.833333</td>\n",
              "    </tr>\n",
              "  </tbody>\n",
              "</table>\n",
              "</div>\n",
              "      <button class=\"colab-df-convert\" onclick=\"convertToInteractive('df-05a71508-3166-4258-9c43-c3bce1b9dc69')\"\n",
              "              title=\"Convert this dataframe to an interactive table.\"\n",
              "              style=\"display:none;\">\n",
              "        \n",
              "  <svg xmlns=\"http://www.w3.org/2000/svg\" height=\"24px\"viewBox=\"0 0 24 24\"\n",
              "       width=\"24px\">\n",
              "    <path d=\"M0 0h24v24H0V0z\" fill=\"none\"/>\n",
              "    <path d=\"M18.56 5.44l.94 2.06.94-2.06 2.06-.94-2.06-.94-.94-2.06-.94 2.06-2.06.94zm-11 1L8.5 8.5l.94-2.06 2.06-.94-2.06-.94L8.5 2.5l-.94 2.06-2.06.94zm10 10l.94 2.06.94-2.06 2.06-.94-2.06-.94-.94-2.06-.94 2.06-2.06.94z\"/><path d=\"M17.41 7.96l-1.37-1.37c-.4-.4-.92-.59-1.43-.59-.52 0-1.04.2-1.43.59L10.3 9.45l-7.72 7.72c-.78.78-.78 2.05 0 2.83L4 21.41c.39.39.9.59 1.41.59.51 0 1.02-.2 1.41-.59l7.78-7.78 2.81-2.81c.8-.78.8-2.07 0-2.86zM5.41 20L4 18.59l7.72-7.72 1.47 1.35L5.41 20z\"/>\n",
              "  </svg>\n",
              "      </button>\n",
              "      \n",
              "  <style>\n",
              "    .colab-df-container {\n",
              "      display:flex;\n",
              "      flex-wrap:wrap;\n",
              "      gap: 12px;\n",
              "    }\n",
              "\n",
              "    .colab-df-convert {\n",
              "      background-color: #E8F0FE;\n",
              "      border: none;\n",
              "      border-radius: 50%;\n",
              "      cursor: pointer;\n",
              "      display: none;\n",
              "      fill: #1967D2;\n",
              "      height: 32px;\n",
              "      padding: 0 0 0 0;\n",
              "      width: 32px;\n",
              "    }\n",
              "\n",
              "    .colab-df-convert:hover {\n",
              "      background-color: #E2EBFA;\n",
              "      box-shadow: 0px 1px 2px rgba(60, 64, 67, 0.3), 0px 1px 3px 1px rgba(60, 64, 67, 0.15);\n",
              "      fill: #174EA6;\n",
              "    }\n",
              "\n",
              "    [theme=dark] .colab-df-convert {\n",
              "      background-color: #3B4455;\n",
              "      fill: #D2E3FC;\n",
              "    }\n",
              "\n",
              "    [theme=dark] .colab-df-convert:hover {\n",
              "      background-color: #434B5C;\n",
              "      box-shadow: 0px 1px 3px 1px rgba(0, 0, 0, 0.15);\n",
              "      filter: drop-shadow(0px 1px 2px rgba(0, 0, 0, 0.3));\n",
              "      fill: #FFFFFF;\n",
              "    }\n",
              "  </style>\n",
              "\n",
              "      <script>\n",
              "        const buttonEl =\n",
              "          document.querySelector('#df-05a71508-3166-4258-9c43-c3bce1b9dc69 button.colab-df-convert');\n",
              "        buttonEl.style.display =\n",
              "          google.colab.kernel.accessAllowed ? 'block' : 'none';\n",
              "\n",
              "        async function convertToInteractive(key) {\n",
              "          const element = document.querySelector('#df-05a71508-3166-4258-9c43-c3bce1b9dc69');\n",
              "          const dataTable =\n",
              "            await google.colab.kernel.invokeFunction('convertToInteractive',\n",
              "                                                     [key], {});\n",
              "          if (!dataTable) return;\n",
              "\n",
              "          const docLinkHtml = 'Like what you see? Visit the ' +\n",
              "            '<a target=\"_blank\" href=https://colab.research.google.com/notebooks/data_table.ipynb>data table notebook</a>'\n",
              "            + ' to learn more about interactive tables.';\n",
              "          element.innerHTML = '';\n",
              "          dataTable['output_type'] = 'display_data';\n",
              "          await google.colab.output.renderOutput(dataTable, element);\n",
              "          const docLink = document.createElement('div');\n",
              "          docLink.innerHTML = docLinkHtml;\n",
              "          element.appendChild(docLink);\n",
              "        }\n",
              "      </script>\n",
              "    </div>\n",
              "  </div>\n",
              "  "
            ]
          },
          "metadata": {},
          "execution_count": 37
        }
      ]
    },
    {
      "cell_type": "markdown",
      "metadata": {
        "id": "Jxtx2usu7iaA"
      },
      "source": [
        "Prencha as métricas a partir da matriz de confusão obtida (lembrando que a classe negativa é 1 - sem cancer e a classe positiva é 2 - com cancer)"
      ]
    },
    {
      "cell_type": "code",
      "execution_count": null,
      "metadata": {
        "colab": {
          "base_uri": "https://localhost:8080/"
        },
        "id": "YIUgjUb17iaB",
        "outputId": "3971a4ce-0a69-4c9d-f7e1-ebb90feb5d75"
      },
      "outputs": [
        {
          "output_type": "stream",
          "name": "stdout",
          "text": [
            "acurácia: 0.8333333333333334\n",
            "precisão: 0.8333333333333334\n",
            "especificidade: 0.8333333333333334\n",
            "sensitividade: 0.8333333333333334\n"
          ]
        }
      ],
      "source": [
        "# VALE 0.8 pontos\n",
        "# Substitua __ pelos valores solicitados\n",
        "print('acurácia: {}'.format(metricas.iloc[0,1]))\n",
        "print('precisão: {}'.format(metricas.iloc[1,1]))\n",
        "print('especificidade: {}'.format(metricas.iloc[2,1]))\n",
        "print('sensitividade: {}'.format(metricas.iloc[3,1]))"
      ]
    },
    {
      "cell_type": "markdown",
      "metadata": {
        "id": "e3bUEBZ77iaB"
      },
      "source": [
        "Observando a matriz de confusão, o seu modelo tende a obter mais erros do tipo I ou do tipo II?"
      ]
    },
    {
      "cell_type": "markdown",
      "metadata": {
        "id": "GqJyJ8Ec7iaB"
      },
      "source": [
        "**RESPOSTA** (VALE 1.0 ponto): Neste modelo criado tivemos as mesmas métricas as os erros do tipo I e do tipo II. Para podermos entender para qual erro o medelo tenderia, deveriamos tentar mais modelos."
      ]
    },
    {
      "cell_type": "code",
      "source": [
        "cancer.head()"
      ],
      "metadata": {
        "colab": {
          "base_uri": "https://localhost:8080/",
          "height": 206
        },
        "id": "ky1OimpG-6YS",
        "outputId": "fa80851d-46dd-4e26-acd7-71610162812f"
      },
      "execution_count": null,
      "outputs": [
        {
          "output_type": "execute_result",
          "data": {
            "text/plain": [
              "   Age        BMI  Glucose  Insulin      HOMA   Leptin  Adiponectin  Resistin  \\\n",
              "0   48  23.500000       70    2.707  0.467409   8.8071     9.702400   7.99585   \n",
              "1   83  20.690495       92    3.115  0.706897   8.8438     5.429285   4.06405   \n",
              "2   82  23.124670       91    4.498  1.009651  17.9393    22.432040   9.27715   \n",
              "3   68  21.367521       77    3.226  0.612725   9.8827     7.169560  12.76600   \n",
              "4   86  21.111111       92    3.549  0.805386   6.6994     4.819240  10.57635   \n",
              "\n",
              "     MCP.1  Classification  \n",
              "0  417.114               1  \n",
              "1  468.786               1  \n",
              "2  554.697               1  \n",
              "3  928.220               1  \n",
              "4  773.920               1  "
            ],
            "text/html": [
              "\n",
              "  <div id=\"df-8cf82b95-3760-434a-9ce9-98d76d80c7c5\">\n",
              "    <div class=\"colab-df-container\">\n",
              "      <div>\n",
              "<style scoped>\n",
              "    .dataframe tbody tr th:only-of-type {\n",
              "        vertical-align: middle;\n",
              "    }\n",
              "\n",
              "    .dataframe tbody tr th {\n",
              "        vertical-align: top;\n",
              "    }\n",
              "\n",
              "    .dataframe thead th {\n",
              "        text-align: right;\n",
              "    }\n",
              "</style>\n",
              "<table border=\"1\" class=\"dataframe\">\n",
              "  <thead>\n",
              "    <tr style=\"text-align: right;\">\n",
              "      <th></th>\n",
              "      <th>Age</th>\n",
              "      <th>BMI</th>\n",
              "      <th>Glucose</th>\n",
              "      <th>Insulin</th>\n",
              "      <th>HOMA</th>\n",
              "      <th>Leptin</th>\n",
              "      <th>Adiponectin</th>\n",
              "      <th>Resistin</th>\n",
              "      <th>MCP.1</th>\n",
              "      <th>Classification</th>\n",
              "    </tr>\n",
              "  </thead>\n",
              "  <tbody>\n",
              "    <tr>\n",
              "      <th>0</th>\n",
              "      <td>48</td>\n",
              "      <td>23.500000</td>\n",
              "      <td>70</td>\n",
              "      <td>2.707</td>\n",
              "      <td>0.467409</td>\n",
              "      <td>8.8071</td>\n",
              "      <td>9.702400</td>\n",
              "      <td>7.99585</td>\n",
              "      <td>417.114</td>\n",
              "      <td>1</td>\n",
              "    </tr>\n",
              "    <tr>\n",
              "      <th>1</th>\n",
              "      <td>83</td>\n",
              "      <td>20.690495</td>\n",
              "      <td>92</td>\n",
              "      <td>3.115</td>\n",
              "      <td>0.706897</td>\n",
              "      <td>8.8438</td>\n",
              "      <td>5.429285</td>\n",
              "      <td>4.06405</td>\n",
              "      <td>468.786</td>\n",
              "      <td>1</td>\n",
              "    </tr>\n",
              "    <tr>\n",
              "      <th>2</th>\n",
              "      <td>82</td>\n",
              "      <td>23.124670</td>\n",
              "      <td>91</td>\n",
              "      <td>4.498</td>\n",
              "      <td>1.009651</td>\n",
              "      <td>17.9393</td>\n",
              "      <td>22.432040</td>\n",
              "      <td>9.27715</td>\n",
              "      <td>554.697</td>\n",
              "      <td>1</td>\n",
              "    </tr>\n",
              "    <tr>\n",
              "      <th>3</th>\n",
              "      <td>68</td>\n",
              "      <td>21.367521</td>\n",
              "      <td>77</td>\n",
              "      <td>3.226</td>\n",
              "      <td>0.612725</td>\n",
              "      <td>9.8827</td>\n",
              "      <td>7.169560</td>\n",
              "      <td>12.76600</td>\n",
              "      <td>928.220</td>\n",
              "      <td>1</td>\n",
              "    </tr>\n",
              "    <tr>\n",
              "      <th>4</th>\n",
              "      <td>86</td>\n",
              "      <td>21.111111</td>\n",
              "      <td>92</td>\n",
              "      <td>3.549</td>\n",
              "      <td>0.805386</td>\n",
              "      <td>6.6994</td>\n",
              "      <td>4.819240</td>\n",
              "      <td>10.57635</td>\n",
              "      <td>773.920</td>\n",
              "      <td>1</td>\n",
              "    </tr>\n",
              "  </tbody>\n",
              "</table>\n",
              "</div>\n",
              "      <button class=\"colab-df-convert\" onclick=\"convertToInteractive('df-8cf82b95-3760-434a-9ce9-98d76d80c7c5')\"\n",
              "              title=\"Convert this dataframe to an interactive table.\"\n",
              "              style=\"display:none;\">\n",
              "        \n",
              "  <svg xmlns=\"http://www.w3.org/2000/svg\" height=\"24px\"viewBox=\"0 0 24 24\"\n",
              "       width=\"24px\">\n",
              "    <path d=\"M0 0h24v24H0V0z\" fill=\"none\"/>\n",
              "    <path d=\"M18.56 5.44l.94 2.06.94-2.06 2.06-.94-2.06-.94-.94-2.06-.94 2.06-2.06.94zm-11 1L8.5 8.5l.94-2.06 2.06-.94-2.06-.94L8.5 2.5l-.94 2.06-2.06.94zm10 10l.94 2.06.94-2.06 2.06-.94-2.06-.94-.94-2.06-.94 2.06-2.06.94z\"/><path d=\"M17.41 7.96l-1.37-1.37c-.4-.4-.92-.59-1.43-.59-.52 0-1.04.2-1.43.59L10.3 9.45l-7.72 7.72c-.78.78-.78 2.05 0 2.83L4 21.41c.39.39.9.59 1.41.59.51 0 1.02-.2 1.41-.59l7.78-7.78 2.81-2.81c.8-.78.8-2.07 0-2.86zM5.41 20L4 18.59l7.72-7.72 1.47 1.35L5.41 20z\"/>\n",
              "  </svg>\n",
              "      </button>\n",
              "      \n",
              "  <style>\n",
              "    .colab-df-container {\n",
              "      display:flex;\n",
              "      flex-wrap:wrap;\n",
              "      gap: 12px;\n",
              "    }\n",
              "\n",
              "    .colab-df-convert {\n",
              "      background-color: #E8F0FE;\n",
              "      border: none;\n",
              "      border-radius: 50%;\n",
              "      cursor: pointer;\n",
              "      display: none;\n",
              "      fill: #1967D2;\n",
              "      height: 32px;\n",
              "      padding: 0 0 0 0;\n",
              "      width: 32px;\n",
              "    }\n",
              "\n",
              "    .colab-df-convert:hover {\n",
              "      background-color: #E2EBFA;\n",
              "      box-shadow: 0px 1px 2px rgba(60, 64, 67, 0.3), 0px 1px 3px 1px rgba(60, 64, 67, 0.15);\n",
              "      fill: #174EA6;\n",
              "    }\n",
              "\n",
              "    [theme=dark] .colab-df-convert {\n",
              "      background-color: #3B4455;\n",
              "      fill: #D2E3FC;\n",
              "    }\n",
              "\n",
              "    [theme=dark] .colab-df-convert:hover {\n",
              "      background-color: #434B5C;\n",
              "      box-shadow: 0px 1px 3px 1px rgba(0, 0, 0, 0.15);\n",
              "      filter: drop-shadow(0px 1px 2px rgba(0, 0, 0, 0.3));\n",
              "      fill: #FFFFFF;\n",
              "    }\n",
              "  </style>\n",
              "\n",
              "      <script>\n",
              "        const buttonEl =\n",
              "          document.querySelector('#df-8cf82b95-3760-434a-9ce9-98d76d80c7c5 button.colab-df-convert');\n",
              "        buttonEl.style.display =\n",
              "          google.colab.kernel.accessAllowed ? 'block' : 'none';\n",
              "\n",
              "        async function convertToInteractive(key) {\n",
              "          const element = document.querySelector('#df-8cf82b95-3760-434a-9ce9-98d76d80c7c5');\n",
              "          const dataTable =\n",
              "            await google.colab.kernel.invokeFunction('convertToInteractive',\n",
              "                                                     [key], {});\n",
              "          if (!dataTable) return;\n",
              "\n",
              "          const docLinkHtml = 'Like what you see? Visit the ' +\n",
              "            '<a target=\"_blank\" href=https://colab.research.google.com/notebooks/data_table.ipynb>data table notebook</a>'\n",
              "            + ' to learn more about interactive tables.';\n",
              "          element.innerHTML = '';\n",
              "          dataTable['output_type'] = 'display_data';\n",
              "          await google.colab.output.renderOutput(dataTable, element);\n",
              "          const docLink = document.createElement('div');\n",
              "          docLink.innerHTML = docLinkHtml;\n",
              "          element.appendChild(docLink);\n",
              "        }\n",
              "      </script>\n",
              "    </div>\n",
              "  </div>\n",
              "  "
            ]
          },
          "metadata": {},
          "execution_count": 39
        }
      ]
    },
    {
      "cell_type": "markdown",
      "source": [
        "- Para alterar as variaveis para melhorar o modelo vamos dar uma olhada nos gráficos e nas observações feitas no começo desse projeto, onde olhando a o gráfico as váriaveis que menos tinham relação com a classificação, são a \"Leptin\" e a \"adiponectin\".\n",
        "- Então vamos tentar refazer o modelo com sem estes dados."
      ],
      "metadata": {
        "id": "9nL3rGekHcGO"
      }
    },
    {
      "cell_type": "code",
      "source": [
        "X = cancer.drop([\"Classification\",'Leptin'], axis=1)"
      ],
      "metadata": {
        "id": "KLzsMmmn-pbi"
      },
      "execution_count": null,
      "outputs": []
    },
    {
      "cell_type": "code",
      "source": [
        "resultado2 = metodo_sklearn(X,y) \n",
        "resultado2"
      ],
      "metadata": {
        "colab": {
          "base_uri": "https://localhost:8080/",
          "height": 112
        },
        "id": "fzOROfirvnxv",
        "outputId": "6db7fc1d-4139-47db-d1b7-a5dd0f8f1531"
      },
      "execution_count": null,
      "outputs": [
        {
          "output_type": "execute_result",
          "data": {
            "text/plain": [
              "                       Predito Câncer  Predito Não Câncer\n",
              "Verdadeiro Câncer                  10                   2\n",
              "Verdadeiro Não Câncer               1                  11"
            ],
            "text/html": [
              "\n",
              "  <div id=\"df-1461952e-932c-42d5-8002-51853014d7d4\">\n",
              "    <div class=\"colab-df-container\">\n",
              "      <div>\n",
              "<style scoped>\n",
              "    .dataframe tbody tr th:only-of-type {\n",
              "        vertical-align: middle;\n",
              "    }\n",
              "\n",
              "    .dataframe tbody tr th {\n",
              "        vertical-align: top;\n",
              "    }\n",
              "\n",
              "    .dataframe thead th {\n",
              "        text-align: right;\n",
              "    }\n",
              "</style>\n",
              "<table border=\"1\" class=\"dataframe\">\n",
              "  <thead>\n",
              "    <tr style=\"text-align: right;\">\n",
              "      <th></th>\n",
              "      <th>Predito Câncer</th>\n",
              "      <th>Predito Não Câncer</th>\n",
              "    </tr>\n",
              "  </thead>\n",
              "  <tbody>\n",
              "    <tr>\n",
              "      <th>Verdadeiro Câncer</th>\n",
              "      <td>10</td>\n",
              "      <td>2</td>\n",
              "    </tr>\n",
              "    <tr>\n",
              "      <th>Verdadeiro Não Câncer</th>\n",
              "      <td>1</td>\n",
              "      <td>11</td>\n",
              "    </tr>\n",
              "  </tbody>\n",
              "</table>\n",
              "</div>\n",
              "      <button class=\"colab-df-convert\" onclick=\"convertToInteractive('df-1461952e-932c-42d5-8002-51853014d7d4')\"\n",
              "              title=\"Convert this dataframe to an interactive table.\"\n",
              "              style=\"display:none;\">\n",
              "        \n",
              "  <svg xmlns=\"http://www.w3.org/2000/svg\" height=\"24px\"viewBox=\"0 0 24 24\"\n",
              "       width=\"24px\">\n",
              "    <path d=\"M0 0h24v24H0V0z\" fill=\"none\"/>\n",
              "    <path d=\"M18.56 5.44l.94 2.06.94-2.06 2.06-.94-2.06-.94-.94-2.06-.94 2.06-2.06.94zm-11 1L8.5 8.5l.94-2.06 2.06-.94-2.06-.94L8.5 2.5l-.94 2.06-2.06.94zm10 10l.94 2.06.94-2.06 2.06-.94-2.06-.94-.94-2.06-.94 2.06-2.06.94z\"/><path d=\"M17.41 7.96l-1.37-1.37c-.4-.4-.92-.59-1.43-.59-.52 0-1.04.2-1.43.59L10.3 9.45l-7.72 7.72c-.78.78-.78 2.05 0 2.83L4 21.41c.39.39.9.59 1.41.59.51 0 1.02-.2 1.41-.59l7.78-7.78 2.81-2.81c.8-.78.8-2.07 0-2.86zM5.41 20L4 18.59l7.72-7.72 1.47 1.35L5.41 20z\"/>\n",
              "  </svg>\n",
              "      </button>\n",
              "      \n",
              "  <style>\n",
              "    .colab-df-container {\n",
              "      display:flex;\n",
              "      flex-wrap:wrap;\n",
              "      gap: 12px;\n",
              "    }\n",
              "\n",
              "    .colab-df-convert {\n",
              "      background-color: #E8F0FE;\n",
              "      border: none;\n",
              "      border-radius: 50%;\n",
              "      cursor: pointer;\n",
              "      display: none;\n",
              "      fill: #1967D2;\n",
              "      height: 32px;\n",
              "      padding: 0 0 0 0;\n",
              "      width: 32px;\n",
              "    }\n",
              "\n",
              "    .colab-df-convert:hover {\n",
              "      background-color: #E2EBFA;\n",
              "      box-shadow: 0px 1px 2px rgba(60, 64, 67, 0.3), 0px 1px 3px 1px rgba(60, 64, 67, 0.15);\n",
              "      fill: #174EA6;\n",
              "    }\n",
              "\n",
              "    [theme=dark] .colab-df-convert {\n",
              "      background-color: #3B4455;\n",
              "      fill: #D2E3FC;\n",
              "    }\n",
              "\n",
              "    [theme=dark] .colab-df-convert:hover {\n",
              "      background-color: #434B5C;\n",
              "      box-shadow: 0px 1px 3px 1px rgba(0, 0, 0, 0.15);\n",
              "      filter: drop-shadow(0px 1px 2px rgba(0, 0, 0, 0.3));\n",
              "      fill: #FFFFFF;\n",
              "    }\n",
              "  </style>\n",
              "\n",
              "      <script>\n",
              "        const buttonEl =\n",
              "          document.querySelector('#df-1461952e-932c-42d5-8002-51853014d7d4 button.colab-df-convert');\n",
              "        buttonEl.style.display =\n",
              "          google.colab.kernel.accessAllowed ? 'block' : 'none';\n",
              "\n",
              "        async function convertToInteractive(key) {\n",
              "          const element = document.querySelector('#df-1461952e-932c-42d5-8002-51853014d7d4');\n",
              "          const dataTable =\n",
              "            await google.colab.kernel.invokeFunction('convertToInteractive',\n",
              "                                                     [key], {});\n",
              "          if (!dataTable) return;\n",
              "\n",
              "          const docLinkHtml = 'Like what you see? Visit the ' +\n",
              "            '<a target=\"_blank\" href=https://colab.research.google.com/notebooks/data_table.ipynb>data table notebook</a>'\n",
              "            + ' to learn more about interactive tables.';\n",
              "          element.innerHTML = '';\n",
              "          dataTable['output_type'] = 'display_data';\n",
              "          await google.colab.output.renderOutput(dataTable, element);\n",
              "          const docLink = document.createElement('div');\n",
              "          docLink.innerHTML = docLinkHtml;\n",
              "          element.appendChild(docLink);\n",
              "        }\n",
              "      </script>\n",
              "    </div>\n",
              "  </div>\n",
              "  "
            ]
          },
          "metadata": {},
          "execution_count": 41
        }
      ]
    },
    {
      "cell_type": "code",
      "source": [
        "modelo = \"modelo 2\"\n",
        "metricas_finais(resultado2,modelo)"
      ],
      "metadata": {
        "colab": {
          "base_uri": "https://localhost:8080/",
          "height": 175
        },
        "id": "eRD0IYvJvrIK",
        "outputId": "2fd18af5-13a5-4f49-8de6-c6a64feef0ba"
      },
      "execution_count": null,
      "outputs": [
        {
          "output_type": "execute_result",
          "data": {
            "text/plain": [
              "         Métricas  modelo 1  modelo 2\n",
              "0        Acurácia  0.833333  0.875000\n",
              "1        Precisão  0.833333  0.846154\n",
              "2  Especificidade  0.833333  0.833333\n",
              "3   Sensitividade  0.833333  0.916667"
            ],
            "text/html": [
              "\n",
              "  <div id=\"df-1a5ed1c1-51f0-45c0-a08b-71c502a554c9\">\n",
              "    <div class=\"colab-df-container\">\n",
              "      <div>\n",
              "<style scoped>\n",
              "    .dataframe tbody tr th:only-of-type {\n",
              "        vertical-align: middle;\n",
              "    }\n",
              "\n",
              "    .dataframe tbody tr th {\n",
              "        vertical-align: top;\n",
              "    }\n",
              "\n",
              "    .dataframe thead th {\n",
              "        text-align: right;\n",
              "    }\n",
              "</style>\n",
              "<table border=\"1\" class=\"dataframe\">\n",
              "  <thead>\n",
              "    <tr style=\"text-align: right;\">\n",
              "      <th></th>\n",
              "      <th>Métricas</th>\n",
              "      <th>modelo 1</th>\n",
              "      <th>modelo 2</th>\n",
              "    </tr>\n",
              "  </thead>\n",
              "  <tbody>\n",
              "    <tr>\n",
              "      <th>0</th>\n",
              "      <td>Acurácia</td>\n",
              "      <td>0.833333</td>\n",
              "      <td>0.875000</td>\n",
              "    </tr>\n",
              "    <tr>\n",
              "      <th>1</th>\n",
              "      <td>Precisão</td>\n",
              "      <td>0.833333</td>\n",
              "      <td>0.846154</td>\n",
              "    </tr>\n",
              "    <tr>\n",
              "      <th>2</th>\n",
              "      <td>Especificidade</td>\n",
              "      <td>0.833333</td>\n",
              "      <td>0.833333</td>\n",
              "    </tr>\n",
              "    <tr>\n",
              "      <th>3</th>\n",
              "      <td>Sensitividade</td>\n",
              "      <td>0.833333</td>\n",
              "      <td>0.916667</td>\n",
              "    </tr>\n",
              "  </tbody>\n",
              "</table>\n",
              "</div>\n",
              "      <button class=\"colab-df-convert\" onclick=\"convertToInteractive('df-1a5ed1c1-51f0-45c0-a08b-71c502a554c9')\"\n",
              "              title=\"Convert this dataframe to an interactive table.\"\n",
              "              style=\"display:none;\">\n",
              "        \n",
              "  <svg xmlns=\"http://www.w3.org/2000/svg\" height=\"24px\"viewBox=\"0 0 24 24\"\n",
              "       width=\"24px\">\n",
              "    <path d=\"M0 0h24v24H0V0z\" fill=\"none\"/>\n",
              "    <path d=\"M18.56 5.44l.94 2.06.94-2.06 2.06-.94-2.06-.94-.94-2.06-.94 2.06-2.06.94zm-11 1L8.5 8.5l.94-2.06 2.06-.94-2.06-.94L8.5 2.5l-.94 2.06-2.06.94zm10 10l.94 2.06.94-2.06 2.06-.94-2.06-.94-.94-2.06-.94 2.06-2.06.94z\"/><path d=\"M17.41 7.96l-1.37-1.37c-.4-.4-.92-.59-1.43-.59-.52 0-1.04.2-1.43.59L10.3 9.45l-7.72 7.72c-.78.78-.78 2.05 0 2.83L4 21.41c.39.39.9.59 1.41.59.51 0 1.02-.2 1.41-.59l7.78-7.78 2.81-2.81c.8-.78.8-2.07 0-2.86zM5.41 20L4 18.59l7.72-7.72 1.47 1.35L5.41 20z\"/>\n",
              "  </svg>\n",
              "      </button>\n",
              "      \n",
              "  <style>\n",
              "    .colab-df-container {\n",
              "      display:flex;\n",
              "      flex-wrap:wrap;\n",
              "      gap: 12px;\n",
              "    }\n",
              "\n",
              "    .colab-df-convert {\n",
              "      background-color: #E8F0FE;\n",
              "      border: none;\n",
              "      border-radius: 50%;\n",
              "      cursor: pointer;\n",
              "      display: none;\n",
              "      fill: #1967D2;\n",
              "      height: 32px;\n",
              "      padding: 0 0 0 0;\n",
              "      width: 32px;\n",
              "    }\n",
              "\n",
              "    .colab-df-convert:hover {\n",
              "      background-color: #E2EBFA;\n",
              "      box-shadow: 0px 1px 2px rgba(60, 64, 67, 0.3), 0px 1px 3px 1px rgba(60, 64, 67, 0.15);\n",
              "      fill: #174EA6;\n",
              "    }\n",
              "\n",
              "    [theme=dark] .colab-df-convert {\n",
              "      background-color: #3B4455;\n",
              "      fill: #D2E3FC;\n",
              "    }\n",
              "\n",
              "    [theme=dark] .colab-df-convert:hover {\n",
              "      background-color: #434B5C;\n",
              "      box-shadow: 0px 1px 3px 1px rgba(0, 0, 0, 0.15);\n",
              "      filter: drop-shadow(0px 1px 2px rgba(0, 0, 0, 0.3));\n",
              "      fill: #FFFFFF;\n",
              "    }\n",
              "  </style>\n",
              "\n",
              "      <script>\n",
              "        const buttonEl =\n",
              "          document.querySelector('#df-1a5ed1c1-51f0-45c0-a08b-71c502a554c9 button.colab-df-convert');\n",
              "        buttonEl.style.display =\n",
              "          google.colab.kernel.accessAllowed ? 'block' : 'none';\n",
              "\n",
              "        async function convertToInteractive(key) {\n",
              "          const element = document.querySelector('#df-1a5ed1c1-51f0-45c0-a08b-71c502a554c9');\n",
              "          const dataTable =\n",
              "            await google.colab.kernel.invokeFunction('convertToInteractive',\n",
              "                                                     [key], {});\n",
              "          if (!dataTable) return;\n",
              "\n",
              "          const docLinkHtml = 'Like what you see? Visit the ' +\n",
              "            '<a target=\"_blank\" href=https://colab.research.google.com/notebooks/data_table.ipynb>data table notebook</a>'\n",
              "            + ' to learn more about interactive tables.';\n",
              "          element.innerHTML = '';\n",
              "          dataTable['output_type'] = 'display_data';\n",
              "          await google.colab.output.renderOutput(dataTable, element);\n",
              "          const docLink = document.createElement('div');\n",
              "          docLink.innerHTML = docLinkHtml;\n",
              "          element.appendChild(docLink);\n",
              "        }\n",
              "      </script>\n",
              "    </div>\n",
              "  </div>\n",
              "  "
            ]
          },
          "metadata": {},
          "execution_count": 42
        }
      ]
    },
    {
      "cell_type": "markdown",
      "source": [
        "- Pudemos perceber que houve uma melhora nas nossas métricas tirando a variavel \"Leptin\", mais precisamente no erro tipo II.\n",
        "- Vamos tentar agora com a variável \"Adiponectin\" para ver se conseguimos ver alguma diferença."
      ],
      "metadata": {
        "id": "iT-PYwCd_Kbu"
      }
    },
    {
      "cell_type": "code",
      "source": [
        "X = cancer.drop([\"Classification\",'Adiponectin'], axis=1)"
      ],
      "metadata": {
        "id": "xiSrG8rc_2wq"
      },
      "execution_count": null,
      "outputs": []
    },
    {
      "cell_type": "code",
      "source": [
        "resultado3 = metodo_sklearn(X,y) \n",
        "resultado3"
      ],
      "metadata": {
        "colab": {
          "base_uri": "https://localhost:8080/",
          "height": 112
        },
        "id": "pvMPx4Fk_4a4",
        "outputId": "11ea95c4-8458-4f1b-883c-e30500b68cc2"
      },
      "execution_count": null,
      "outputs": [
        {
          "output_type": "execute_result",
          "data": {
            "text/plain": [
              "                       Predito Câncer  Predito Não Câncer\n",
              "Verdadeiro Câncer                  10                   2\n",
              "Verdadeiro Não Câncer               1                  11"
            ],
            "text/html": [
              "\n",
              "  <div id=\"df-5557c392-54d3-4a68-9534-50d7c0d49c31\">\n",
              "    <div class=\"colab-df-container\">\n",
              "      <div>\n",
              "<style scoped>\n",
              "    .dataframe tbody tr th:only-of-type {\n",
              "        vertical-align: middle;\n",
              "    }\n",
              "\n",
              "    .dataframe tbody tr th {\n",
              "        vertical-align: top;\n",
              "    }\n",
              "\n",
              "    .dataframe thead th {\n",
              "        text-align: right;\n",
              "    }\n",
              "</style>\n",
              "<table border=\"1\" class=\"dataframe\">\n",
              "  <thead>\n",
              "    <tr style=\"text-align: right;\">\n",
              "      <th></th>\n",
              "      <th>Predito Câncer</th>\n",
              "      <th>Predito Não Câncer</th>\n",
              "    </tr>\n",
              "  </thead>\n",
              "  <tbody>\n",
              "    <tr>\n",
              "      <th>Verdadeiro Câncer</th>\n",
              "      <td>10</td>\n",
              "      <td>2</td>\n",
              "    </tr>\n",
              "    <tr>\n",
              "      <th>Verdadeiro Não Câncer</th>\n",
              "      <td>1</td>\n",
              "      <td>11</td>\n",
              "    </tr>\n",
              "  </tbody>\n",
              "</table>\n",
              "</div>\n",
              "      <button class=\"colab-df-convert\" onclick=\"convertToInteractive('df-5557c392-54d3-4a68-9534-50d7c0d49c31')\"\n",
              "              title=\"Convert this dataframe to an interactive table.\"\n",
              "              style=\"display:none;\">\n",
              "        \n",
              "  <svg xmlns=\"http://www.w3.org/2000/svg\" height=\"24px\"viewBox=\"0 0 24 24\"\n",
              "       width=\"24px\">\n",
              "    <path d=\"M0 0h24v24H0V0z\" fill=\"none\"/>\n",
              "    <path d=\"M18.56 5.44l.94 2.06.94-2.06 2.06-.94-2.06-.94-.94-2.06-.94 2.06-2.06.94zm-11 1L8.5 8.5l.94-2.06 2.06-.94-2.06-.94L8.5 2.5l-.94 2.06-2.06.94zm10 10l.94 2.06.94-2.06 2.06-.94-2.06-.94-.94-2.06-.94 2.06-2.06.94z\"/><path d=\"M17.41 7.96l-1.37-1.37c-.4-.4-.92-.59-1.43-.59-.52 0-1.04.2-1.43.59L10.3 9.45l-7.72 7.72c-.78.78-.78 2.05 0 2.83L4 21.41c.39.39.9.59 1.41.59.51 0 1.02-.2 1.41-.59l7.78-7.78 2.81-2.81c.8-.78.8-2.07 0-2.86zM5.41 20L4 18.59l7.72-7.72 1.47 1.35L5.41 20z\"/>\n",
              "  </svg>\n",
              "      </button>\n",
              "      \n",
              "  <style>\n",
              "    .colab-df-container {\n",
              "      display:flex;\n",
              "      flex-wrap:wrap;\n",
              "      gap: 12px;\n",
              "    }\n",
              "\n",
              "    .colab-df-convert {\n",
              "      background-color: #E8F0FE;\n",
              "      border: none;\n",
              "      border-radius: 50%;\n",
              "      cursor: pointer;\n",
              "      display: none;\n",
              "      fill: #1967D2;\n",
              "      height: 32px;\n",
              "      padding: 0 0 0 0;\n",
              "      width: 32px;\n",
              "    }\n",
              "\n",
              "    .colab-df-convert:hover {\n",
              "      background-color: #E2EBFA;\n",
              "      box-shadow: 0px 1px 2px rgba(60, 64, 67, 0.3), 0px 1px 3px 1px rgba(60, 64, 67, 0.15);\n",
              "      fill: #174EA6;\n",
              "    }\n",
              "\n",
              "    [theme=dark] .colab-df-convert {\n",
              "      background-color: #3B4455;\n",
              "      fill: #D2E3FC;\n",
              "    }\n",
              "\n",
              "    [theme=dark] .colab-df-convert:hover {\n",
              "      background-color: #434B5C;\n",
              "      box-shadow: 0px 1px 3px 1px rgba(0, 0, 0, 0.15);\n",
              "      filter: drop-shadow(0px 1px 2px rgba(0, 0, 0, 0.3));\n",
              "      fill: #FFFFFF;\n",
              "    }\n",
              "  </style>\n",
              "\n",
              "      <script>\n",
              "        const buttonEl =\n",
              "          document.querySelector('#df-5557c392-54d3-4a68-9534-50d7c0d49c31 button.colab-df-convert');\n",
              "        buttonEl.style.display =\n",
              "          google.colab.kernel.accessAllowed ? 'block' : 'none';\n",
              "\n",
              "        async function convertToInteractive(key) {\n",
              "          const element = document.querySelector('#df-5557c392-54d3-4a68-9534-50d7c0d49c31');\n",
              "          const dataTable =\n",
              "            await google.colab.kernel.invokeFunction('convertToInteractive',\n",
              "                                                     [key], {});\n",
              "          if (!dataTable) return;\n",
              "\n",
              "          const docLinkHtml = 'Like what you see? Visit the ' +\n",
              "            '<a target=\"_blank\" href=https://colab.research.google.com/notebooks/data_table.ipynb>data table notebook</a>'\n",
              "            + ' to learn more about interactive tables.';\n",
              "          element.innerHTML = '';\n",
              "          dataTable['output_type'] = 'display_data';\n",
              "          await google.colab.output.renderOutput(dataTable, element);\n",
              "          const docLink = document.createElement('div');\n",
              "          docLink.innerHTML = docLinkHtml;\n",
              "          element.appendChild(docLink);\n",
              "        }\n",
              "      </script>\n",
              "    </div>\n",
              "  </div>\n",
              "  "
            ]
          },
          "metadata": {},
          "execution_count": 44
        }
      ]
    },
    {
      "cell_type": "code",
      "source": [
        "modelo = \"modelo 3\"\n",
        "metricas_finais(resultado3,modelo)"
      ],
      "metadata": {
        "colab": {
          "base_uri": "https://localhost:8080/",
          "height": 175
        },
        "id": "l-gvjAGq_873",
        "outputId": "27d88951-96b2-4455-b57a-bb16ad93bb0f"
      },
      "execution_count": null,
      "outputs": [
        {
          "output_type": "execute_result",
          "data": {
            "text/plain": [
              "         Métricas  modelo 1  modelo 2  modelo 3\n",
              "0        Acurácia  0.833333  0.875000  0.875000\n",
              "1        Precisão  0.833333  0.846154  0.846154\n",
              "2  Especificidade  0.833333  0.833333  0.833333\n",
              "3   Sensitividade  0.833333  0.916667  0.916667"
            ],
            "text/html": [
              "\n",
              "  <div id=\"df-1fe68e2b-04dd-43ea-8d94-2e75bc9d9ab9\">\n",
              "    <div class=\"colab-df-container\">\n",
              "      <div>\n",
              "<style scoped>\n",
              "    .dataframe tbody tr th:only-of-type {\n",
              "        vertical-align: middle;\n",
              "    }\n",
              "\n",
              "    .dataframe tbody tr th {\n",
              "        vertical-align: top;\n",
              "    }\n",
              "\n",
              "    .dataframe thead th {\n",
              "        text-align: right;\n",
              "    }\n",
              "</style>\n",
              "<table border=\"1\" class=\"dataframe\">\n",
              "  <thead>\n",
              "    <tr style=\"text-align: right;\">\n",
              "      <th></th>\n",
              "      <th>Métricas</th>\n",
              "      <th>modelo 1</th>\n",
              "      <th>modelo 2</th>\n",
              "      <th>modelo 3</th>\n",
              "    </tr>\n",
              "  </thead>\n",
              "  <tbody>\n",
              "    <tr>\n",
              "      <th>0</th>\n",
              "      <td>Acurácia</td>\n",
              "      <td>0.833333</td>\n",
              "      <td>0.875000</td>\n",
              "      <td>0.875000</td>\n",
              "    </tr>\n",
              "    <tr>\n",
              "      <th>1</th>\n",
              "      <td>Precisão</td>\n",
              "      <td>0.833333</td>\n",
              "      <td>0.846154</td>\n",
              "      <td>0.846154</td>\n",
              "    </tr>\n",
              "    <tr>\n",
              "      <th>2</th>\n",
              "      <td>Especificidade</td>\n",
              "      <td>0.833333</td>\n",
              "      <td>0.833333</td>\n",
              "      <td>0.833333</td>\n",
              "    </tr>\n",
              "    <tr>\n",
              "      <th>3</th>\n",
              "      <td>Sensitividade</td>\n",
              "      <td>0.833333</td>\n",
              "      <td>0.916667</td>\n",
              "      <td>0.916667</td>\n",
              "    </tr>\n",
              "  </tbody>\n",
              "</table>\n",
              "</div>\n",
              "      <button class=\"colab-df-convert\" onclick=\"convertToInteractive('df-1fe68e2b-04dd-43ea-8d94-2e75bc9d9ab9')\"\n",
              "              title=\"Convert this dataframe to an interactive table.\"\n",
              "              style=\"display:none;\">\n",
              "        \n",
              "  <svg xmlns=\"http://www.w3.org/2000/svg\" height=\"24px\"viewBox=\"0 0 24 24\"\n",
              "       width=\"24px\">\n",
              "    <path d=\"M0 0h24v24H0V0z\" fill=\"none\"/>\n",
              "    <path d=\"M18.56 5.44l.94 2.06.94-2.06 2.06-.94-2.06-.94-.94-2.06-.94 2.06-2.06.94zm-11 1L8.5 8.5l.94-2.06 2.06-.94-2.06-.94L8.5 2.5l-.94 2.06-2.06.94zm10 10l.94 2.06.94-2.06 2.06-.94-2.06-.94-.94-2.06-.94 2.06-2.06.94z\"/><path d=\"M17.41 7.96l-1.37-1.37c-.4-.4-.92-.59-1.43-.59-.52 0-1.04.2-1.43.59L10.3 9.45l-7.72 7.72c-.78.78-.78 2.05 0 2.83L4 21.41c.39.39.9.59 1.41.59.51 0 1.02-.2 1.41-.59l7.78-7.78 2.81-2.81c.8-.78.8-2.07 0-2.86zM5.41 20L4 18.59l7.72-7.72 1.47 1.35L5.41 20z\"/>\n",
              "  </svg>\n",
              "      </button>\n",
              "      \n",
              "  <style>\n",
              "    .colab-df-container {\n",
              "      display:flex;\n",
              "      flex-wrap:wrap;\n",
              "      gap: 12px;\n",
              "    }\n",
              "\n",
              "    .colab-df-convert {\n",
              "      background-color: #E8F0FE;\n",
              "      border: none;\n",
              "      border-radius: 50%;\n",
              "      cursor: pointer;\n",
              "      display: none;\n",
              "      fill: #1967D2;\n",
              "      height: 32px;\n",
              "      padding: 0 0 0 0;\n",
              "      width: 32px;\n",
              "    }\n",
              "\n",
              "    .colab-df-convert:hover {\n",
              "      background-color: #E2EBFA;\n",
              "      box-shadow: 0px 1px 2px rgba(60, 64, 67, 0.3), 0px 1px 3px 1px rgba(60, 64, 67, 0.15);\n",
              "      fill: #174EA6;\n",
              "    }\n",
              "\n",
              "    [theme=dark] .colab-df-convert {\n",
              "      background-color: #3B4455;\n",
              "      fill: #D2E3FC;\n",
              "    }\n",
              "\n",
              "    [theme=dark] .colab-df-convert:hover {\n",
              "      background-color: #434B5C;\n",
              "      box-shadow: 0px 1px 3px 1px rgba(0, 0, 0, 0.15);\n",
              "      filter: drop-shadow(0px 1px 2px rgba(0, 0, 0, 0.3));\n",
              "      fill: #FFFFFF;\n",
              "    }\n",
              "  </style>\n",
              "\n",
              "      <script>\n",
              "        const buttonEl =\n",
              "          document.querySelector('#df-1fe68e2b-04dd-43ea-8d94-2e75bc9d9ab9 button.colab-df-convert');\n",
              "        buttonEl.style.display =\n",
              "          google.colab.kernel.accessAllowed ? 'block' : 'none';\n",
              "\n",
              "        async function convertToInteractive(key) {\n",
              "          const element = document.querySelector('#df-1fe68e2b-04dd-43ea-8d94-2e75bc9d9ab9');\n",
              "          const dataTable =\n",
              "            await google.colab.kernel.invokeFunction('convertToInteractive',\n",
              "                                                     [key], {});\n",
              "          if (!dataTable) return;\n",
              "\n",
              "          const docLinkHtml = 'Like what you see? Visit the ' +\n",
              "            '<a target=\"_blank\" href=https://colab.research.google.com/notebooks/data_table.ipynb>data table notebook</a>'\n",
              "            + ' to learn more about interactive tables.';\n",
              "          element.innerHTML = '';\n",
              "          dataTable['output_type'] = 'display_data';\n",
              "          await google.colab.output.renderOutput(dataTable, element);\n",
              "          const docLink = document.createElement('div');\n",
              "          docLink.innerHTML = docLinkHtml;\n",
              "          element.appendChild(docLink);\n",
              "        }\n",
              "      </script>\n",
              "    </div>\n",
              "  </div>\n",
              "  "
            ]
          },
          "metadata": {},
          "execution_count": 45
        }
      ]
    },
    {
      "cell_type": "markdown",
      "source": [
        "Podemos ver que não houve diferença nenhuma em relação ao modelo 2. O que podemos confirmar que o nosso modelo tende a ter mais erros do tipo I do que do tipo II."
      ],
      "metadata": {
        "id": "T0o46TAZADAM"
      }
    },
    {
      "cell_type": "markdown",
      "source": [
        "- Para finalizar este trabalho iremos comentar um pouco o que, talvez, poderia ter sido feito para melhorar ainda mais as métricas finais. \n",
        "- Como estamos trabalhando com saúde, mais precisamente com uma área muito critica, onde qualquer erro pode custar a vida ou danos físicos e até mentais, acredito que temos sempre que buscar o erro 0. Porem sabemos que isso é praticamente impossível, mas precisamos sempre buscar minimizar o erro o máximo possível. \n",
        "- Para isso, neste caso, acredito que primeiramente teríamos que buscar mais dados, mais informações, mais números de pacientes, nossa base de dados é pequena para uma análise completa. Mas também entendemos que o objetivo aqui é aprender a usar os métodos e aprender a analisar os dados, e acreditamos que este objetivo foi alcançado.\n",
        "- Finalizamos este trabalho com mais um aprendizado que ajudará a seguir nosso caminho como futuro cientistas de dados."
      ],
      "metadata": {
        "id": "b5G_8JJrASE8"
      }
    }
  ],
  "metadata": {
    "kernelspec": {
      "display_name": "Python 3",
      "language": "python",
      "name": "python3"
    },
    "language_info": {
      "codemirror_mode": {
        "name": "ipython",
        "version": 3
      },
      "file_extension": ".py",
      "mimetype": "text/x-python",
      "name": "python",
      "nbconvert_exporter": "python",
      "pygments_lexer": "ipython3",
      "version": "3.8.3"
    },
    "colab": {
      "name": "Módulo 2 - Projeto 2 - Regressão Logistica - Classificação_usando_dados_de_Câncer_de_Mama",
      "provenance": [],
      "collapsed_sections": []
    }
  },
  "nbformat": 4,
  "nbformat_minor": 0
}
